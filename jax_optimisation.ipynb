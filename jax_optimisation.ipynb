{
 "cells": [
  {
   "cell_type": "markdown",
   "metadata": {},
   "source": [
    "Here we use a simple case study, generate ODE using symbolic maniupulation (`sympy`) and translate that to `jax`. \n",
    "Then we use `Diffrax` to solve the ODEs. \n",
    "Finally we use `optax` to optimize the model parameters to data"
   ]
  },
  {
   "cell_type": "markdown",
   "metadata": {},
   "source": [
    "dependencies:"
   ]
  },
  {
   "cell_type": "code",
   "execution_count": 323,
   "metadata": {},
   "outputs": [],
   "source": [
    "#!pip install optax"
   ]
  },
  {
   "cell_type": "code",
   "execution_count": 1,
   "metadata": {},
   "outputs": [],
   "source": [
    "# basics\n",
    "import numpy.random as npr\n",
    "import matplotlib.pyplot as plt\n",
    "import numpy as np\n",
    "import pandas as pd\n",
    "\n",
    "# symbolic computation:\n",
    "import sympy as sym\n",
    "from sympy2jax import sympy2jax\n",
    "\n",
    "# jax: \n",
    "import jax\n",
    "import jax.numpy as jnp\n",
    "from jax import random as jxrandom\n",
    "import jax.numpy as jnp\n",
    "\n",
    "# ODE solution Diffrax: \n",
    "from diffrax import diffeqsolve, ODETerm, Dopri5, SaveAt\n",
    "import diffrax\n",
    "\n",
    "# optimization:\n",
    "import optax"
   ]
  },
  {
   "cell_type": "markdown",
   "metadata": {},
   "source": [
    "definition of the ToyMSB model using `sympy`  \n",
    "TODOs:\n",
    "- vectorize (state-vector, parameter vector etc)\n",
    "- generate the equations from the reaction graph\n",
    "- extend the AND and OR gates to multiple inputs\n"
   ]
  },
  {
   "cell_type": "code",
   "execution_count": 2,
   "metadata": {},
   "outputs": [],
   "source": [
    "# States\n",
    "TGFa = sym.symbols(\"TGFa\")\n",
    "TNFa = sym.symbols(\"TNFa\")\n",
    "PI3K = sym.symbols(\"PI3K\")\n",
    "Raf = sym.symbols(\"Raf\")\n",
    "NFkB = sym.symbols(\"NFkB\")\n",
    "AKT = sym.symbols(\"AKT\")\n",
    "C8 = sym.symbols(\"C8\")\n",
    "ERK = sym.symbols(\"ERK\")\n",
    "\n",
    "# Tau - one for each state\n",
    "t_TGFa = sym.symbols(\"t_TGFa\")\n",
    "t_TNFa = sym.symbols(\"t_TNFa\")\n",
    "t_PI3K = sym.symbols(\"t_PI3K\")\n",
    "t_Raf = sym.symbols(\"t_Raf\")\n",
    "t_NFkB = sym.symbols(\"t_NFkB\")\n",
    "t_AKT = sym.symbols(\"t_AKT\")\n",
    "t_C8 = sym.symbols(\"t_C8\")\n",
    "t_ERK = sym.symbols(\"t_ERK\")\n",
    "\n",
    "# n and k for each edge\n",
    "TGFa_k_PI3K = sym.symbols(\"TGFa_k_PI3K\")\n",
    "TGFa_k_Raf = sym.symbols(\"TGFa_k_Raf\")\n",
    "TNFa_k_NFkB = sym.symbols(\"TNFa_k_NFkB\")\n",
    "TNFa_k_C8 = sym.symbols(\"TNFa_k_C8\")\n",
    "PI3K_k_AKT = sym.symbols(\"PI3K_k_AKT\")\n",
    "PI3K_k_NFkB = sym.symbols(\"PI3K_k_NFkB\")\n",
    "Raf_k_ERK = sym.symbols(\"Raf_k_ERK\")\n",
    "NFkB_k_ERK = sym.symbols(\"NFkB_k_ERK\")\n",
    "\n",
    "TGFa_n_PI3K = sym.symbols(\"TGFa_n_PI3K\")\n",
    "TGFa_n_Raf = sym.symbols(\"TGFa_n_Raf\")\n",
    "TNFa_n_NFkB = sym.symbols(\"TNFa_n_NFkB\")\n",
    "TNFa_n_C8 = sym.symbols(\"TNFa_n_C8\")\n",
    "PI3K_n_AKT = sym.symbols(\"PI3K_n_AKT\")\n",
    "PI3K_n_NFkB = sym.symbols(\"PI3K_n_NFkB\")\n",
    "Raf_n_ERK = sym.symbols(\"Raf_n_ERK\")\n",
    "NFkB_n_ERK = sym.symbols(\"NFkB_n_ERK\")\n",
    "\n",
    "# state names: \n",
    "sym_states = [TGFa, TNFa, PI3K, Raf, NFkB,AKT,C8,ERK]\n",
    "state_names = [\"TGFa\", \"TNFa\", \"PI3K\", \"Raf\", \"NFkB\",\"AKT\",\"C8\",\"ERK\"]\n",
    "# parameter names: tau, n and k parameters\n",
    "parameter_names = [[\"t_TGFa\", \"t_TNFa\", \"t_PI3K\", \"t_Raf\", \"t_NFkB\",\"t_AKT\",\"t_C8\",\"t_ERK\"],\n",
    "                    [\"TGFa_n_PI3K\", \"TGFa_n_Raf\", \"TNFa_n_NFkB\", \"TNFa_n_C8\",\"PI3K_n_AKT\",\"PI3K_n_NFkB\",\"Raf_n_ERK\",\"NFkB_n_ERK\"],\n",
    "                    [\"TGFa_k_PI3K\", \"TGFa_k_Raf\", \"TNFa_k_NFkB\", \"TNFa_k_C8\",\"PI3K_k_AKT\",\"PI3K_k_NFkB\",\"Raf_k_ERK\",\"NFkB_k_ERK\"]]\n",
    "\n",
    "sym_parmeters =  [t_TGFa, t_TNFa, t_PI3K, t_Raf, t_NFkB,t_AKT,t_C8,t_ERK,\n",
    "                    TGFa_n_PI3K, TGFa_n_Raf, TNFa_n_NFkB, TNFa_n_C8,PI3K_n_AKT,PI3K_n_NFkB,Raf_n_ERK,NFkB_n_ERK,\n",
    "                    TGFa_k_PI3K, TGFa_k_Raf, TNFa_k_NFkB, TNFa_k_C8,PI3K_k_AKT,PI3K_k_NFkB,Raf_k_ERK,NFkB_k_ERK]   \n",
    "\n",
    "#Experiment design:\n",
    "inhibitors = pd.DataFrame(\n",
    "    {\n",
    "        'PI3K': [0, 0, 0, 1, 1, 0],\n",
    "        'Raf': [0, 0, 0, 0, 0, 1]\n",
    "    }, \n",
    "    index = [f\"experiment_{i}\" for i in range(6)])\n",
    "    \n",
    "# normalised Hill equations (for each reactions) ( x^n / (k^n + x^n) * {1/(1/k^n + 1)} )\n",
    "def norm_hill_fun(parental_var,n,k):\n",
    "    return parental_var**n / (k**n + parental_var**n) * (k**n + 1)\n",
    "\n",
    "def ORgate(x,y):\n",
    "    return x+y-x*y \n",
    "    \n",
    "def ANDgate(x,y):\n",
    "    return x*y \n",
    "\n",
    "def get_sym_right_hand_side(iEXP = 0):\n",
    "    # right hand sides\n",
    "    f_TGFa = 0\n",
    "    f_TNFa = 0\n",
    "\n",
    "    if inhibitors[\"PI3K\"][iEXP] == 1:\n",
    "        f_PI3K = PI3K - PI3K  # 0, but symbolic:D\n",
    "    else:\n",
    "        f_PI3K = t_PI3K*(norm_hill_fun(TGFa,TGFa_n_PI3K,TGFa_k_PI3K) - PI3K)\n",
    "\n",
    "    if inhibitors[\"Raf\"][iEXP] == 1:\n",
    "        f_Raf = Raf - Raf\n",
    "    else:\n",
    "        f_Raf = t_Raf*(norm_hill_fun(TGFa,TGFa_n_Raf,TGFa_k_Raf) - Raf)\n",
    "\n",
    "    f_NFkB = t_NFkB*(ORgate(norm_hill_fun(PI3K,PI3K_n_NFkB,PI3K_k_NFkB),norm_hill_fun(TNFa,TNFa_n_NFkB,TNFa_k_NFkB)) - NFkB )\n",
    "        \n",
    "    f_AKT = t_AKT*(1-norm_hill_fun(PI3K,PI3K_n_AKT,PI3K_k_AKT) - AKT)\n",
    "    f_C8 = t_C8 * (norm_hill_fun(TNFa,TNFa_n_C8,TNFa_k_C8) - C8)\n",
    "    f_ERK = t_ERK * (ANDgate(norm_hill_fun(Raf,Raf_n_ERK,Raf_k_ERK),norm_hill_fun(NFkB,NFkB_n_ERK,NFkB_k_ERK)) - ERK)\n",
    "\n",
    "    return [f_TGFa,f_TNFa,f_PI3K,f_Raf,f_NFkB,f_AKT,f_C8,f_ERK]\n",
    "\n",
    "iexp =0\n",
    "\n",
    "# get the symbolic equation of the ODE's right hand side\n",
    "f_sym = get_sym_right_hand_side(iEXP=iexp)"
   ]
  },
  {
   "cell_type": "markdown",
   "metadata": {},
   "source": [
    "Numerical parameter values"
   ]
  },
  {
   "cell_type": "code",
   "execution_count": 3,
   "metadata": {},
   "outputs": [
    {
     "name": "stderr",
     "output_type": "stream",
     "text": [
      "WARNING:absl:No GPU/TPU found, falling back to CPU. (Set TF_CPP_MIN_LOG_LEVEL=0 and rerun for more info.)\n"
     ]
    }
   ],
   "source": [
    "# generate random numbers for the different types of parameters\n",
    "\n",
    "def generate_random_parameters(key,par_names):\n",
    "    key_tau, key_k, key_n  = jax.random.split(key,3)\n",
    "    tau_parameter_value = jax.random.uniform(key_tau,shape=(len(par_names[0]),),minval=1e-5,maxval=1)\n",
    "    k_parameter_value = jax.random.uniform(key_k,shape=(len(par_names[1]),),minval=0.5,maxval=5)\n",
    "    n_parameter_value = jax.random.uniform(key_n,shape=(len(par_names[2]),),minval=1,maxval=3)\n",
    "\n",
    "    parameter_values = jnp.concatenate((tau_parameter_value,n_parameter_value,k_parameter_value))\n",
    "    return(parameter_values)\n",
    "\n",
    "par_key = jax.random.PRNGKey(1246)\n",
    "parameter_values =  generate_random_parameters(key=par_key,par_names=parameter_names)"
   ]
  },
  {
   "cell_type": "markdown",
   "metadata": {},
   "source": [
    "Convert the symbolic ODEs to `jax` expressions"
   ]
  },
  {
   "cell_type": "code",
   "execution_count": 4,
   "metadata": {},
   "outputs": [],
   "source": [
    "all_syms = [*sym_states, *sym_parmeters]\n",
    "\n",
    "# vectorized version of sympy2jax. Converts the list of equations into a list of `jax` and `param` objects\n",
    "def symODEs2jax(f_sym):\n",
    "\n",
    "    # Construct a list of jax functions. \n",
    "    f_jax = list()\n",
    "    f_jax_params = list()\n",
    "    for i_f_sym in f_sym:\n",
    "        if i_f_sym==0:\n",
    "            f_jax.append(0)\n",
    "            f_jax_params.append(0)\n",
    "        else:\n",
    "            f, params = sympy2jax(i_f_sym, all_syms)\n",
    "            f_jax.append(f)\n",
    "            f_jax_params.append(params)\n",
    "    return   f_jax, f_jax_params\n",
    "\n",
    "f_jax, f_jax_params = symODEs2jax(f_sym)"
   ]
  },
  {
   "cell_type": "markdown",
   "metadata": {},
   "source": [
    "Formulate the ODE function that takes the state vector (`y`), time (`t`) and users' data (`args`) and returns the evaluation of the right hand side\n"
   ]
  },
  {
   "cell_type": "code",
   "execution_count": 5,
   "metadata": {},
   "outputs": [],
   "source": [
    "def jaxODE2numeric(t, y, args):\n",
    "\n",
    "    # get users data containinf the jax objects and model parameters: \n",
    "    f_jax = args[\"jax_eqns\"]\n",
    "    f_jax_p = args[\"jax_parameters\"]\n",
    "    parameter_vals = args[\"model_parameters\"]\n",
    "\n",
    "    jax_pars = [*y,*parameter_vals]\n",
    "    fy = list()\n",
    "\n",
    "    for i in range(len(y)):\n",
    "        if f_jax[i] == 0:\n",
    "            fy.append(jnp.array([0.0,])[0])\n",
    "        else:\n",
    "            fy.append(f_jax[i](jnp.array([jax_pars,]),f_jax_p[1])[0])\n",
    "    return jnp.asarray(fy)"
   ]
  },
  {
   "cell_type": "markdown",
   "metadata": {},
   "source": [
    "Solve the ODE using `diffrax`"
   ]
  },
  {
   "cell_type": "code",
   "execution_count": 6,
   "metadata": {},
   "outputs": [],
   "source": [
    "model_data = {\"jax_eqns\" : f_jax,\n",
    "         \"jax_parameters\": f_jax_params,\n",
    "         \"model_parameters\": parameter_values}\n",
    "\n",
    "def simulate_model(model_data, ts = jnp.linspace(0, 10, 100), y0= jnp.array([1., 1., 0., 0., 0., 0., 0., 0.])):\n",
    "\n",
    "    \n",
    "    term = ODETerm(jaxODE2numeric)\n",
    "\n",
    "    # ODE solvers based on the recommendation from  https://docs.kidger.site/diffrax/usage/how-to-choose-a-solver/\n",
    "    # \n",
    "    # Non-stiff solver:\n",
    "    # diffrax.Heun - low accuracy, but could be useful for neural ODEs\n",
    "    # diffrax.Tsit5 - good general purpose solver, slightly better than Dopri5\n",
    "    # \n",
    "    # Stiff solver: \n",
    "    # Kvaerno3, Kvaerno4, Kvaerno5  \n",
    "    # use adaptive step size controller PIDController\n",
    "\n",
    "    solver = diffrax.Heun()\n",
    "    solution = diffeqsolve(term, solver, t0=ts[0], t1=ts[-1], dt0=0.1, y0=y0, args = model_data, \n",
    "                saveat=SaveAt(ts=ts),stepsize_controller = diffrax.PIDController(atol=1e-3,rtol=1e-3))\n",
    "\n",
    "    return solution.ts, solution.ys"
   ]
  },
  {
   "cell_type": "code",
   "execution_count": 7,
   "metadata": {},
   "outputs": [
    {
     "data": {
      "image/png": "[encoded data removed]",
      "text/plain": [
       "<Figure size 432x288 with 1 Axes>"
      ]
     },
     "metadata": {
      "needs_background": "light"
     },
     "output_type": "display_data"
    }
   ],
   "source": [
    "sol_ts, sol_ys = simulate_model(model_data)\n",
    "\n",
    "def plot_simulation(ts,ys,names):\n",
    "\n",
    "    for istate in range(len(names)):\n",
    "        plt.plot(ts, ys[:, istate],label=names[istate])\n",
    "    plt.legend()\n",
    "    plt.show()\n",
    "plot_simulation(sol_ts,sol_ys,state_names)"
   ]
  },
  {
   "cell_type": "markdown",
   "metadata": {},
   "source": [
    "## Model optimization\n",
    "\n",
    "generate training data"
   ]
  },
  {
   "cell_type": "code",
   "execution_count": 8,
   "metadata": {},
   "outputs": [],
   "source": [
    "def get_simulated_data(N_ts, key, model_data, noise_sd):\n",
    "\n",
    "    ts = jnp.linspace(0, 10, N_ts)\n",
    "    sol_ts, sol_ys = simulate_model(model_data, ts = jnp.linspace(0, 10, N_ts))\n",
    "\n",
    "    ys = sol_ys\n",
    "    ys += noise_sd*jxrandom.normal(key,(ys.shape[0],ys.shape[1]))\n",
    "    ys = abs(ys)\n",
    "    return sol_ts, ys"
   ]
  },
  {
   "cell_type": "code",
   "execution_count": 9,
   "metadata": {},
   "outputs": [],
   "source": [
    "# random key to generate the ground truth data: \n",
    "key_GT = jax.random.PRNGKey(5678)\n",
    "par_key, noise_key = jxrandom.split(key_GT,2)\n",
    "\n",
    "# parameter values in the GT model:\n",
    "GT_parameter_values =  generate_random_parameters(key=par_key,par_names=parameter_names)\n",
    "gt_model = model_data\n",
    "gt_model['model_parameters'] = GT_parameter_values\n",
    "\n",
    "#Exp design: take 5 samples across time: \n",
    "N_samples = 5\n",
    "\n",
    "training_data = get_simulated_data(N_samples, key=noise_key, model_data = gt_model, noise_sd=0.05)\n",
    "training_data_no_noise = get_simulated_data(N_samples, key=noise_key, model_data = gt_model, noise_sd=0)"
   ]
  },
  {
   "cell_type": "markdown",
   "metadata": {},
   "source": [
    "plotting training data"
   ]
  },
  {
   "cell_type": "code",
   "execution_count": 10,
   "metadata": {},
   "outputs": [
    {
     "data": {
      "image/png": "[encoded data removed]",
      "text/plain": [
       "<Figure size 432x288 with 1 Axes>"
      ]
     },
     "metadata": {
      "needs_background": "light"
     },
     "output_type": "display_data"
    }
   ],
   "source": [
    "plot_simulation( ts=training_data[0],ys=training_data[1],names=state_names)"
   ]
  },
  {
   "cell_type": "code",
   "execution_count": 11,
   "metadata": {},
   "outputs": [
    {
     "data": {
      "image/png": "[encoded data removed]",
      "text/plain": [
       "<Figure size 432x288 with 1 Axes>"
      ]
     },
     "metadata": {
      "needs_background": "light"
     },
     "output_type": "display_data"
    }
   ],
   "source": [
    "plot_simulation( ts=training_data_no_noise[0],ys=training_data_no_noise[1],names=state_names)"
   ]
  },
  {
   "cell_type": "code",
   "execution_count": 12,
   "metadata": {},
   "outputs": [
    {
     "data": {
      "text/plain": [
       "DeviceArray(0.00245088, dtype=float32)"
      ]
     },
     "execution_count": 12,
     "metadata": {},
     "output_type": "execute_result"
    }
   ],
   "source": [
    "# mean squared error calculation. Copied from Pablo. Not sure if we need nan or if it is correctly handled for ODEs. \n",
    "# FIXME handle cases when nans are in the data or simulation\n",
    "\n",
    "def loss_mse(X,X_hat):\n",
    "    # Count the number of valid values in the matrix\n",
    "    is_nan = jnp.isnan(X)\n",
    "    n = jnp.sum(~is_nan)\n",
    "    # Replace NaNs with 0s. It does not affect the loss\n",
    "    # as we're going to compute the average ignoring 0s\n",
    "    Xf = jnp.nan_to_num(X, nan=0.)\n",
    "    # Put 0s on NaN positions\n",
    "    X_hat_f = jnp.where(is_nan, 0., X_hat)\n",
    "    # Sum of squared residuals\n",
    "    sq = jnp.power(Xf - X_hat_f, 2)\n",
    "    # Average using non missing entries\n",
    "    return jnp.sum(sq) / n\n",
    "\n",
    "\n",
    "loss_mse(training_data[1],training_data_no_noise[1])"
   ]
  },
  {
   "cell_type": "code",
   "execution_count": 13,
   "metadata": {},
   "outputs": [],
   "source": [
    "working_model_data = model_data.copy()\n",
    "\n",
    "# Loss function called by the optimizer. \n",
    "# simulates the model and returns the objective function value. \n",
    "def loss(params:optax.Params, y:jnp.ndarray) -> jnp.ndarray:\n",
    "    working_model_data[\"model_parameters\"] = params\n",
    "    \n",
    "    _, y_hat = simulate_model(ts=jnp.linspace(0, 10, N_samples), model_data=working_model_data)\n",
    "    #print(y_hat)\n",
    "    return loss_mse(y,y_hat)\n"
   ]
  },
  {
   "cell_type": "code",
   "execution_count": 14,
   "metadata": {},
   "outputs": [
    {
     "name": "stdout",
     "output_type": "stream",
     "text": [
      "0.0\n",
      "0.002450878\n",
      "0.00275029\n"
     ]
    }
   ],
   "source": [
    "# test: ground truth parameter vs noise-free training data: \n",
    "print(loss(GT_parameter_values,training_data_no_noise[1]))\n",
    "\n",
    "# test 2: ground truth parameters vs noisy data\n",
    "print(loss(GT_parameter_values,training_data[1]))\n",
    "\n",
    "# test 3: perturbed parameters vs noise free data\n",
    "perturbed_pars = GT_parameter_values + 0.1*jxrandom.normal(jax.random.PRNGKey(1),(GT_parameter_values.shape[0],))\n",
    "print(loss(perturbed_pars,training_data_no_noise[1]))"
   ]
  },
  {
   "cell_type": "code",
   "execution_count": 15,
   "metadata": {},
   "outputs": [
    {
     "name": "stdout",
     "output_type": "stream",
     "text": [
      "difference from the ground truth parameters:\n",
      "[-2.6584238e-01 -5.0790966e-02 -5.0273609e-01 -1.5214792e-01\n",
      "  1.3970900e-01  2.6006770e-01 -4.1763210e-01 -4.8793173e-01\n",
      "  3.1356645e-01 -5.3030014e-01  1.4325817e+00  5.0519371e-01\n",
      " -9.8922467e-01  2.6668882e-01  1.3079793e+00 -1.3101101e-03\n",
      " -2.0347238e-01 -1.5911324e+00  9.7999072e-01 -3.1753933e+00\n",
      " -1.1988883e+00 -6.4866185e-01  1.2459474e+00 -2.0891743e+00]\n",
      "loss with the initial parameters:\n",
      "\t0.089982614\n",
      "loss with the ground truth parameters:\n",
      "\t0.002450878\n"
     ]
    }
   ],
   "source": [
    "# Initial parameters for the optimization. \n",
    "# Make sure it is different from the ground truth :) \n",
    "# Also make sure the initial cost is worse than the simulation with the ground truth parameter vector\n",
    "\n",
    "key_optim_init_par = jax.random.PRNGKey(197)\n",
    "initial_params =  generate_random_parameters(key=key_optim_init_par,par_names=parameter_names)\n",
    "print(\"difference from the ground truth parameters:\")\n",
    "print(initial_params - GT_parameter_values)\n",
    "print(\"loss with the initial parameters:\")\n",
    "print(\"\\t\" + str(loss(initial_params,training_data[1])))\n",
    "print(\"loss with the ground truth parameters:\")\n",
    "print(\"\\t\" + str(loss(GT_parameter_values,training_data[1])))"
   ]
  },
  {
   "cell_type": "markdown",
   "metadata": {},
   "source": [
    "Compute the finite difference based grad of the loss function to see if jax returns the correct value"
   ]
  },
  {
   "cell_type": "code",
   "execution_count": 16,
   "metadata": {},
   "outputs": [
    {
     "data": {
      "text/plain": [
       "DeviceArray(0.08998261, dtype=float32)"
      ]
     },
     "execution_count": 16,
     "metadata": {},
     "output_type": "execute_result"
    }
   ],
   "source": [
    "loss(initial_params,training_data[1])\n",
    "ref = initial_params.copy()\n",
    "loss(ref,training_data[1])\n"
   ]
  },
  {
   "cell_type": "code",
   "execution_count": 17,
   "metadata": {},
   "outputs": [
    {
     "data": {
      "text/plain": [
       "array([ 0.00000000e+00,  0.00000000e+00, -5.29475510e-02, -1.54880434e-01,\n",
       "       -7.89761543e-05, -4.40329313e-04, -9.34488356e-01, -2.16804445e-02,\n",
       "       -1.49011612e-06,  1.49011612e-06,  0.00000000e+00,  0.00000000e+00,\n",
       "        3.94135714e-03, -7.45058060e-07,  8.59797001e-03,  7.22706318e-05,\n",
       "        7.45058060e-07,  7.45058060e-07, -7.45058060e-07,  0.00000000e+00,\n",
       "        4.74601984e-04,  1.49011612e-06,  3.30805779e-04,  5.08874655e-04])"
      ]
     },
     "execution_count": 17,
     "metadata": {},
     "output_type": "execute_result"
    }
   ],
   "source": [
    "# computes the gradient by central finite difference\n",
    "# evaluates the loss function at p and measured_data\n",
    "def cfd_grad_loss(p,measured_data,dp=0.01):\n",
    "    \n",
    "    ref = p.copy()\n",
    "\n",
    "    grad = np.zeros((len(p),))\n",
    "\n",
    "    for i in range(len(p)):\n",
    "        p_working_p = np.array(ref)\n",
    "        p_working_n = np.array(ref)\n",
    "        p_working_p[i] += dp/2\n",
    "        p_working_n[i] -= dp/2\n",
    "        forward = loss(jnp.array(p_working_p),measured_data)\n",
    "        backward = loss(jnp.array(p_working_n),measured_data)\n",
    "        grad[i] = (forward - backward) / (dp)\n",
    "    return(grad)\n",
    "\n",
    "cfd_grad_loss(initial_params,training_data[1])"
   ]
  },
  {
   "cell_type": "code",
   "execution_count": 18,
   "metadata": {},
   "outputs": [],
   "source": [
    "optimizer = optax.adam(learning_rate=1e-2) \n",
    "opt_state = optimizer.init(initial_params)\n",
    "params = initial_params\n",
    "\n",
    "loss_value, grads = jax.value_and_grad(loss)(params, training_data[1])\n"
   ]
  },
  {
   "cell_type": "code",
   "execution_count": 19,
   "metadata": {},
   "outputs": [
    {
     "data": {
      "text/plain": [
       "DeviceArray(0.08998264, dtype=float32)"
      ]
     },
     "execution_count": 19,
     "metadata": {},
     "output_type": "execute_result"
    }
   ],
   "source": [
    "loss_value"
   ]
  },
  {
   "cell_type": "code",
   "execution_count": 20,
   "metadata": {},
   "outputs": [
    {
     "data": {
      "text/plain": [
       "DeviceArray([ 0.0000000e+00,  0.0000000e+00, -5.2929558e-02,\n",
       "             -1.5482330e-01, -7.1480135e-05, -4.3470750e-04,\n",
       "             -9.3349218e-01, -2.1679381e-02, -2.8467184e-10,\n",
       "              2.9831426e-09, -3.9398174e-10,  7.6397555e-11,\n",
       "              3.9425925e-03, -7.1305684e-11,  8.5970582e-03,\n",
       "              7.2868002e-05, -2.4811015e-09,  2.1973392e-09,\n",
       "             -1.2789769e-10,  2.1100277e-10,  4.7517344e-04,\n",
       "             -4.5117785e-11,  3.3132813e-04,  5.0829642e-04],            dtype=float32)"
      ]
     },
     "execution_count": 20,
     "metadata": {},
     "output_type": "execute_result"
    }
   ],
   "source": [
    "grads"
   ]
  },
  {
   "cell_type": "code",
   "execution_count": 21,
   "metadata": {},
   "outputs": [
    {
     "name": "stdout",
     "output_type": "stream",
     "text": [
      "step 0, loss: 0.08998263627290726\n",
      "step 10, loss: 0.028022151440382004\n",
      "step 20, loss: 0.012836119160056114\n",
      "step 30, loss: 0.00826035626232624\n",
      "step 40, loss: 0.006450826767832041\n",
      "step 50, loss: 0.0055086310021579266\n",
      "step 60, loss: 0.004902943037450314\n",
      "step 70, loss: 0.004460158292204142\n",
      "step 80, loss: 0.0041143507696688175\n",
      "step 90, loss: 0.003838446456938982\n",
      "step 100, loss: 0.0036143746692687273\n",
      "step 110, loss: 0.0034284249413758516\n",
      "step 120, loss: 0.003271767171099782\n",
      "step 130, loss: 0.0031384299509227276\n",
      "step 140, loss: 0.003024174366146326\n",
      "step 150, loss: 0.00292575778439641\n",
      "step 160, loss: 0.0028406656347215176\n",
      "step 170, loss: 0.0027668545953929424\n",
      "step 180, loss: 0.002702620578929782\n",
      "step 190, loss: 0.00264656450599432\n",
      "step 200, loss: 0.002597569487988949\n",
      "step 210, loss: 0.002554647158831358\n",
      "step 220, loss: 0.0025169544387608767\n",
      "step 230, loss: 0.0024837241508066654\n",
      "step 240, loss: 0.0024543723557144403\n",
      "step 250, loss: 0.002428351668640971\n",
      "step 260, loss: 0.0024051994550973177\n",
      "step 270, loss: 0.002384516876190901\n",
      "step 280, loss: 0.002365961205214262\n",
      "step 290, loss: 0.002349242102354765\n",
      "step 300, loss: 0.002334111137315631\n",
      "step 310, loss: 0.002320361789315939\n",
      "step 320, loss: 0.002307818504050374\n",
      "step 330, loss: 0.0022963278461247683\n",
      "step 340, loss: 0.002285765251144767\n",
      "step 350, loss: 0.0022760205902159214\n",
      "step 360, loss: 0.0022670000325888395\n",
      "step 370, loss: 0.002258624415844679\n",
      "step 380, loss: 0.0022508210968226194\n",
      "step 390, loss: 0.002243524417281151\n",
      "step 400, loss: 0.0022366666235029697\n",
      "step 410, loss: 0.0022301985882222652\n",
      "step 420, loss: 0.002224057214334607\n",
      "step 430, loss: 0.002218176145106554\n",
      "step 440, loss: 0.002212472492828965\n",
      "step 450, loss: 0.0022068461403250694\n",
      "step 460, loss: 0.0022011995315551758\n",
      "step 470, loss: 0.0021954462863504887\n",
      "step 480, loss: 0.0021895798854529858\n",
      "step 490, loss: 0.002183714648708701\n"
     ]
    }
   ],
   "source": [
    "def fit(params: optax.Params, optimizer: optax.GradientTransformation) -> optax.Params:\n",
    "  opt_state = optimizer.init(params)\n",
    "\n",
    "  def step(params, opt_state, training_data_batch):\n",
    "    loss_value, grads = jax.value_and_grad(loss)(params, training_data_batch)\n",
    "    updates, opt_state = optimizer.update(grads, opt_state, params)\n",
    "    params = optax.apply_updates(params, updates)\n",
    "    return params, opt_state, loss_value\n",
    "\n",
    "  for i in range(500):\n",
    "    data  = training_data[1]\n",
    "    params, opt_state, loss_value = step(params, opt_state, data)\n",
    "    if i % 10 == 0:\n",
    "      print(f'step {i}, loss: {loss_value}')\n",
    "\n",
    "  return params\n",
    "\n",
    "# Finally, we can fit our parametrized function using the Adam optimizer\n",
    "# provided by optax.\n",
    "optimizer = optax.adam(learning_rate=1e-2)\n",
    "params = fit(initial_params, optimizer)"
   ]
  }
 ],
 "metadata": {
  "interpreter": {
   "hash": "3bd868a791ae3f2e25c037fe0842082b59576b23b402251a9a0f392799515c5f"
  },
  "kernelspec": {
   "display_name": "Python 3.10.4 ('jax_ode')",
   "language": "python",
   "name": "python3"
  },
  "language_info": {
   "codemirror_mode": {
    "name": "ipython",
    "version": 3
   },
   "file_extension": ".py",
   "mimetype": "text/x-python",
   "name": "python",
   "nbconvert_exporter": "python",
   "pygments_lexer": "ipython3",
   "version": "3.10.4"
  },
  "orig_nbformat": 4
 },
 "nbformat": 4,
 "nbformat_minor": 2
}
