{
 "cells": [
  {
   "cell_type": "markdown",
   "metadata": {},
   "source": [
    "Here we try to reproduce the `Model/synthNetDataScreen.py` script from Avlant's work\n",
    "\n",
    "- We only focus on the simulation of the synthetic data.\n",
    "- we load the input X matrix from torch and simulate the same conditions (unfortunately the seed was not stored)\n",
    "- compared the Yfull output from torch and the Yfull output from the simulation\n",
    "\n",
    "result: \n",
    "there is an order of 1e-6 difference, which could be due to machine precision \n",
    "\n"
   ]
  },
  {
   "cell_type": "code",
   "execution_count": 1,
   "metadata": {},
   "outputs": [],
   "source": [
    "import os\n",
    "os.environ[\"JAX_DEBUG_NANS\"] = \"True\"\n",
    "import sys\n",
    "sys.path.insert(0, '../')\n",
    "from nn_cno import nn_models\n",
    "import numpy as np\n",
    "import scipy as sp\n",
    "import pandas as pd\n",
    "import equinox as eqx\n",
    "import optax\n",
    "import jax.tree_util as jtu\n",
    "from jax.experimental import sparse\n",
    "from jax import numpy as jnp\n",
    "import jax\n",
    "import matplotlib.pyplot as plt\n",
    "import functools as ft\n",
    "\n",
    "# import argparse\n",
    "# This code is used to evaluate the different parts on a cluster. \n",
    "\n",
    "# #Get data number\n",
    "# parser = argparse.ArgumentParser(prog='Macrophage simulation')\n",
    "# parser.add_argument('--selectedCondition', action='store', default=None)\n",
    "# args = parser.parse_args()\n",
    "# curentId = int(args.selectedCondition)\n",
    "\n",
    "currentID = 0     # goes between 0-14 based on the sunSlurmSynthScreen.sh file. "
   ]
  },
  {
   "cell_type": "markdown",
   "metadata": {},
   "source": [
    "Initialization of the model using the new implementation:"
   ]
  },
  {
   "cell_type": "code",
   "execution_count": 2,
   "metadata": {},
   "outputs": [
    {
     "name": "stdout",
     "output_type": "stream",
     "text": [
      "0 2 10\n"
     ]
    }
   ],
   "source": [
    "\n",
    "testCondtions = pd.read_csv('synthNetScreen/conditions.tsv', sep='\\t', low_memory=False)\n",
    "simultaniousInput = int(testCondtions.loc[currentID == testCondtions['Index'],:]['Ligands'].values)\n",
    "N = int(testCondtions.loc[currentID == testCondtions['Index'],:]['DataSize'].values)\n",
    "print(currentID, simultaniousInput, N)\n",
    "\n",
    "inputAmplitude = 3\n",
    "projectionAmplitude = 1.2\n",
    "\n",
    "modelFile = \"data/KEGGnet-Model.tsv\"\n",
    "annotationFile = 'data/KEGGnet-Annotation.tsv'\n",
    "parameterFile = 'synthNetScreen/equationParams.txt'\n",
    "\n",
    "parameterizedModel = nn_models.bioNetwork(networkFile=modelFile, \n",
    "                                          nodeAnnotationFile=annotationFile,\n",
    "                                          inputAmplitude=inputAmplitude,\n",
    "                                          projectionAmplitude=projectionAmplitude)\n",
    "parameterizedModel.loadParams(parameterFile)\n",
    "\n",
    "Model  = nn_models.bioNetwork(networkFile=modelFile, \n",
    "                                          nodeAnnotationFile=annotationFile,\n",
    "                                          inputAmplitude=inputAmplitude,\n",
    "                                          projectionAmplitude=projectionAmplitude)"
   ]
  },
  {
   "cell_type": "markdown",
   "metadata": {},
   "source": [
    "Load the data saved in the original pytorch version"
   ]
  },
  {
   "cell_type": "code",
   "execution_count": 6,
   "metadata": {},
   "outputs": [],
   "source": [
    "X_torch = pd.read_csv(\"./synthNetData_testing/X.csv\").to_numpy()\n",
    "Y_torch = pd.read_csv(\"./synthNetData_testing/Y.csv\").to_numpy()\n",
    "YfullRef_torch = pd.read_csv(\"./synthNetData_testing/YfullRef.csv\").to_numpy()"
   ]
  },
  {
   "cell_type": "markdown",
   "metadata": {},
   "source": [
    "Compare the simulation between torch and jax using the same input, the output should be very similar..."
   ]
  },
  {
   "cell_type": "code",
   "execution_count": 7,
   "metadata": {},
   "outputs": [],
   "source": [
    "Y_jax, YfullRef_jax = jax.vmap(parameterizedModel.model, in_axes=(0),out_axes=(0,0))(X_torch)"
   ]
  },
  {
   "cell_type": "code",
   "execution_count": 38,
   "metadata": {},
   "outputs": [],
   "source": [
    "# np.savetxt(X = YfullRef_jax.squeeze().to_py() - YfullRef_torch,fname=\"./synthNetData_testing/YfullRef_diff.csv\")\n",
    "#Y2b = Y2.reshape((Y2.shape[0],1,Y2.shape[1]))\n"
   ]
  },
  {
   "cell_type": "code",
   "execution_count": 10,
   "metadata": {},
   "outputs": [
    {
     "data": {
      "text/plain": [
       "2.9239067557038426e-06"
      ]
     },
     "execution_count": 10,
     "metadata": {},
     "output_type": "execute_result"
    }
   ],
   "source": [
    "np.linalg.norm(YfullRef_jax.squeeze().to_py() - YfullRef_torch)"
   ]
  },
  {
   "cell_type": "code",
   "execution_count": 8,
   "metadata": {},
   "outputs": [
    {
     "data": {
      "text/plain": [
       "array([[-1.50177683e-05,  2.08252244e-02,  1.14711486e-02, ...,\n",
       "        -2.86063750e-03, -1.50625385e-04,  5.90374019e-02],\n",
       "       [-1.50177683e-05,  2.36817807e-02,  3.04472496e-01, ...,\n",
       "        -2.85994995e-03, -1.50640516e-04,  5.90374019e-02],\n",
       "       [-1.50177683e-05,  2.08252244e-02,  1.14711486e-02, ...,\n",
       "        -2.87101615e-03, -1.50625385e-04,  6.56646511e-01],\n",
       "       ...,\n",
       "       [-1.50177683e-05,  2.08252244e-02,  1.14711486e-02, ...,\n",
       "        -2.82572184e-03, -1.50625385e-04,  5.90374019e-02],\n",
       "       [-1.50177683e-05,  2.08252244e-02,  1.14711486e-02, ...,\n",
       "        -2.87648543e-03, -7.52463104e-05,  5.90374019e-02],\n",
       "       [-1.50177683e-05,  2.08252244e-02,  1.14711486e-02, ...,\n",
       "        -4.74807864e-03, -1.50625385e-04,  5.90374019e-02]])"
      ]
     },
     "execution_count": 8,
     "metadata": {},
     "output_type": "execute_result"
    }
   ],
   "source": [
    "YfullRef_torch"
   ]
  },
  {
   "cell_type": "code",
   "execution_count": 9,
   "metadata": {},
   "outputs": [
    {
     "data": {
      "text/plain": [
       "DeviceArray([[[-1.5017786e-05,  2.0825224e-02,  1.1471149e-02, ...,\n",
       "               -2.8606369e-03, -1.5062539e-04,  5.9037402e-02]],\n",
       "\n",
       "             [[-1.5017786e-05,  2.3681780e-02,  3.0447251e-01, ...,\n",
       "               -2.8599496e-03, -1.5064051e-04,  5.9037402e-02]],\n",
       "\n",
       "             [[-1.5017786e-05,  2.0825224e-02,  1.1471149e-02, ...,\n",
       "               -2.8710163e-03, -1.5062539e-04,  6.5664649e-01]],\n",
       "\n",
       "             ...,\n",
       "\n",
       "             [[-1.5017786e-05,  2.0825224e-02,  1.1471149e-02, ...,\n",
       "               -2.8257216e-03, -1.5062539e-04,  5.9037402e-02]],\n",
       "\n",
       "             [[-1.5017786e-05,  2.0825224e-02,  1.1471149e-02, ...,\n",
       "               -2.8764852e-03, -7.5246309e-05,  5.9037402e-02]],\n",
       "\n",
       "             [[-1.5017786e-05,  2.0825224e-02,  1.1471149e-02, ...,\n",
       "               -4.7480790e-03, -1.5062539e-04,  5.9037402e-02]]],            dtype=float32)"
      ]
     },
     "execution_count": 9,
     "metadata": {},
     "output_type": "execute_result"
    }
   ],
   "source": [
    "YfullRef_jax"
   ]
  },
  {
   "cell_type": "code",
   "execution_count": 45,
   "metadata": {},
   "outputs": [
    {
     "data": {
      "text/plain": [
       "array([0.09766712, 0.        , 0.        , 0.        , 0.        ,\n",
       "       0.        , 0.        , 0.        , 0.        , 0.        ,\n",
       "       0.        , 0.        , 0.        , 0.        , 0.        ,\n",
       "       0.        , 0.        , 0.        , 0.        , 0.        ,\n",
       "       0.        , 0.        , 0.        , 0.        , 0.        ,\n",
       "       0.        , 0.        , 0.        , 0.        , 0.        ,\n",
       "       0.        , 0.        , 0.        , 0.        , 0.        ,\n",
       "       0.        , 0.        , 0.        , 0.        , 0.        ,\n",
       "       0.        , 0.        , 0.        , 0.        , 0.        ,\n",
       "       0.        , 0.        , 0.        , 0.        , 0.        ,\n",
       "       0.        , 0.        , 0.        , 0.        , 0.        ,\n",
       "       0.        , 0.        , 0.        , 0.        , 0.        ,\n",
       "       0.        , 0.        , 0.40363993, 0.        , 0.        ,\n",
       "       0.        , 0.        , 0.        , 0.        , 0.        ,\n",
       "       0.        , 0.        , 0.        , 0.        , 0.        ,\n",
       "       0.        , 0.        , 0.        , 0.        , 0.        ,\n",
       "       0.        , 0.        , 0.        , 0.        , 0.        ,\n",
       "       0.        , 0.        , 0.        , 0.        , 0.        ,\n",
       "       0.        , 0.        , 0.        , 0.        , 0.        ,\n",
       "       0.        , 0.        , 0.        , 0.        , 0.        ,\n",
       "       0.        ])"
      ]
     },
     "execution_count": 45,
     "metadata": {},
     "output_type": "execute_result"
    }
   ],
   "source": [
    "X_torch[1,]"
   ]
  },
  {
   "cell_type": "markdown",
   "metadata": {},
   "source": [
    "Checking the input layer:"
   ]
  },
  {
   "cell_type": "markdown",
   "metadata": {},
   "source": [
    "Condition 0 : everything is zero"
   ]
  },
  {
   "cell_type": "code",
   "execution_count": 6,
   "metadata": {},
   "outputs": [
    {
     "data": {
      "text/plain": [
       "DeviceArray([0., 0., 0., 0., 0., 0., 0., 0., 0., 0., 0., 0., 0., 0., 0.,\n",
       "             0., 0., 0., 0., 0., 0., 0., 0., 0., 0., 0., 0., 0., 0., 0.,\n",
       "             0., 0., 0., 0., 0., 0., 0., 0., 0., 0., 0., 0., 0., 0., 0.,\n",
       "             0., 0., 0., 0., 0., 0., 0., 0., 0., 0., 0., 0., 0., 0., 0.,\n",
       "             0., 0., 0., 0., 0., 0., 0., 0., 0., 0., 0., 0., 0., 0., 0.,\n",
       "             0., 0., 0., 0., 0., 0., 0., 0., 0., 0., 0., 0., 0., 0., 0.,\n",
       "             0., 0., 0., 0., 0., 0., 0., 0., 0., 0., 0., 0., 0., 0., 0.,\n",
       "             0., 0., 0., 0., 0., 0., 0., 0., 0., 0., 0., 0., 0., 0., 0.,\n",
       "             0., 0., 0., 0., 0., 0., 0., 0., 0., 0., 0., 0., 0., 0., 0.,\n",
       "             0., 0., 0., 0., 0., 0., 0., 0., 0., 0., 0., 0., 0., 0., 0.,\n",
       "             0., 0., 0., 0., 0., 0., 0., 0., 0., 0., 0., 0., 0., 0., 0.,\n",
       "             0., 0., 0., 0., 0., 0., 0., 0., 0., 0., 0., 0., 0., 0., 0.,\n",
       "             0., 0., 0., 0., 0., 0., 0., 0., 0., 0., 0., 0., 0., 0., 0.,\n",
       "             0., 0., 0., 0., 0., 0., 0., 0., 0., 0., 0., 0., 0., 0., 0.,\n",
       "             0., 0., 0., 0., 0., 0., 0., 0., 0., 0., 0., 0., 0., 0., 0.,\n",
       "             0., 0., 0., 0., 0., 0., 0., 0., 0., 0., 0., 0., 0., 0., 0.,\n",
       "             0., 0., 0., 0., 0., 0., 0., 0., 0., 0., 0., 0., 0., 0., 0.,\n",
       "             0., 0., 0., 0., 0., 0., 0., 0., 0., 0., 0., 0., 0., 0., 0.,\n",
       "             0., 0., 0., 0., 0., 0., 0., 0., 0., 0., 0., 0., 0., 0., 0.,\n",
       "             0., 0., 0., 0., 0., 0., 0., 0., 0., 0., 0., 0., 0., 0., 0.,\n",
       "             0., 0., 0., 0., 0., 0., 0., 0., 0., 0., 0., 0., 0., 0., 0.,\n",
       "             0., 0., 0., 0., 0., 0., 0., 0., 0., 0., 0., 0., 0., 0., 0.,\n",
       "             0., 0., 0., 0., 0., 0., 0., 0., 0., 0., 0., 0., 0., 0., 0.,\n",
       "             0., 0., 0., 0., 0., 0., 0., 0., 0., 0., 0., 0., 0., 0., 0.,\n",
       "             0., 0., 0., 0., 0., 0., 0., 0., 0., 0., 0., 0., 0., 0., 0.,\n",
       "             0., 0., 0., 0., 0., 0., 0., 0., 0., 0., 0., 0., 0., 0., 0.,\n",
       "             0., 0., 0., 0., 0., 0., 0., 0., 0., 0., 0., 0., 0., 0., 0.,\n",
       "             0., 0., 0., 0.], dtype=float32)"
      ]
     },
     "execution_count": 6,
     "metadata": {},
     "output_type": "execute_result"
    }
   ],
   "source": [
    "jax.vmap(parameterizedModel.model.layers[0], in_axes=(0),out_axes=(0))(X_torch)[0,0,:]"
   ]
  },
  {
   "cell_type": "markdown",
   "metadata": {},
   "source": [
    "Condition 1:"
   ]
  },
  {
   "cell_type": "code",
   "execution_count": 5,
   "metadata": {},
   "outputs": [
    {
     "ename": "NameError",
     "evalue": "name 'X_torch' is not defined",
     "output_type": "error",
     "traceback": [
      "\u001b[0;31m---------------------------------------------------------------------------\u001b[0m",
      "\u001b[0;31mNameError\u001b[0m                                 Traceback (most recent call last)",
      "\u001b[1;32m/Users/gabora/Documents/SaezGroup/LocalGitRepo/NN_cellnopt/NeuralODEs/notebooks/lembas_synthNetDataScreen_DataSimulation.ipynb Cell 17\u001b[0m in \u001b[0;36m<cell line: 1>\u001b[0;34m()\u001b[0m\n\u001b[0;32m----> <a href='vscode-notebook-cell:/Users/gabora/Documents/SaezGroup/LocalGitRepo/NN_cellnopt/NeuralODEs/notebooks/lembas_synthNetDataScreen_DataSimulation.ipynb#X62sZmlsZQ%3D%3D?line=0'>1</a>\u001b[0m jax\u001b[39m.\u001b[39mvmap(parameterizedModel\u001b[39m.\u001b[39mmodel\u001b[39m.\u001b[39mlayers[\u001b[39m0\u001b[39m], in_axes\u001b[39m=\u001b[39m(\u001b[39m0\u001b[39m),out_axes\u001b[39m=\u001b[39m(\u001b[39m0\u001b[39m))(X_torch)[\u001b[39m1\u001b[39m,\u001b[39m0\u001b[39m,:]\n",
      "\u001b[0;31mNameError\u001b[0m: name 'X_torch' is not defined"
     ]
    }
   ],
   "source": [
    "jax.vmap(parameterizedModel.model.layers[0], in_axes=(0),out_axes=(0))(X_torch)[1,0,:]"
   ]
  },
  {
   "cell_type": "markdown",
   "metadata": {},
   "source": [
    "Problem: the location of the non-zeros do not match with the torch version"
   ]
  },
  {
   "cell_type": "code",
   "execution_count": 10,
   "metadata": {},
   "outputs": [
    {
     "data": {
      "text/plain": [
       "array([ 59,  39,  36, 109, 256, 287, 366,  33,   7, 154, 231, 205,  76,\n",
       "        28, 130,  47,  20, 258,  29,  48, 116, 371, 125, 357,  83,   2,\n",
       "        50, 242,  30,  60,  80,  61,  79,  57, 323, 122, 372,  65,  63,\n",
       "       176, 157,  56, 387,  72,  54,  52,  55, 343, 381,  49, 276, 367,\n",
       "       252, 149, 188,  92, 330, 118, 187, 163, 189, 353, 129, 208, 106,\n",
       "        51,  96, 379, 150,  58, 266,  68, 346,  62, 324, 100,  97,  41,\n",
       "         9,  53,  74, 218, 204, 318, 386, 101, 238,  67,  64,  82, 265,\n",
       "        73, 137, 102, 117,  40,  69,  46, 103,  89, 121])"
      ]
     },
     "execution_count": 10,
     "metadata": {},
     "output_type": "execute_result"
    }
   ],
   "source": [
    "parameterizedModel.model.layers[0].inOutIndices"
   ]
  },
  {
   "cell_type": "code",
   "execution_count": 3,
   "metadata": {},
   "outputs": [
    {
     "data": {
      "text/plain": [
       "array(['O14511', 'O14788', 'O14944', 'O43557', 'O75093', 'O75094',\n",
       "       'O75326', 'O94813', 'O96014', 'P00734', 'P01019', 'P01042',\n",
       "       'P01133', 'P01135', 'P01137', 'P01138', 'P01178', 'P01189',\n",
       "       'P01213', 'P01215', 'P01236', 'P01270', 'P01308', 'P01344',\n",
       "       'P01350', 'P01374', 'P01375', 'P01562', 'P01574', 'P01579',\n",
       "       'P01583', 'P01584', 'P01889', 'P02452', 'P02751', 'P04085',\n",
       "       'P04196', 'P04439', 'P04628', 'P05019', 'P05112', 'P05230',\n",
       "       'P05305', 'P06307', 'P07585', 'P08311', 'P08476', 'P08700',\n",
       "       'P09038', 'P09326', 'P09603', 'P10321', 'P10586', 'P12272',\n",
       "       'P12643', 'P12644', 'P13501', 'P14210', 'P15018', 'P15514',\n",
       "       'P15692', 'P16619', 'P20783', 'P20827', 'P21583', 'P22301',\n",
       "       'P23560', 'P29459', 'P33681', 'P34130', 'P35070', 'P41159',\n",
       "       'P41221', 'P42081', 'P43405', 'P48061', 'P49771', 'P50591',\n",
       "       'P56975', 'P61278', 'P61812', 'P78536', 'P80075', 'Q02297',\n",
       "       'Q06643', 'Q14005', 'Q14393', 'Q14623', 'Q15465', 'Q6ZMJ4',\n",
       "       'Q7Z4P5', 'Q8NHW4', 'Q8WWG1', 'Q96A98', 'Q96B86', 'Q96S42',\n",
       "       'Q99075', 'Q9GZV9', 'Q9NPF7', 'Q9NSA1', 'Q9NT99'], dtype=object)"
      ]
     },
     "execution_count": 3,
     "metadata": {},
     "output_type": "execute_result"
    }
   ],
   "source": [
    "parameterizedModel.network.inName\n"
   ]
  },
  {
   "cell_type": "code",
   "execution_count": 14,
   "metadata": {},
   "outputs": [
    {
     "data": {
      "text/plain": [
       "'Q9Y243'"
      ]
     },
     "execution_count": 14,
     "metadata": {},
     "output_type": "execute_result"
    }
   ],
   "source": [
    "parameterizedModel.network.nodeNames[401]"
   ]
  },
  {
   "cell_type": "code",
   "execution_count": 4,
   "metadata": {},
   "outputs": [
    {
     "data": {
      "text/plain": [
       "array([  2,   7,   9,  20,  28,  29,  30,  33,  36,  39,  40,  41,  46,\n",
       "        47,  48,  49,  50,  51,  52,  53,  54,  55,  56,  57,  58,  59,\n",
       "        60,  61,  62,  63,  64,  65,  67,  68,  69,  72,  73,  74,  76,\n",
       "        79,  80,  82,  83,  89,  92,  96,  97, 100, 101, 102, 103, 106,\n",
       "       109, 116, 117, 118, 121, 122, 125, 129, 130, 137, 149, 150, 154,\n",
       "       157, 163, 176, 187, 188, 189, 204, 205, 208, 218, 231, 238, 242,\n",
       "       252, 256, 258, 265, 266, 276, 287, 318, 323, 324, 330, 343, 346,\n",
       "       353, 357, 366, 367, 371, 372, 379, 381, 386, 387])"
      ]
     },
     "execution_count": 4,
     "metadata": {},
     "output_type": "execute_result"
    }
   ],
   "source": [
    "parameterizedModel.model.layers[0].inOutIndices"
   ]
  },
  {
   "cell_type": "code",
   "execution_count": null,
   "metadata": {},
   "outputs": [],
   "source": []
  }
 ],
 "metadata": {
  "kernelspec": {
   "display_name": "Python 3.10.4 ('jax_ode')",
   "language": "python",
   "name": "python3"
  },
  "language_info": {
   "codemirror_mode": {
    "name": "ipython",
    "version": 3
   },
   "file_extension": ".py",
   "mimetype": "text/x-python",
   "name": "python",
   "nbconvert_exporter": "python",
   "pygments_lexer": "ipython3",
   "version": "3.10.4"
  },
  "orig_nbformat": 4,
  "vscode": {
   "interpreter": {
    "hash": "3bd868a791ae3f2e25c037fe0842082b59576b23b402251a9a0f392799515c5f"
   }
  }
 },
 "nbformat": 4,
 "nbformat_minor": 2
}
