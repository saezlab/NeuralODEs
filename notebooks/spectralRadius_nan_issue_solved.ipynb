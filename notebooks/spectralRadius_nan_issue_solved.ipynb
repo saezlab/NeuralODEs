{
 "cells": [
  {
   "cell_type": "markdown",
   "metadata": {},
   "source": [
    "# Computation of the gradient of the Spectral Radius in a `NaN` -safe way"
   ]
  },
  {
   "cell_type": "code",
   "execution_count": 1,
   "metadata": {},
   "outputs": [],
   "source": [
    "from jax import numpy as jnp\n",
    "import jax\n",
    "import numpy as np\n",
    "import scipy"
   ]
  },
  {
   "cell_type": "markdown",
   "metadata": {},
   "source": [
    "First we look a small matrix with a few elements. \n",
    "Note that depending on the weights `weights_normal` or `weights_nan` the gradient of the largest eigenvalue with respect to the input parameters is either solved by jax or reported as nan.\n"
   ]
  },
  {
   "cell_type": "code",
   "execution_count": 2,
   "metadata": {},
   "outputs": [
    {
     "data": {
      "text/plain": [
       "DeviceArray([[0., 1., 0., 1.],\n",
       "             [1., 0., 1., 0.],\n",
       "             [0., 0., 0., 1.],\n",
       "             [0., 1., 0., 0.]], dtype=float32)"
      ]
     },
     "execution_count": 2,
     "metadata": {},
     "output_type": "execute_result"
    }
   ],
   "source": [
    "\n",
    "ind = jnp.array([[2,0,1,1,0,3],[3,1,2,0,3,1]])\n",
    "\n",
    "M = jnp.zeros([4,4])\n",
    "\n",
    "#weights = jnp.array([1., 2., 3., 4.])\n",
    "weights_normal = jnp.array([1.,1.,1.,1.,1.,1.])\n",
    "weights_nan = jnp.array([1.,1.,0.,0.,1.,1.])\n",
    "\n",
    "M = M.at[ind[0], ind[1]].set(weights_normal)\n",
    "M"
   ]
  },
  {
   "cell_type": "code",
   "execution_count": 3,
   "metadata": {},
   "outputs": [],
   "source": [
    "def spectralRadius(w,ind,M):\n",
    "    M = M.at[ind[0], ind[1]].set(w)\n",
    "    e_val = jnp.linalg.eigvals(M)\n",
    "    r = jnp.max(jnp.abs(e_val))\n",
    "    return r"
   ]
  },
  {
   "cell_type": "markdown",
   "metadata": {},
   "source": [
    "First we compute teh largest eigenvalue and gradient: results in normal numerical values:"
   ]
  },
  {
   "cell_type": "code",
   "execution_count": 4,
   "metadata": {},
   "outputs": [
    {
     "data": {
      "text/plain": [
       "(DeviceArray(1.5213797, dtype=float32),\n",
       " DeviceArray([0.16824293, 0.25596112, 0.1682428 , 0.42420426, 0.16824281,\n",
       "              0.3364857 ], dtype=float32))"
      ]
     },
     "execution_count": 4,
     "metadata": {},
     "output_type": "execute_result"
    }
   ],
   "source": [
    "jax.value_and_grad(spectralRadius,argnums=0)(weights_normal,ind,M)"
   ]
  },
  {
   "cell_type": "markdown",
   "metadata": {},
   "source": [
    "Then we use the `weights_nan` and notice that the gradient is `nan`:"
   ]
  },
  {
   "cell_type": "code",
   "execution_count": 5,
   "metadata": {},
   "outputs": [
    {
     "data": {
      "text/plain": [
       "(DeviceArray(0., dtype=float32),\n",
       " DeviceArray([nan, nan, nan, nan, nan, nan], dtype=float32))"
      ]
     },
     "execution_count": 5,
     "metadata": {},
     "output_type": "execute_result"
    }
   ],
   "source": [
    "jax.value_and_grad(spectralRadius,argnums=0)(weights_nan,ind,M)"
   ]
  },
  {
   "cell_type": "markdown",
   "metadata": {},
   "source": [
    "Now we redefine the `jvp` jacobian-vector product function to give null gradient is the gradient is `nan`"
   ]
  },
  {
   "cell_type": "code",
   "execution_count": 6,
   "metadata": {},
   "outputs": [],
   "source": [
    "\n",
    "@jax.custom_jvp\n",
    "def spectralRadiusZeroNaNGrad(w, ind, M):\n",
    "    M = M.at[ind[0], ind[1]].set(w)\n",
    "    e_val = jnp.linalg.eigvals(M)\n",
    "    r = jnp.max(jnp.abs(e_val))\n",
    "    return r\n",
    "\n",
    "def spectralRadiusZeroNaNGrad_aux(w, ind, M):\n",
    "    M = M.at[ind[0], ind[1]].set(w)\n",
    "    e_val = jnp.linalg.eigvals(M)\n",
    "    r = jnp.max(jnp.abs(e_val))\n",
    "\n",
    "    return r\n",
    "\n",
    "@spectralRadiusZeroNaNGrad.defjvp\n",
    "def spectralRadiusZeroNaNGrad_jvp(primals, tangents):\n",
    "  w, ind, M = primals\n",
    "  w_dot, ind_dot, M_dot  = tangents\n",
    "  primal_out = spectralRadiusZeroNaNGrad(w, ind, M )\n",
    "  rep_values = jnp.nan_to_num(jax.grad(spectralRadiusZeroNaNGrad_aux)(w,ind,M))\n",
    "  tangent_out = jnp.dot(rep_values,w_dot)\n",
    "\n",
    "  return primal_out, tangent_out"
   ]
  },
  {
   "cell_type": "markdown",
   "metadata": {},
   "source": [
    "Run the two examples:"
   ]
  },
  {
   "cell_type": "code",
   "execution_count": 7,
   "metadata": {},
   "outputs": [
    {
     "data": {
      "text/plain": [
       "(DeviceArray(1.5213797, dtype=float32),\n",
       " DeviceArray([0.16824293, 0.25596112, 0.1682428 , 0.42420426, 0.16824281,\n",
       "              0.3364857 ], dtype=float32))"
      ]
     },
     "execution_count": 7,
     "metadata": {},
     "output_type": "execute_result"
    }
   ],
   "source": [
    "jax.value_and_grad(spectralRadiusZeroNaNGrad,argnums=0)(weights_normal,ind,M)"
   ]
  },
  {
   "cell_type": "code",
   "execution_count": 8,
   "metadata": {},
   "outputs": [
    {
     "data": {
      "text/plain": [
       "(DeviceArray(0., dtype=float32),\n",
       " DeviceArray([0., 0., 0., 0., 0., 0.], dtype=float32))"
      ]
     },
     "execution_count": 8,
     "metadata": {},
     "output_type": "execute_result"
    }
   ],
   "source": [
    "jax.value_and_grad(spectralRadiusZeroNaNGrad,argnums=0)(weights_nan,ind,M)"
   ]
  },
  {
   "cell_type": "markdown",
   "metadata": {},
   "source": [
    "# Testing real matrix from synthetic computation"
   ]
  },
  {
   "cell_type": "code",
   "execution_count": 37,
   "metadata": {},
   "outputs": [],
   "source": [
    "M = np.loadtxt(\"M.csv\", delimiter=\",\")\n",
    "M = jnp.array(M)\n",
    "ind = np.loadtxt(\"ind.csv\", delimiter=\",\").astype(np.int32)\n",
    "w = np.loadtxt(\"w.csv\", delimiter=\",\")\n",
    "w = jnp.array(w)"
   ]
  },
  {
   "cell_type": "code",
   "execution_count": 38,
   "metadata": {},
   "outputs": [
    {
     "data": {
      "text/plain": [
       "True"
      ]
     },
     "execution_count": 38,
     "metadata": {},
     "output_type": "execute_result"
    }
   ],
   "source": [
    "all(M[ind[0],ind[1]] == w)"
   ]
  },
  {
   "cell_type": "code",
   "execution_count": 18,
   "metadata": {},
   "outputs": [],
   "source": [
    "\n",
    "def spectralRadiusN2(w, ind, M):\n",
    "    M = M.at[ind[0], ind[1]].set(w)\n",
    "    e_val = jnp.linalg.eigvals(M)\n",
    "    r = jnp.linalg.norm(e_val)\n",
    "    return r\n",
    "\n",
    "\n",
    "def myeig(w, ind, M):\n",
    "    M = M.at[ind[0], ind[1]].set(w)\n",
    "    e_val = jnp.linalg.eigvals(M)\n",
    "    \n",
    "    return e_val"
   ]
  },
  {
   "cell_type": "code",
   "execution_count": 40,
   "metadata": {},
   "outputs": [
    {
     "name": "stdout",
     "output_type": "stream",
     "text": [
      "1.3774141\n"
     ]
    },
    {
     "data": {
      "text/plain": [
       "DeviceArray([nan, nan, nan, nan, nan, nan, nan, nan, nan], dtype=float32)"
      ]
     },
     "execution_count": 40,
     "metadata": {},
     "output_type": "execute_result"
    }
   ],
   "source": [
    "v,g = jax.value_and_grad(spectralRadiusN2,argnums=0)(w,ind,M)\n",
    "print(v)\n",
    "g[1:10]"
   ]
  },
  {
   "cell_type": "code",
   "execution_count": 57,
   "metadata": {},
   "outputs": [],
   "source": [
    "e = myeig(w,ind,M)"
   ]
  },
  {
   "cell_type": "code",
   "execution_count": 43,
   "metadata": {},
   "outputs": [
    {
     "data": {
      "text/plain": [
       "(409, 832)"
      ]
     },
     "execution_count": 43,
     "metadata": {},
     "output_type": "execute_result"
    }
   ],
   "source": [
    "J = jax.jacfwd(myeig)(w,ind,M)\n",
    "J.shape"
   ]
  },
  {
   "cell_type": "code",
   "execution_count": 47,
   "metadata": {},
   "outputs": [
    {
     "data": {
      "text/plain": [
       "DeviceArray(True, dtype=bool)"
      ]
     },
     "execution_count": 47,
     "metadata": {},
     "output_type": "execute_result"
    }
   ],
   "source": [
    "jnp.isnan(J).all()"
   ]
  },
  {
   "cell_type": "markdown",
   "metadata": {},
   "source": [
    "Since all the jacobian are `nan`s we cannot do much with it"
   ]
  },
  {
   "cell_type": "markdown",
   "metadata": {},
   "source": [
    "# Avlant's code\n",
    "\n"
   ]
  },
  {
   "cell_type": "code",
   "execution_count": 28,
   "metadata": {},
   "outputs": [],
   "source": [
    "def lreig(A):\n",
    "    # for DENSE Matrix\n",
    "    #fall back if eigs fails\n",
    "    e, w, v = scipy.linalg.eig(A, left = True)\n",
    "    selected = np.argmax(np.abs(e))\n",
    "    eValue = e[selected]\n",
    "    # selected = (e == eValue)\n",
    "\n",
    "    # if numpy.sum(selected) == 1:\n",
    "    w = w[:,selected]\n",
    "    v = v[:,selected]\n",
    "    # else:\n",
    "    #     w = numpy.sum(w[:,selected], axis=1, keepdims=True)\n",
    "    #     v = numpy.sum(v[:,selected], axis=1, keepdims=True)\n",
    "    #     w = w/norm(w)\n",
    "    #     v = v/norm(v)\n",
    "    return eValue, v, w\n"
   ]
  },
  {
   "cell_type": "code",
   "execution_count": 78,
   "metadata": {},
   "outputs": [],
   "source": [
    "# A: sparse matrix\n",
    "@jax.custom_jvp\n",
    "def AvlantsSpectralRadius(weights, ind, M):\n",
    "    \n",
    "    A = sp.sparse.csr_matrix((weights, ind), shape=M.shape, dtype='float32')\n",
    "    tolerance = 10**-6\n",
    "\n",
    "    try:\n",
    "        e, v = scipy.sparse.linalg.eigs(A, k=1, which='LM', ncv=100, tol = tolerance)\n",
    "        v = v[:,0]\n",
    "        e = e[0]\n",
    "    except  (KeyboardInterrupt, SystemExit):\n",
    "        raise\n",
    "    except:\n",
    "        print('Forward fail (did not find any eigenvalue with eigs)')\n",
    "        tmpA = A.toarray()\n",
    "        e, v, w = lreig(tmpA) #fall back to solving full eig problem\n",
    "\n",
    "    spectralRadius = np.abs(e)\n",
    "    #ctx.e = e\n",
    "    #ctx.v = v\n",
    "    #ctx.w = np.empty(0)\n",
    "\n",
    "    return spectralRadius\n",
    "\n",
    "def AvlantsSpectralRadius_save_out(weights, ind, M):\n",
    "    \n",
    "    A = sp.sparse.csr_matrix((weights, ind), shape=M.shape, dtype='float32')\n",
    "    tolerance = 10**-6\n",
    "\n",
    "    try:\n",
    "        e, v = scipy.sparse.linalg.eigs(A, k=1, which='LM', ncv=100, tol = tolerance)\n",
    "        v = v[:,0]\n",
    "        e = e[0]\n",
    "    except  (KeyboardInterrupt, SystemExit):\n",
    "        raise\n",
    "    except:\n",
    "        print('Forward fail (did not find any eigenvalue with eigs)')\n",
    "        tmpA = A.toarray()\n",
    "        e, v, w = lreig(tmpA) #fall back to solving full eig problem\n",
    "\n",
    "    spectralRadius = np.abs(e)\n",
    "    e = e\n",
    "    v = v\n",
    "    w = np.empty(0)\n",
    "\n",
    "    return spectralRadius, e, v, w\n",
    "\n",
    "@AvlantsSpectralRadius.defjvp\n",
    "def AvlantsSpectralRadius_jvp(primals, tangents):\n",
    "    weights, ind, M = primals\n",
    "    w_dot, ind_dot, M_dot  = tangents\n",
    "    primal_out, e, v, w = AvlantsSpectralRadius_save_out(weights, ind, M)\n",
    "\n",
    "    tolerance = 10**-6\n",
    "    networkList = ind\n",
    "    A = sp.sparse.csr_matrix((weights, ind), shape=M.shape, dtype='float32')\n",
    "    \n",
    "    tmpA = A\n",
    "    tmpA = tmpA.T  #tmpA.T.toarray()\n",
    "\n",
    "    if w.shape[0]==0:\n",
    "        try:\n",
    "            eT = e\n",
    "            if np.isreal(eT): #does for some reason not converge if imag = 0\n",
    "                eT = eT.real\n",
    "            e2, w = scipy.sparse.linalg.eigs(tmpA, k=1, sigma=eT, OPpart='r', tol=tolerance)\n",
    "            selected = 0 #numpy.argmin(numpy.abs(e2-eT))\n",
    "            w = w[:,selected]\n",
    "            e2 = e2[selected]\n",
    "            #Check if same eigenvalue\n",
    "            if abs(e-e2)>(tolerance*10):\n",
    "                print('Backward fail (eigs left returned different eigenvalue)')\n",
    "                w = np.empty(0)\n",
    "                #e, v, w = lreig(tmpA) #fall back to solving whole eig problem\n",
    "        except (KeyboardInterrupt, SystemExit):\n",
    "            raise\n",
    "        except:\n",
    "            print('Backward fail (did not find any eigenvalue with eigs)')\n",
    "            #e, v, w = lreig(tmpA) #fall back to solving full eig problem\n",
    "            delta = np.zeros(weights.shape)\n",
    "\n",
    "\n",
    "    if w.shape[0] != 0:\n",
    "        divisor = w.T.dot(v).flatten()\n",
    "        if abs(divisor) == 0:\n",
    "            delta = np.zeros(weights.shape)\n",
    "            print('Empty eig')\n",
    "        else:\n",
    "            delta = np.multiply(w[networkList[0]], v[networkList[1]])/divisor\n",
    "            direction = e/np.abs(e)\n",
    "            delta = (delta/direction).real\n",
    "    else:\n",
    "        #print('Empty eig')\n",
    "        delta = np.zeros(weights.shape)\n",
    "\n",
    "    #deltaFilter = numpy.not_equal(numpy.sign(delta), numpy.sign(ctx.weights))\n",
    "    #delta[deltaFilter] = 0\n",
    "\n",
    "    #delta = torch.tensor(delta, dtype = grad_output.dtype)\n",
    "\n",
    "    constrainNorm = True\n",
    "    if constrainNorm:\n",
    "        norm = np.linalg.norm(delta)\n",
    "        if norm>10:\n",
    "            delta = delta/norm #typical seems to be ~0.36\n",
    "        #delta = delta * numpy.abs(ctx.weights)\n",
    "        #delta = delta/norm(delta)\n",
    "\n",
    "    tangent_out = jnp.dot(delta,w_dot)\n",
    "\n",
    "    return primal_out, tangent_out"
   ]
  },
  {
   "cell_type": "code",
   "execution_count": null,
   "metadata": {},
   "outputs": [
    {
     "data": {
      "text/plain": [
       "(DeviceArray(5.6821356, dtype=float32),\n",
       " DeviceArray([0.20256595, 0.25577933, 0.06752197, 0.46549958, 0.270088  ,\n",
       "              0.25883427], dtype=float32))"
      ]
     },
     "metadata": {},
     "output_type": "display_data"
    }
   ],
   "source": [
    "# %%timeit \n",
    "jax.value_and_grad(spectralRadius,argnums=0)(weights_normal,ind,M)"
   ]
  },
  {
   "cell_type": "markdown",
   "metadata": {},
   "source": [
    "Compute gradient with finite differences:"
   ]
  },
  {
   "cell_type": "code",
   "execution_count": null,
   "metadata": {},
   "outputs": [
    {
     "data": {
      "text/plain": [
       "array([0.20253658, 0.25582314, 0.06754398, 0.46544075, 0.27008057,\n",
       "       0.25873184])"
      ]
     },
     "metadata": {},
     "output_type": "display_data"
    }
   ],
   "source": [
    "# %%timeit \n",
    "NP_cfd_spectralRadius(weights_normal,ind,np.array(M))"
   ]
  },
  {
   "cell_type": "code",
   "execution_count": null,
   "metadata": {},
   "outputs": [
    {
     "data": {
      "text/plain": [
       "array([0.20256042, 0.25577545, 0.06744862, 0.46527386, 0.2699852 ,\n",
       "       0.25897026])"
      ]
     },
     "metadata": {},
     "output_type": "display_data"
    }
   ],
   "source": [
    "# %%timeit \n",
    "cfd_spectralRadius(weights_normal,ind,M)"
   ]
  },
  {
   "cell_type": "code",
   "execution_count": 80,
   "metadata": {},
   "outputs": [
    {
     "ename": "TypeError",
     "evalue": "Incompatible shapes for dot: got (6, 1) and (6,).",
     "output_type": "error",
     "traceback": [
      "\u001b[0;31m---------------------------------------------------------------------------\u001b[0m",
      "\u001b[0;31mTypeError\u001b[0m                                 Traceback (most recent call last)",
      "\u001b[1;32m/Users/gabora/Documents/SaezGroup/LocalGitRepo/NN_cellnopt/NeuralODEs/notebooks/spectralRadius_nan_issue_solved.ipynb Cell 31\u001b[0m in \u001b[0;36m<cell line: 2>\u001b[0;34m()\u001b[0m\n\u001b[1;32m      <a href='vscode-notebook-cell:/Users/gabora/Documents/SaezGroup/LocalGitRepo/NN_cellnopt/NeuralODEs/notebooks/spectralRadius_nan_issue_solved.ipynb#Y115sZmlsZQ%3D%3D?line=0'>1</a>\u001b[0m \u001b[39m#AvlantsSpectralRadius(weights_normal, ind, M)\u001b[39;00m\n\u001b[0;32m----> <a href='vscode-notebook-cell:/Users/gabora/Documents/SaezGroup/LocalGitRepo/NN_cellnopt/NeuralODEs/notebooks/spectralRadius_nan_issue_solved.ipynb#Y115sZmlsZQ%3D%3D?line=1'>2</a>\u001b[0m jax\u001b[39m.\u001b[39;49mvalue_and_grad(AvlantsSpectralRadius,argnums\u001b[39m=\u001b[39;49m\u001b[39m0\u001b[39;49m)(weights_normal, ind, M)\n",
      "    \u001b[0;31m[... skipping hidden 13 frame]\u001b[0m\n",
      "\u001b[1;32m/Users/gabora/Documents/SaezGroup/LocalGitRepo/NN_cellnopt/NeuralODEs/notebooks/spectralRadius_nan_issue_solved.ipynb Cell 31\u001b[0m in \u001b[0;36mAvlantsSpectralRadius_jvp\u001b[0;34m(primals, tangents)\u001b[0m\n\u001b[1;32m    <a href='vscode-notebook-cell:/Users/gabora/Documents/SaezGroup/LocalGitRepo/NN_cellnopt/NeuralODEs/notebooks/spectralRadius_nan_issue_solved.ipynb#Y115sZmlsZQ%3D%3D?line=109'>110</a>\u001b[0m         delta \u001b[39m=\u001b[39m delta\u001b[39m/\u001b[39mnorm \u001b[39m#typical seems to be ~0.36\u001b[39;00m\n\u001b[1;32m    <a href='vscode-notebook-cell:/Users/gabora/Documents/SaezGroup/LocalGitRepo/NN_cellnopt/NeuralODEs/notebooks/spectralRadius_nan_issue_solved.ipynb#Y115sZmlsZQ%3D%3D?line=110'>111</a>\u001b[0m     \u001b[39m#delta = delta * numpy.abs(ctx.weights)\u001b[39;00m\n\u001b[1;32m    <a href='vscode-notebook-cell:/Users/gabora/Documents/SaezGroup/LocalGitRepo/NN_cellnopt/NeuralODEs/notebooks/spectralRadius_nan_issue_solved.ipynb#Y115sZmlsZQ%3D%3D?line=111'>112</a>\u001b[0m     \u001b[39m#delta = delta/norm(delta)\u001b[39;00m\n\u001b[0;32m--> <a href='vscode-notebook-cell:/Users/gabora/Documents/SaezGroup/LocalGitRepo/NN_cellnopt/NeuralODEs/notebooks/spectralRadius_nan_issue_solved.ipynb#Y115sZmlsZQ%3D%3D?line=114'>115</a>\u001b[0m tangent_out \u001b[39m=\u001b[39m jnp\u001b[39m.\u001b[39;49mdot(delta,w_dot)\n\u001b[1;32m    <a href='vscode-notebook-cell:/Users/gabora/Documents/SaezGroup/LocalGitRepo/NN_cellnopt/NeuralODEs/notebooks/spectralRadius_nan_issue_solved.ipynb#Y115sZmlsZQ%3D%3D?line=116'>117</a>\u001b[0m \u001b[39mreturn\u001b[39;00m primal_out, tangent_out\n",
      "    \u001b[0;31m[... skipping hidden 17 frame]\u001b[0m\n",
      "File \u001b[0;32m~/opt/anaconda3/envs/jax_ode/lib/python3.10/site-packages/jax/_src/numpy/lax_numpy.py:2726\u001b[0m, in \u001b[0;36mdot\u001b[0;34m(a, b, precision)\u001b[0m\n\u001b[1;32m   2724\u001b[0m   \u001b[39mreturn\u001b[39;00m lax\u001b[39m.\u001b[39mmul(a, b)\n\u001b[1;32m   2725\u001b[0m \u001b[39mif\u001b[39;00m _max(a_ndim, b_ndim) \u001b[39m<\u001b[39m\u001b[39m=\u001b[39m \u001b[39m2\u001b[39m:\n\u001b[0;32m-> 2726\u001b[0m   \u001b[39mreturn\u001b[39;00m lax\u001b[39m.\u001b[39;49mdot(a, b, precision\u001b[39m=\u001b[39;49mprecision)\n\u001b[1;32m   2728\u001b[0m \u001b[39mif\u001b[39;00m b_ndim \u001b[39m==\u001b[39m \u001b[39m1\u001b[39m:\n\u001b[1;32m   2729\u001b[0m   contract_dims \u001b[39m=\u001b[39m ((a_ndim \u001b[39m-\u001b[39m \u001b[39m1\u001b[39m,), (\u001b[39m0\u001b[39m,))\n",
      "File \u001b[0;32m~/opt/anaconda3/envs/jax_ode/lib/python3.10/site-packages/jax/_src/lax/lax.py:656\u001b[0m, in \u001b[0;36mdot\u001b[0;34m(lhs, rhs, precision, preferred_element_type)\u001b[0m\n\u001b[1;32m    652\u001b[0m   \u001b[39mreturn\u001b[39;00m dot_general(lhs, rhs, (((lhs\u001b[39m.\u001b[39mndim \u001b[39m-\u001b[39m \u001b[39m1\u001b[39m,), (\u001b[39m0\u001b[39m,)), ((), ())),\n\u001b[1;32m    653\u001b[0m                      precision\u001b[39m=\u001b[39mprecision,\n\u001b[1;32m    654\u001b[0m                      preferred_element_type\u001b[39m=\u001b[39mpreferred_element_type)\n\u001b[1;32m    655\u001b[0m \u001b[39melse\u001b[39;00m:\n\u001b[0;32m--> 656\u001b[0m   \u001b[39mraise\u001b[39;00m \u001b[39mTypeError\u001b[39;00m(\u001b[39m\"\u001b[39m\u001b[39mIncompatible shapes for dot: got \u001b[39m\u001b[39m{}\u001b[39;00m\u001b[39m and \u001b[39m\u001b[39m{}\u001b[39;00m\u001b[39m.\u001b[39m\u001b[39m\"\u001b[39m\u001b[39m.\u001b[39mformat(\n\u001b[1;32m    657\u001b[0m       lhs\u001b[39m.\u001b[39mshape, rhs\u001b[39m.\u001b[39mshape))\n",
      "\u001b[0;31mTypeError\u001b[0m: Incompatible shapes for dot: got (6, 1) and (6,)."
     ]
    }
   ],
   "source": [
    "#AvlantsSpectralRadius(weights_normal, ind, M)\n",
    "jax.value_and_grad(AvlantsSpectralRadius,argnums=0)(weights_normal, ind, M)\n",
    "\n",
    "\n"
   ]
  },
  {
   "cell_type": "code",
   "execution_count": 17,
   "metadata": {},
   "outputs": [],
   "source": [
    "def getSpecRad(A):\n",
    "    tolerance = 10**-6\n",
    "    try:\n",
    "        e, v = scipy.sparse.linalg.eigs(A, k=1, which='LM', ncv=100, tol = tolerance)\n",
    "        v = v[:,0]\n",
    "        e = e[0]\n",
    "    except  (KeyboardInterrupt, SystemExit):\n",
    "        raise\n",
    "    except:\n",
    "        print('Forward fail (did not find any eigenvalue with eigs)')\n",
    "        tmpA = A.toarray()\n",
    "        e, v, w = lreig(tmpA) #fall back to solving full eig problem\n",
    "    return np.abs(e)\n",
    "\n",
    "def NP_cfd_spectralRadius(w,ind,M):\n",
    "\n",
    "    dw = 0.01\n",
    "    A = M\n",
    "    \n",
    "    A[ind[0],ind[1]] = w\n",
    "    \n",
    "    grad = np.zeros(w.shape)\n",
    "\n",
    "    for i in range(len(w)):\n",
    "        w_working = w.copy()\n",
    "        w_working = w_working.at[i].set(w_working[i] + dw)\n",
    "        A[ind[0],ind[1]] = w_working\n",
    "\n",
    "        e_forward = getSpecRad(A)\n",
    "        \n",
    "        w_working = w.copy()\n",
    "        w_working = w_working.at[i].set(w_working[i] - dw)\n",
    "        A[ind[0],ind[1]] = w_working\n",
    "\n",
    "        e_backward = getSpecRad(A)\n",
    "        grad[i] = (e_forward - e_backward)/(2*dw)\n",
    "        \n",
    "    return grad"
   ]
  },
  {
   "cell_type": "code",
   "execution_count": 18,
   "metadata": {},
   "outputs": [],
   "source": [
    "def cfd_spectralRadius(w,ind,M):\n",
    "\n",
    "    dw = 0.01\n",
    "    A = scipy.sparse.csr_matrix((w, ind), shape=M.shape)\n",
    "\n",
    "    A[ind[0],ind[1]] = w.copy()\n",
    "    \n",
    "    grad = np.zeros(w.shape)\n",
    "\n",
    "    for i in range(len(w)):\n",
    "        w_working = w.copy()\n",
    "        w_working = w_working.at[i].set(w_working[i] + dw)\n",
    "        A[ind[0],ind[1]] = w_working\n",
    "\n",
    "        e_forward = getSpecRad(A)\n",
    "        \n",
    "        w_working = w.copy()\n",
    "        w_working = w_working.at[i].set(w_working[i] - dw)\n",
    "        A[ind[0],ind[1]] = w_working\n",
    "\n",
    "        e_backward = getSpecRad(A)\n",
    "        grad[i] = (e_forward - e_backward)/(2*dw)\n",
    "        \n",
    "    return grad\n"
   ]
  },
  {
   "cell_type": "code",
   "execution_count": 59,
   "metadata": {},
   "outputs": [
    {
     "data": {
      "text/plain": [
       "DeviceArray([[0., 2., 0., 5.],\n",
       "             [4., 0., 3., 0.],\n",
       "             [0., 0., 0., 1.],\n",
       "             [0., 6., 0., 0.]], dtype=float32)"
      ]
     },
     "execution_count": 59,
     "metadata": {},
     "output_type": "execute_result"
    }
   ],
   "source": [
    "\n",
    "ind = jnp.array([[2,0,1,1,0,3],[3,1,2,0,3,1]])\n",
    "M = jnp.zeros([4,4])\n",
    "\n",
    "weights_normal = jnp.array([1.,2.,3.,4.,5.,6.])\n",
    "\n",
    "M = M.at[ind[0], ind[1]].set(weights_normal)\n",
    "\n",
    "def spectralRadius(w,ind,M):\n",
    "    M = M.at[ind[0], ind[1]].set(w)\n",
    "    e_val = jnp.linalg.eigvals(M)\n",
    "    r = jnp.max(jnp.abs(e_val))\n",
    "    return r\n",
    "\n",
    "def NPspectralRadius(M):\n",
    "    \n",
    "    e_val = np.linalg.eigvals(M)\n",
    "    r = np.max(np.abs(e_val))\n",
    "    return r\n",
    "\n",
    "M"
   ]
  },
  {
   "cell_type": "markdown",
   "metadata": {},
   "source": [
    "Compute the gradient via JAX:"
   ]
  },
  {
   "cell_type": "code",
   "execution_count": 62,
   "metadata": {},
   "outputs": [
    {
     "data": {
      "text/plain": [
       "(DeviceArray(5.6821356, dtype=float32),\n",
       " DeviceArray([0.20256595, 0.25577933, 0.06752197, 0.46549958, 0.270088  ,\n",
       "              0.25883427], dtype=float32))"
      ]
     },
     "execution_count": 62,
     "metadata": {},
     "output_type": "execute_result"
    }
   ],
   "source": [
    "# %%timeit \n",
    "jax.value_and_grad(spectralRadius,argnums=0)(weights_normal,ind,M)"
   ]
  },
  {
   "cell_type": "markdown",
   "metadata": {},
   "source": [
    "Compute gradient with finite differences:"
   ]
  },
  {
   "cell_type": "code",
   "execution_count": 63,
   "metadata": {},
   "outputs": [
    {
     "data": {
      "text/plain": [
       "array([0.20253658, 0.25582314, 0.06754398, 0.46544075, 0.27008057,\n",
       "       0.25873184])"
      ]
     },
     "execution_count": 63,
     "metadata": {},
     "output_type": "execute_result"
    }
   ],
   "source": [
    "# %%timeit \n",
    "NP_cfd_spectralRadius(weights_normal,ind,np.array(M))"
   ]
  },
  {
   "cell_type": "code",
   "execution_count": 64,
   "metadata": {},
   "outputs": [
    {
     "data": {
      "text/plain": [
       "array([0.20256042, 0.25577545, 0.06744862, 0.46527386, 0.2699852 ,\n",
       "       0.25897026])"
      ]
     },
     "execution_count": 64,
     "metadata": {},
     "output_type": "execute_result"
    }
   ],
   "source": [
    "# %%timeit \n",
    "cfd_spectralRadius(weights_normal,ind,M)"
   ]
  },
  {
   "cell_type": "code",
   "execution_count": 65,
   "metadata": {},
   "outputs": [
    {
     "data": {
      "text/plain": [
       "(5.682134,\n",
       " DeviceArray([0.20256588, 0.2557794 , 0.06752203, 0.46549955, 0.27008793,\n",
       "              0.25883427], dtype=float32))"
      ]
     },
     "execution_count": 65,
     "metadata": {},
     "output_type": "execute_result"
    }
   ],
   "source": [
    "# %%timeit \n",
    "jax.value_and_grad(AvlantsSpectralRadius,argnums=0)(weights_normal, ind, M)"
   ]
  },
  {
   "cell_type": "markdown",
   "metadata": {},
   "source": [
    "Time the real case"
   ]
  },
  {
   "cell_type": "code",
   "execution_count": 54,
   "metadata": {},
   "outputs": [],
   "source": [
    "M = np.loadtxt(\"M.csv\", delimiter=\",\")\n",
    "M_large = jnp.array(M)\n",
    "ind_large = np.loadtxt(\"ind.csv\", delimiter=\",\").astype(np.int32)\n",
    "w = np.loadtxt(\"w.csv\", delimiter=\",\")\n",
    "w_large = jnp.array(w)"
   ]
  },
  {
   "cell_type": "code",
   "execution_count": 57,
   "metadata": {},
   "outputs": [],
   "source": [
    "# %%timeit \n",
    "v,g = jax.value_and_grad(spectralRadius,argnums=0)(w_large,ind_large,M_large)\n",
    "# print(v)\n",
    "# print(g[0])\n",
    "# 0.37025064\n",
    "# nan\n",
    "# 38.3 ms ± 1.52 ms per loop (mean ± std. dev. of 7 runs, 10 loops each)"
   ]
  },
  {
   "cell_type": "markdown",
   "metadata": {},
   "source": [
    "Compute gradient with finite differences:"
   ]
  },
  {
   "cell_type": "code",
   "execution_count": 44,
   "metadata": {},
   "outputs": [
    {
     "name": "stdout",
     "output_type": "stream",
     "text": [
      "30.5 s ± 1.25 s per loop (mean ± std. dev. of 7 runs, 1 loop each)\n"
     ]
    }
   ],
   "source": [
    "# %%timeit \n",
    "g = NP_cfd_spectralRadius(w_large,ind_large,np.array(M_large))\n",
    "# g[1:5]\n",
    "# array([ 2.68220901e-05,  3.57627869e-05, -1.63912773e-05,  2.08616257e-05])\n",
    "# 30.5 s ± 1.25 s per loop (mean ± std. dev. of 7 runs, 1 loop each)"
   ]
  },
  {
   "cell_type": "code",
   "execution_count": 84,
   "metadata": {},
   "outputs": [
    {
     "data": {
      "text/plain": [
       "array([-5.96046448e-06, -2.23517418e-05, -1.49011612e-06,  1.78813934e-05])"
      ]
     },
     "execution_count": 84,
     "metadata": {},
     "output_type": "execute_result"
    }
   ],
   "source": [
    "#%%timeit \n",
    "g = cfd_spectralRadius(w_large,ind_large,M_large)\n",
    "g[1:5]\n",
    "# array([-1.78813934e-05,  5.96046448e-06,  1.49011612e-06, -8.94069672e-05])\n",
    "\n",
    "# 25 sec"
   ]
  },
  {
   "cell_type": "code",
   "execution_count": 88,
   "metadata": {},
   "outputs": [
    {
     "name": "stdout",
     "output_type": "stream",
     "text": [
      "21.4 ms ± 339 µs per loop (mean ± std. dev. of 7 runs, 10 loops each)\n"
     ]
    }
   ],
   "source": [
    "%%timeit \n",
    "v,g2 = jax.value_and_grad(AvlantsSpectralRadius,argnums=0)(w_large, ind_large, M_large)\n",
    "#print(v)\n",
    "#print(g2[1:5])"
   ]
  },
  {
   "cell_type": "markdown",
   "metadata": {},
   "source": [
    "The jax and CFD based gradient are very similar:"
   ]
  },
  {
   "cell_type": "code",
   "execution_count": 90,
   "metadata": {},
   "outputs": [
    {
     "data": {
      "text/plain": [
       "DeviceArray(0.00168966, dtype=float32)"
      ]
     },
     "execution_count": 90,
     "metadata": {},
     "output_type": "execute_result"
    }
   ],
   "source": [
    "jnp.linalg.norm(g-g2)/jnp.linalg.norm(0.5*(g+g2))"
   ]
  },
  {
   "cell_type": "code",
   "execution_count": 103,
   "metadata": {},
   "outputs": [
    {
     "name": "stdout",
     "output_type": "stream",
     "text": [
      "363 µs ± 4.5 µs per loop (mean ± std. dev. of 7 runs, 1,000 loops each)\n"
     ]
    }
   ],
   "source": [
    "%%timeit\n",
    "A = scipy.sparse.csr_matrix((w_large, ind_large), shape=M_large.shape, dtype='float32')\n"
   ]
  },
  {
   "cell_type": "code",
   "execution_count": 94,
   "metadata": {},
   "outputs": [
    {
     "name": "stdout",
     "output_type": "stream",
     "text": [
      "1.65 ms ± 84.1 µs per loop (mean ± std. dev. of 7 runs, 1,000 loops each)\n"
     ]
    }
   ],
   "source": [
    "%%timeit\n",
    "B = scipy.sparse.csr_matrix(M_large)\n"
   ]
  },
  {
   "cell_type": "code",
   "execution_count": 101,
   "metadata": {},
   "outputs": [
    {
     "data": {
      "text/plain": [
       "DeviceArray(True, dtype=bool)"
      ]
     },
     "execution_count": 101,
     "metadata": {},
     "output_type": "execute_result"
    }
   ],
   "source": [
    "(A.todense() == M_large).all()"
   ]
  },
  {
   "cell_type": "code",
   "execution_count": 102,
   "metadata": {},
   "outputs": [
    {
     "data": {
      "text/plain": [
       "DeviceArray(True, dtype=bool)"
      ]
     },
     "execution_count": 102,
     "metadata": {},
     "output_type": "execute_result"
    }
   ],
   "source": [
    "(B.todense() == M_large).all()"
   ]
  },
  {
   "cell_type": "code",
   "execution_count": null,
   "metadata": {},
   "outputs": [],
   "source": []
  }
 ],
 "metadata": {
  "kernelspec": {
   "display_name": "Python 3.10.4 ('jax_ode')",
   "language": "python",
   "name": "python3"
  },
  "language_info": {
   "codemirror_mode": {
    "name": "ipython",
    "version": 3
   },
   "file_extension": ".py",
   "mimetype": "text/x-python",
   "name": "python",
   "nbconvert_exporter": "python",
   "pygments_lexer": "ipython3",
   "version": "3.10.4"
  },
  "orig_nbformat": 4,
  "vscode": {
   "interpreter": {
    "hash": "3bd868a791ae3f2e25c037fe0842082b59576b23b402251a9a0f392799515c5f"
   }
  }
 },
 "nbformat": 4,
 "nbformat_minor": 2
}
