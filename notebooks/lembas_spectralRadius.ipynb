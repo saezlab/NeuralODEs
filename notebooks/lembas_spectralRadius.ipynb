{
 "cells": [
  {
   "cell_type": "markdown",
   "metadata": {},
   "source": [
    "Here we reproduce the spectraRadius calculation for the lembas model using JAX. (Fig3)"
   ]
  },
  {
   "cell_type": "code",
   "execution_count": 1,
   "metadata": {},
   "outputs": [],
   "source": [
    "# Avlants\n",
    "#import numpy\n",
    "#import scipy.sparse\n",
    "#from scipy.sparse.linalg import eigs\n",
    "#from scipy.linalg import eig\n",
    "#import matplotlib.pyplot as plt\n",
    "import time\n",
    "#import pandas\n",
    "\n",
    "# ours: \n",
    "import sys\n",
    "sys.path.insert(0, '../')\n",
    "from nn_cno import nn_models\n",
    "import numpy as np\n",
    "import scipy as sp\n",
    "import pandas as pd\n",
    "import equinox as eqx\n",
    "import optax\n",
    "import jax.tree_util as jtu\n",
    "from jax.experimental import sparse\n",
    "from jax import numpy as jnp\n",
    "import jax\n",
    "import matplotlib.pyplot as plt\n",
    "import functools as ft\n",
    "\n"
   ]
  },
  {
   "cell_type": "code",
   "execution_count": 2,
   "metadata": {},
   "outputs": [
    {
     "name": "stdout",
     "output_type": "stream",
     "text": [
      "[[ 0.          0.          0.22997452 ...  0.          0.\n",
      "  -0.01933691]\n",
      " [ 0.          0.          0.         ...  0.          0.\n",
      "   0.        ]\n",
      " [ 0.          0.          0.         ...  0.          0.\n",
      "   0.        ]\n",
      " ...\n",
      " [ 0.          0.          0.         ...  0.          0.\n",
      "   0.        ]\n",
      " [ 0.          0.          0.         ...  0.          0.\n",
      "  -0.2367709 ]\n",
      " [ 0.          0.          0.01332536 ...  0.          0.\n",
      "   0.        ]]\n",
      "[ 0.44196192 -0.89806216 -0.29604949 ... -0.55758506 -0.02819497\n",
      "  0.17342797]\n"
     ]
    }
   ],
   "source": [
    "\n",
    "steps = 500\n",
    "\n",
    "networkSize = 100\n",
    "density = 0.2\n",
    "errorSize = 1e-3\n",
    "noise = 1e-10\n",
    "initialEig = 1.2\n",
    "targetEig = 0.95\n",
    "expFactor = 20\n",
    "\n",
    "#Generate random test data\n",
    "\n",
    "network = sp.sparse.random(networkSize, networkSize, density)\n",
    "sp.sparse.lil_matrix.setdiag(network, 0)\n",
    "networkList = sp.sparse.find(network)\n",
    "networkList = np.array((networkList[1], networkList[0])) #we flip the network for rowise ordering\n",
    "\n",
    "weights = np.random.normal(0, 0.5, len(networkList[0]))\n",
    "A = sp.sparse.csr_matrix((weights, networkList), shape=(networkSize, networkSize), dtype='float32')\n",
    "e1, v = sp.sparse.linalg.eigs(A, k=1)\n",
    "A.data = initialEig * A.data/abs(e1)\n",
    "\n",
    "\n",
    "\n",
    "aBefore = A.copy()\n",
    "print(A.todense())\n",
    "print(weights)"
   ]
  },
  {
   "cell_type": "code",
   "execution_count": 3,
   "metadata": {},
   "outputs": [],
   "source": [
    "A = aBefore.copy()\n",
    "# in jax we need a dense matrix: \n",
    "M = jnp.zeros(A.shape)\n",
    "\n",
    "\n",
    "weights = jnp.array(A.data)\n",
    "\n",
    "#weights = torch.autograd.Variable(torch.from_numpy(A.data), requires_grad=True)\n",
    "scaleFactor = 1/np.exp(expFactor * targetEig)\n",
    "optimizer = optax.adam(learning_rate=0.001)\n",
    "# optimizer = torch.optim.Adam([weights], lr=0.001, weight_decay=0)\n",
    "opt_state = optimizer.init(weights)"
   ]
  },
  {
   "cell_type": "code",
   "execution_count": 4,
   "metadata": {},
   "outputs": [],
   "source": [
    "@jax.jit\n",
    "def compute_radius(w,A,ind):\n",
    "    A = A.at[ind[0],ind[1]].set(w)\n",
    "    e_val =  jnp.linalg.eigvals(A)\n",
    "    return jnp.max(jnp.abs(e_val))\n",
    "\n",
    "@jax.jit\n",
    "def compute_loss(w,A,ind):\n",
    "    radius = compute_radius(w,A,ind)\n",
    "    l = errorSize * scaleFactor * (jnp.exp(expFactor*radius)-1)\n",
    "    return l, radius\n",
    "\n",
    "compute_loss_vg = jax.value_and_grad(compute_loss,has_aux=True)\n",
    "\n",
    "#@ft.partial(jax.jit, static_argnums=1)\n",
    "@jax.jit\n",
    "def make_step(params, A, indices, opt_state):\n",
    "    (loss,radius), grads = compute_loss_vg(params,A, indices)\n",
    "    updates, opt_state = optimizer.update(grads, opt_state)\n",
    "    params = eqx.apply_updates(params, updates)\n",
    "    return loss, radius, params, opt_state\n"
   ]
  },
  {
   "cell_type": "code",
   "execution_count": 5,
   "metadata": {},
   "outputs": [
    {
     "data": {
      "text/plain": [
       "DeviceArray(1.1999978, dtype=float32)"
      ]
     },
     "execution_count": 5,
     "metadata": {},
     "output_type": "execute_result"
    }
   ],
   "source": [
    "#check compute_radius\n",
    "compute_radius(weights,M,networkList)"
   ]
  },
  {
   "cell_type": "code",
   "execution_count": 6,
   "metadata": {},
   "outputs": [
    {
     "data": {
      "text/plain": [
       "(DeviceArray(0.14840664, dtype=float32), DeviceArray(1.1999978, dtype=float32))"
      ]
     },
     "execution_count": 6,
     "metadata": {},
     "output_type": "execute_result"
    }
   ],
   "source": [
    "#check compute_loss\n",
    "compute_loss(weights,M,networkList)"
   ]
  },
  {
   "cell_type": "code",
   "execution_count": 7,
   "metadata": {},
   "outputs": [],
   "source": [
    "(loss, radius), grads = compute_loss_vg(weights, M, networkList)\n"
   ]
  },
  {
   "cell_type": "code",
   "execution_count": 8,
   "metadata": {},
   "outputs": [],
   "source": [
    "#check make_step\n",
    "loss, radius, params, opt_state = make_step(weights,M, networkList, opt_state)"
   ]
  },
  {
   "cell_type": "code",
   "execution_count": 9,
   "metadata": {},
   "outputs": [
    {
     "name": "stdout",
     "output_type": "stream",
     "text": [
      "i=0, e=1.2000, l=0.14841\n",
      "i=5, e=1.1282, l=0.03530\n",
      "i=10, e=1.1168, l=0.02809\n",
      "i=15, e=1.0825, l=0.01414\n",
      "i=20, e=1.0659, l=0.01015\n",
      "i=25, e=1.0507, l=0.00749\n",
      "i=30, e=1.0397, l=0.00602\n",
      "i=35, e=1.0304, l=0.00499\n",
      "i=40, e=1.0226, l=0.00427\n",
      "i=45, e=1.0169, l=0.00381\n",
      "i=50, e=1.0127, l=0.00351\n",
      "i=55, e=1.0041, l=0.00295\n",
      "i=60, e=0.9975, l=0.00258\n",
      "i=65, e=0.9921, l=0.00232\n",
      "i=70, e=0.9862, l=0.00206\n",
      "i=75, e=0.9807, l=0.00185\n",
      "i=80, e=0.9754, l=0.00166\n",
      "i=85, e=0.9735, l=0.00160\n",
      "i=90, e=0.9766, l=0.00170\n",
      "i=95, e=0.9693, l=0.00147\n",
      "i=100, e=0.9755, l=0.00167\n",
      "i=105, e=0.9680, l=0.00143\n",
      "i=110, e=0.9641, l=0.00133\n",
      "i=115, e=0.9625, l=0.00128\n",
      "i=120, e=0.9581, l=0.00118\n",
      "i=125, e=0.9608, l=0.00124\n",
      "i=130, e=0.9566, l=0.00114\n",
      "i=135, e=0.9556, l=0.00112\n",
      "i=140, e=0.9529, l=0.00106\n",
      "i=145, e=0.9514, l=0.00103\n",
      "i=150, e=0.9562, l=0.00113\n",
      "Time: 0.885490894317627\n"
     ]
    }
   ],
   "source": [
    "steps = 500\n",
    "storeEig = np.zeros(steps)\n",
    "init_weights = weights.copy()\n",
    "\n",
    "start = time.time()\n",
    "for i in range(steps):\n",
    "    loss, radius, weights, opt_state = make_step(weights,M, networkList, opt_state)\n",
    "    \n",
    "    storeEig[i] = radius\n",
    "    if radius <= targetEig:\n",
    "        storeEig[i:] = storeEig[i]\n",
    "        break\n",
    "\n",
    "    if i % 5 == 0:\n",
    "        print('i={:.0f}, e={:.4f}, l={:.5f}'.format(i, storeEig[i], loss.item()))\n",
    "\n",
    "\n",
    "print('Time:',  time.time()-start)\n",
    "\n",
    "aAfter = A.copy()\n",
    "aAfter.data = weights"
   ]
  },
  {
   "cell_type": "code",
   "execution_count": 10,
   "metadata": {},
   "outputs": [
    {
     "data": {
      "text/plain": [
       "Text(0.5, 0, 'Steps')"
      ]
     },
     "execution_count": 10,
     "metadata": {},
     "output_type": "execute_result"
    },
    {
     "data": {
      "image/png": "[encoded data removed]",
      "text/plain": [
       "<Figure size 432x288 with 1 Axes>"
      ]
     },
     "metadata": {
      "needs_background": "light"
     },
     "output_type": "display_data"
    }
   ],
   "source": [
    "plt.rcParams[\"figure.figsize\"] = (3,3)\n",
    "plt.plot(range(len(storeEig)), storeEig, 'o')\n",
    "plt.plot([0, steps], [targetEig, targetEig])\n",
    "plt.ylabel('Spectral radius')\n",
    "plt.xlabel('Steps')"
   ]
  },
  {
   "cell_type": "code",
   "execution_count": 13,
   "metadata": {},
   "outputs": [
    {
     "data": {
      "text/plain": [
       "<Figure size 432x432 with 0 Axes>"
      ]
     },
     "metadata": {},
     "output_type": "display_data"
    },
    {
     "data": {
      "image/png": "[encoded data removed]",
      "text/plain": [
       "<Figure size 432x432 with 2 Axes>"
      ]
     },
     "metadata": {
      "needs_background": "light"
     },
     "output_type": "display_data"
    }
   ],
   "source": [
    "\n",
    "plt.tight_layout()\n",
    "\n",
    "plt.rcParams[\"figure.figsize\"] = (6,6)\n",
    "plt.figure()\n",
    "eBefore = sp.linalg.eig(aBefore.todense(), left = False, right=False)\n",
    "eAfter = sp.linalg.eig(aAfter.todense(), left = False, right=False)\n",
    "\n",
    "dfBefore = pd.DataFrame((eBefore.real, eBefore.imag), index=['Real', 'Imaginary']).T\n",
    "dfAfter = pd.DataFrame((eAfter.real, eAfter.imag), index=['Real', 'Imaginary']).T\n",
    "\n",
    "\n",
    "axisLim = 1.2\n",
    "for i in [1, 2]:\n",
    "    plt.subplot(1,2,i)\n",
    "    if i == 1:\n",
    "        plt.scatter(eBefore.real, eBefore.imag)\n",
    "        plt.title('Before')\n",
    "    else:\n",
    "        plt.scatter(eAfter.real, eAfter.imag)\n",
    "        plt.title('After')\n",
    "\n",
    "\n",
    "    tmp = plt.Circle((0, 0), 1, color='k', fill=False)\n",
    "    plt.gca().add_patch(tmp)\n",
    "    plt.gca().set_aspect('equal', 'box')\n",
    "    plt.xlim([-axisLim, axisLim])\n",
    "    plt.ylim([-axisLim, axisLim])"
   ]
  },
  {
   "cell_type": "code",
   "execution_count": 15,
   "metadata": {},
   "outputs": [
    {
     "data": {
      "image/png": "[encoded data removed]",
      "text/plain": [
       "<Figure size 216x216 with 1 Axes>"
      ]
     },
     "metadata": {
      "needs_background": "light"
     },
     "output_type": "display_data"
    }
   ],
   "source": [
    "plt.rcParams[\"figure.figsize\"] = (3,3)\n",
    "plt.figure()\n",
    "df = pd.DataFrame((aAfter.data, aBefore.data), index=['Before', 'After']).T\n",
    "plt.plot(aAfter.data, aBefore.data, 'o', alpha=0.2)\n",
    "plt.xlabel('Weights after')\n",
    "plt.ylabel('Weights before')\n",
    "distance = np.sum(np.square(aAfter.data - aBefore.data))\n",
    "#plt.text(-1, 1, 'SS = {:.3f}'.format(distance))\n",
    "#plt.plot([-1, 1], [-1, 1], transform=ax2.transAxes)\n",
    "plt.plot([-1, 1], [-1, 1], 'k-')\n",
    "#plt.grid(True)\n",
    "plt.gca().set_aspect('equal', 'box')"
   ]
  },
  {
   "cell_type": "code",
   "execution_count": 17,
   "metadata": {},
   "outputs": [
    {
     "data": {
      "text/plain": [
       "Text(0, 0.5, 'Deviation_n+1')"
      ]
     },
     "execution_count": 17,
     "metadata": {},
     "output_type": "execute_result"
    },
    {
     "data": {
      "image/png": "[encoded data removed]",
      "text/plain": [
       "<Figure size 576x288 with 1 Axes>"
      ]
     },
     "metadata": {
      "needs_background": "light"
     },
     "output_type": "display_data"
    }
   ],
   "source": [
    "plt.rcParams[\"figure.figsize\"] = (8,4)\n",
    "plt.figure()\n",
    "numberOfSteps = 100\n",
    "amplitude = 0.001\n",
    "j = 0\n",
    "\n",
    "resultsBefore = np.zeros((numberOfSteps+1, networkSize))\n",
    "resultsBefore[0,:] = amplitude * np.random.randn(networkSize)\n",
    "resultsBefore[0,0] = amplitude\n",
    "\n",
    "for i in range(numberOfSteps):\n",
    "    resultsBefore[i+1,:] = aBefore.dot(resultsBefore[i,:])\n",
    "\n",
    "plt.subplot(1,2,1)\n",
    "\n",
    "for i in range(numberOfSteps-1):\n",
    "    plt.plot(resultsBefore[i:(i+2), j], resultsBefore[(i+1):(i+3), j], 'k-', alpha=0.2)\n",
    "\n",
    "plt.plot(resultsBefore[0, j], resultsBefore[1, j], 'o', color='b')\n",
    "plt.text(resultsBefore[0, j], resultsBefore[1, j], 'Start')\n",
    "plt.plot(resultsBefore[-2, j], resultsBefore[-1, j], 'o', color='r')\n",
    "plt.text(resultsBefore[-2, j], resultsBefore[-1, j], 'End')\n",
    "plt.gca().set_aspect('equal', 'box')\n",
    "plt.axis('equal')\n",
    "plt.axhline(0, color='black')\n",
    "plt.axvline(0, color='black')\n",
    "plt.xlabel('Deviation_n')\n",
    "plt.ylabel('Deviation_n+1')"
   ]
  },
  {
   "cell_type": "code",
   "execution_count": 18,
   "metadata": {},
   "outputs": [
    {
     "data": {
      "image/png": "[encoded data removed]",
      "text/plain": [
       "<Figure size 576x288 with 1 Axes>"
      ]
     },
     "metadata": {
      "needs_background": "light"
     },
     "output_type": "display_data"
    }
   ],
   "source": [
    "resultsAfter = np.zeros((numberOfSteps+1, networkSize))\n",
    "resultsAfter[0,:] = resultsBefore[0,:].copy()\n",
    "\n",
    "for i in range(numberOfSteps):\n",
    "    resultsAfter[i+1,:] = aAfter.dot(resultsAfter[i,:])\n",
    "\n",
    "plt.subplot(1,2,2)\n",
    "colorProperty = ['k', 'b']\n",
    "for i in range(numberOfSteps-1):\n",
    "    plt.plot(resultsAfter[i:(i+2), j], resultsAfter[(i+1):(i+3), j], 'k-', alpha=0.2)\n",
    "\n",
    "plt.plot(resultsAfter[0, j], resultsAfter[1, j], 'o', color='b')\n",
    "plt.text(resultsAfter[0, j], resultsAfter[1, j], 'Start')\n",
    "plt.plot(resultsAfter[-2, j], resultsAfter[-1, j], 'o', color='r')\n",
    "plt.text(resultsAfter[-2, j], resultsAfter[-1, j], 'End')\n",
    "plt.gca().set_aspect('equal', 'box')\n",
    "plt.axis('equal')\n",
    "plt.axhline(0, color='black')\n",
    "plt.axvline(0, color='black')\n",
    "plt.xlabel('Deviation_n')\n",
    "plt.ylabel('Deviation_n+1')\n",
    "#plt.plot([0, 0.3], [0, 0.3], 'k-')\n",
    "plt.tight_layout()"
   ]
  },
  {
   "cell_type": "markdown",
   "metadata": {},
   "source": [
    "# Everything below this line are tests and failed attempts"
   ]
  },
  {
   "cell_type": "code",
   "execution_count": 67,
   "metadata": {},
   "outputs": [],
   "source": [
    "# checking if we could compute the gradient\n",
    "# we have 2 options: \n",
    "# 1) compute the gradient using the jax library (jax eig only defined on dense matrices)\n",
    "# 2) compute the gradient by Avlant's formula\n",
    "\n",
    "def jax_computeSpectralRadius(spM1):\n",
    "    e_val =  jnp.linalg.eigvals(spM1.todense())\n",
    "    return jnp.max(jnp.abs(e_val))\n",
    "\n",
    "@jax.value_and_grad\n",
    "def jax_compute_loss(weights,spM):\n",
    "    spM.data = weights\n",
    "    spectralRadius = jax_computeSpectralRadius(spM)\n",
    "    loss = errorSize * scaleFactor * (jnp.exp(expFactor*spectralRadius)-1)\n",
    "    return(loss)\n",
    "\n",
    "\n",
    "A = aBefore.copy()\n",
    "jaxA = jax.experimental.sparse.BCOO.from_scipy_sparse(A)\n",
    "v,g = jax_compute_loss(weights,jaxA)"
   ]
  },
  {
   "cell_type": "code",
   "execution_count": 68,
   "metadata": {},
   "outputs": [
    {
     "name": "stdout",
     "output_type": "stream",
     "text": [
      "(19,)\n",
      "(19,)\n"
     ]
    },
    {
     "data": {
      "text/plain": [
       "DeviceArray([nan, nan, nan, nan, nan, nan, nan, nan, nan, nan, nan, nan,\n",
       "             nan, nan, nan, nan, nan, nan, nan], dtype=float32)"
      ]
     },
     "execution_count": 68,
     "metadata": {},
     "output_type": "execute_result"
    }
   ],
   "source": [
    "print(weights.shape)\n",
    "print(g.shape)\n",
    "g"
   ]
  },
  {
   "cell_type": "code",
   "execution_count": 82,
   "metadata": {},
   "outputs": [
    {
     "data": {
      "text/plain": [
       "(DeviceArray(1.2000018, dtype=float32),\n",
       " DeviceArray([nan, nan, nan, nan, nan, nan, nan, nan, nan, nan, nan, nan,\n",
       "              nan, nan, nan, nan, nan, nan, nan], dtype=float32))"
      ]
     },
     "execution_count": 82,
     "metadata": {},
     "output_type": "execute_result"
    }
   ],
   "source": [
    "@jax.value_and_grad\n",
    "def jax_computeSpectralRadius(w,spM1):\n",
    "    spM1.data = w\n",
    "    dM1 = spM1.todense()\n",
    "    e_val =  jnp.linalg.eigvals(dM1)\n",
    "    #print(e_val)\n",
    "    return jnp.max(jnp.abs(e_val))\n",
    "\n",
    "A = aBefore.copy()\n",
    "jaxA = jax.experimental.sparse.BCOO.from_scipy_sparse(A)\n",
    "v = jax_computeSpectralRadius(weights, jaxA)\n",
    "v"
   ]
  },
  {
   "cell_type": "code",
   "execution_count": 85,
   "metadata": {},
   "outputs": [],
   "source": [
    "class specRadius(eqx.Module):\n",
    "\n",
    "    weights: jnp.ndarray\n",
    "    A: sparse.BCOO = eqx.static_field()\n",
    "\n",
    "    def __init__(self, networkList: list, np_weights: jnp.ndarray, nStates: int):\n",
    "        super().__init__()\n",
    "        \n",
    "        scipyA =  sp.sparse.csr_matrix((weights, networkList), shape=(nStates, nStates))\n",
    "        self.A = sparse.BCOO.from_scipy_sparse(scipyA)\n",
    "        self.weights = weights\n",
    "    \n",
    "    def set_weights(self, input_weights):\n",
    "        self = eqx.tree_at(lambda l: l.weights, self, replace=jnp.asarray(input_weights))\n",
    "\n",
    "    def __call__(self):\n",
    "        self.A.data = self.weights\n",
    "\n",
    "        e_val =  jnp.linalg.eigvals(self.A.todense())\n",
    "        return jnp.max(jnp.abs(e_val))\n",
    "        "
   ]
  },
  {
   "cell_type": "code",
   "execution_count": 86,
   "metadata": {},
   "outputs": [],
   "source": [
    "sR = specRadius(networkList, weights, networkSize)"
   ]
  },
  {
   "cell_type": "code",
   "execution_count": 94,
   "metadata": {},
   "outputs": [
    {
     "data": {
      "text/plain": [
       "DeviceArray([ 0.14147443,  1.2915525 ,  0.4772732 ,  0.5789341 ,\n",
       "             -0.3088316 ,  0.56437916, -0.20301604,  0.7478714 ,\n",
       "             -0.5491153 , -0.6911814 , -1.2119398 , -0.02114597,\n",
       "             -1.7233162 , -0.68915874, -0.11731061,  0.385021  ,\n",
       "             -0.853952  , -0.15604219, -0.62800735], dtype=float32)"
      ]
     },
     "execution_count": 94,
     "metadata": {},
     "output_type": "execute_result"
    }
   ],
   "source": [
    "sR.weights"
   ]
  },
  {
   "cell_type": "code",
   "execution_count": 87,
   "metadata": {},
   "outputs": [
    {
     "data": {
      "text/plain": [
       "DeviceArray(1.2000018, dtype=float32)"
      ]
     },
     "execution_count": 87,
     "metadata": {},
     "output_type": "execute_result"
    }
   ],
   "source": [
    "sR()"
   ]
  },
  {
   "cell_type": "code",
   "execution_count": 95,
   "metadata": {},
   "outputs": [],
   "source": [
    "@eqx.filter_value_and_grad\n",
    "def class_compute_loss(specRadModel):\n",
    "    spectralRadius = specRadModel()\n",
    "    loss = spectralRadius\n",
    "    return(loss)\n"
   ]
  },
  {
   "cell_type": "code",
   "execution_count": 96,
   "metadata": {},
   "outputs": [],
   "source": [
    "loss, grads = class_compute_loss(sR)"
   ]
  },
  {
   "cell_type": "code",
   "execution_count": 97,
   "metadata": {},
   "outputs": [
    {
     "data": {
      "text/plain": [
       "DeviceArray(1.2000018, dtype=float32)"
      ]
     },
     "execution_count": 97,
     "metadata": {},
     "output_type": "execute_result"
    }
   ],
   "source": [
    "loss"
   ]
  },
  {
   "cell_type": "code",
   "execution_count": 98,
   "metadata": {},
   "outputs": [
    {
     "data": {
      "text/plain": [
       "DeviceArray([nan, nan, nan, nan, nan, nan, nan, nan, nan, nan, nan, nan,\n",
       "             nan, nan, nan, nan, nan, nan, nan], dtype=float32)"
      ]
     },
     "execution_count": 98,
     "metadata": {},
     "output_type": "execute_result"
    }
   ],
   "source": [
    "grads.weights"
   ]
  },
  {
   "cell_type": "markdown",
   "metadata": {},
   "source": [
    "`jax.Value_and_grad` works on dense matrix input and `eigvals`:\n"
   ]
  },
  {
   "cell_type": "code",
   "execution_count": 147,
   "metadata": {},
   "outputs": [
    {
     "name": "stdout",
     "output_type": "stream",
     "text": [
      "M:\n",
      "[[1. 0. 0.]\n",
      " [0. 2. 0.]\n",
      " [0. 0. 3.]]\n",
      "v:\n",
      "3.0\n",
      "g:\n",
      "[[0. 0. 0.]\n",
      " [0. 0. 0.]\n",
      " [0. 0. 1.]]\n"
     ]
    }
   ],
   "source": [
    "M = jnp.zeros((3,3))\n",
    "M = M.at[[0,1,2],[0,1,2]].set([1,2,3])\n",
    "@jax.value_and_grad\n",
    "def test_matrix_input(M):\n",
    "    e_val =  jnp.linalg.eigvals(M)\n",
    "    return jnp.max(jnp.abs(e_val))\n",
    "print(\"M:\")\n",
    "print(M)\n",
    "v,g = test_matrix_input(M)\n",
    "print(\"v:\")\n",
    "print(v)\n",
    "print(\"g:\")\n",
    "print(g)"
   ]
  },
  {
   "cell_type": "code",
   "execution_count": 156,
   "metadata": {},
   "outputs": [],
   "source": [
    "@jax.jit\n",
    "@jax.value_and_grad\n",
    "def test_matrix_input(M):\n",
    "    e_val =  jnp.linalg.eigvals(M)\n",
    "    return jnp.max(jnp.abs(e_val))"
   ]
  },
  {
   "cell_type": "code",
   "execution_count": 157,
   "metadata": {},
   "outputs": [
    {
     "name": "stdout",
     "output_type": "stream",
     "text": [
      "4.14 ms ± 323 µs per loop (mean ± std. dev. of 7 runs, 1 loop each)\n"
     ]
    }
   ],
   "source": [
    "%%timeit\n",
    "M = jnp.zeros((3,3))\n",
    "# lets time it. \n",
    "M = M.at[[0,1,2],[0,1,2]].set([1,2,3])\n",
    "v,g = test_matrix_input(M)\n",
    "\n",
    "# without jitting:\n",
    "# 8.96 ms ± 77.8 µs per loop (mean ± std. dev. of 7 runs, 100 loops each)\n",
    "# with jitting:\n",
    "# 4.14 ms ± 323 µs per loop (mean ± std. dev. of 7 runs, 1 loop each)"
   ]
  },
  {
   "cell_type": "markdown",
   "metadata": {},
   "source": [
    "`jax.Value_and_grad` works on vector input and then `eigvals`:\n"
   ]
  },
  {
   "cell_type": "code",
   "execution_count": 144,
   "metadata": {},
   "outputs": [
    {
     "name": "stdout",
     "output_type": "stream",
     "text": [
      "M:\n",
      "[[0. 0. 0.]\n",
      " [0. 0. 0.]\n",
      " [0. 0. 0.]]\n",
      "v:\n",
      "4.0\n",
      "g:\n",
      "[0. 0. 1.]\n"
     ]
    }
   ],
   "source": [
    "\n",
    "M = jnp.zeros((3,3))\n",
    "@jax.value_and_grad\n",
    "def test1(w,M):\n",
    "    M = M.at[[0,1,2],[0,1,2]].set(w)\n",
    "    e_val =  jnp.linalg.eigvals(M)\n",
    "    return jnp.max(jnp.abs(e_val))\n",
    "print(\"M:\")\n",
    "print(M)\n",
    "w = jnp.array([1.0,2.0,4.0])\n",
    "v,g = test1(w,M)\n",
    "print(\"v:\")\n",
    "print(v)\n",
    "print(\"g:\")\n",
    "print(g)"
   ]
  },
  {
   "cell_type": "code",
   "execution_count": 164,
   "metadata": {},
   "outputs": [],
   "source": [
    "@jax.jit\n",
    "@jax.value_and_grad\n",
    "def test_vector(w,M):\n",
    "    M = M.at[[0,1,2],[0,1,2]].set(w)\n",
    "    e_val =  jnp.linalg.eigvals(M)\n",
    "    return jnp.max(jnp.abs(e_val))"
   ]
  },
  {
   "cell_type": "code",
   "execution_count": 166,
   "metadata": {},
   "outputs": [
    {
     "name": "stdout",
     "output_type": "stream",
     "text": [
      "654 µs ± 5.09 µs per loop (mean ± std. dev. of 7 runs, 1,000 loops each)\n"
     ]
    }
   ],
   "source": [
    "%%timeit\n",
    "M = jnp.zeros((3,3))\n",
    "# lets time it. \n",
    "\n",
    "w = jnp.array([1.0,2.0,4.0])\n",
    "v,g = test_vector(w,M)\n",
    "# without jitting:\n",
    "# 18.2 ms ± 499 µs per loop (mean ± std. dev. of 7 runs, 100 loops each)\n",
    "# with jitting:\n",
    "# 654 µs ± 5.09 µs per loop (mean ± std. dev. of 7 runs, 1,000 loops each)"
   ]
  },
  {
   "cell_type": "markdown",
   "metadata": {},
   "source": [
    "Sparse - dense version? "
   ]
  },
  {
   "cell_type": "code",
   "execution_count": 214,
   "metadata": {},
   "outputs": [
    {
     "name": "stdout",
     "output_type": "stream",
     "text": [
      "M:\n",
      "BCOO(float32[3, 3], nse=3)\n",
      "v:\n",
      "7.0\n",
      "g:\n",
      "[0. 0. 1.]\n"
     ]
    }
   ],
   "source": [
    "dM = sp.sparse.csr_matrix(([1,2,3], [[0,1,2],[0,1,2]]), shape=(3, 3), dtype='float32')\n",
    "M = jax.experimental.sparse.BCOO.from_scipy_sparse(dM)\n",
    "@jax.value_and_grad\n",
    "def test_sparse_dense(w,M):\n",
    "    M.data = w\n",
    "    e_val =  jnp.linalg.eigvals(M.todense())\n",
    "    return jnp.max(jnp.abs(e_val))\n",
    "print(\"M:\")\n",
    "print(M)\n",
    "w = jnp.array([1.0,2.0,7.0])\n",
    "v,g = test_sparse_dense(w,M)\n",
    "print(\"v:\")\n",
    "print(v)\n",
    "print(\"g:\")\n",
    "print(g)"
   ]
  },
  {
   "cell_type": "markdown",
   "metadata": {},
   "source": [
    "Let's check what didnt work yesterday"
   ]
  },
  {
   "cell_type": "code",
   "execution_count": 213,
   "metadata": {},
   "outputs": [
    {
     "data": {
      "text/plain": [
       "matrix([[ 0.        , -0.43581876,  0.        ,  0.        ,  0.        ],\n",
       "        [ 0.        ,  0.        ,  0.18418576, -0.19678171,  0.        ],\n",
       "        [ 0.        ,  0.        ,  0.        ,  0.        ,  2.2863867 ],\n",
       "        [ 0.        ,  0.        ,  0.        ,  0.        ,  0.        ],\n",
       "        [ 0.        ,  0.        ,  0.6298148 ,  0.        ,  0.        ]],\n",
       "       dtype=float32)"
      ]
     },
     "execution_count": 213,
     "metadata": {},
     "output_type": "execute_result"
    }
   ],
   "source": [
    "A_save = A.copy()\n",
    "A.todense()"
   ]
  },
  {
   "cell_type": "code",
   "execution_count": 272,
   "metadata": {},
   "outputs": [
    {
     "data": {
      "text/plain": [
       "matrix([[ 1.   , -0.43 ,  0.   ,  0.   ,  0.   ],\n",
       "        [ 0.   ,  0.   ,  0.18 , -0.197,  0.   ],\n",
       "        [ 0.   ,  0.   ,  0.   ,  0.   ,  2.286],\n",
       "        [ 0.   ,  0.   ,  0.   ,  0.   ,  0.   ],\n",
       "        [ 0.   ,  0.   ,  0.63 ,  0.   ,  0.   ]], dtype=float32)"
      ]
     },
     "execution_count": 272,
     "metadata": {},
     "output_type": "execute_result"
    }
   ],
   "source": [
    "sp.sparse.csr_matrix(([1.,-0.43,0.18,-0.197,2.286,0.63], [[0,0,1,1,2,4],[0,1,2,3,4,2]]), shape=(5, 5), dtype='float32').todense()"
   ]
  },
  {
   "cell_type": "code",
   "execution_count": 311,
   "metadata": {},
   "outputs": [
    {
     "name": "stdout",
     "output_type": "stream",
     "text": [
      "Matrix (M):\n",
      "[[0. 1. 0. 1.]\n",
      " [0. 0. 0. 0.]\n",
      " [0. 0. 0. 1.]\n",
      " [0. 1. 0. 0.]]\n",
      "[0.+0.j 0.+0.j 0.+0.j 0.+0.j]\n",
      "v:\n",
      "0.0\n",
      "g:\n",
      "[nan nan nan nan nan nan]\n"
     ]
    }
   ],
   "source": [
    "dM = sp.sparse.csr_matrix(([1.,0.,1.,1.,2.,1.], [[2,0,1,1,0,3],[3,1,2,0,3,1]]), shape=(4, 4), dtype='float32')\n",
    "M = jax.experimental.sparse.BCOO.from_scipy_sparse(dM)\n",
    "\n",
    "@jax.value_and_grad\n",
    "def test_sparse_dense(w,M):\n",
    "    M.data = w\n",
    "    e_val =  jnp.linalg.eigvals(M.todense())\n",
    "    return jnp.max(jnp.abs(e_val))\n",
    "\n",
    "w = jnp.array([1.,1.,0.,0.,1.,1.])\n",
    "M.data = w\n",
    "print(\"Matrix (M):\")\n",
    "print(M.todense())\n",
    "e_val =  jnp.linalg.eigvals(M.todense())\n",
    "print(e_val)\n",
    "v,g = test_sparse_dense(w,M)\n",
    "print(\"v:\")\n",
    "print(v)\n",
    "print(\"g:\")\n",
    "print(g)\n",
    "\n",
    "# print(\"--------------------------\")\n",
    "# w = jnp.array([1.,0.,1.,1.,1.,1.])\n",
    "# M.data = w\n",
    "# print(\"Matrix (M):\")\n",
    "# print(M.todense())\n",
    "# e_val =  jnp.linalg.eigvals(M.todense())\n",
    "# print(e_val)\n",
    "# v,g = test_sparse_dense(w,M)\n",
    "# print(\"v:\")\n",
    "# print(v)\n",
    "# print(\"g:\")\n",
    "# print(g)"
   ]
  },
  {
   "cell_type": "code",
   "execution_count": null,
   "metadata": {},
   "outputs": [],
   "source": []
  },
  {
   "cell_type": "code",
   "execution_count": null,
   "metadata": {},
   "outputs": [],
   "source": []
  },
  {
   "cell_type": "code",
   "execution_count": null,
   "metadata": {},
   "outputs": [],
   "source": []
  },
  {
   "cell_type": "code",
   "execution_count": null,
   "metadata": {},
   "outputs": [],
   "source": []
  },
  {
   "cell_type": "code",
   "execution_count": null,
   "metadata": {},
   "outputs": [],
   "source": []
  },
  {
   "cell_type": "code",
   "execution_count": null,
   "metadata": {},
   "outputs": [],
   "source": []
  },
  {
   "cell_type": "code",
   "execution_count": null,
   "metadata": {},
   "outputs": [],
   "source": []
  },
  {
   "cell_type": "code",
   "execution_count": 300,
   "metadata": {},
   "outputs": [
    {
     "name": "stdout",
     "output_type": "stream",
     "text": [
      "Matrix (M):\n",
      "[[0. 0. 0. 2.]\n",
      " [1. 0. 1. 0.]\n",
      " [0. 0. 0. 1.]\n",
      " [0. 1. 0. 0.]]\n",
      "[-7.2112513e-01+1.2490247j -7.2112513e-01-1.2490247j\n",
      "  1.4422497e+00+0.j         1.6660005e-08+0.j       ]\n",
      "v:\n",
      "1.4422497\n",
      "g:\n",
      "[1.6024998e-01 1.8087150e-07 1.6025004e-01 3.2049999e-01 1.6024998e-01\n",
      " 4.8074979e-01]\n"
     ]
    }
   ],
   "source": [
    "M = jnp.zeros((4,4))\n",
    "@jax.value_and_grad\n",
    "def test_dense(w,A,ind):\n",
    "    A = A.at[ind[0],ind[1]].set(w)\n",
    "    e_val =  jnp.linalg.eigvals(A)\n",
    "    return jnp.max(jnp.abs(e_val))\n",
    "\n",
    "indices = np.array([[2,0,1,1,0,3],[3,1,2,0,3,1]])\n",
    "\n",
    "w = jnp.array([1.,0.,1.,1.,2.,1.])\n",
    "M = M.at[indices[0],indices[1]].set(w)\n",
    "print(\"Matrix (M):\")\n",
    "print(M)\n",
    "e_val =  jnp.linalg.eigvals(M)\n",
    "print(e_val)\n",
    "v,g = test_dense(w,M,indices)\n",
    "print(\"v:\")\n",
    "print(v)\n",
    "print(\"g:\")\n",
    "print(g)\n",
    "\n",
    "# print(\"--------------------------\")\n",
    "# w = jnp.array([0,1.,-1.,1.])\n",
    "# M.data = w\n",
    "# print(\"Matrix (M):\")\n",
    "# print(M.todense())\n",
    "# e_val =  jnp.linalg.eigvals(M.todense())\n",
    "# print(e_val)\n",
    "# v,g = test_sparse_dense(w,M)\n",
    "# print(\"v:\")\n",
    "# print(v)\n",
    "# print(\"g:\")\n",
    "# print(g)"
   ]
  },
  {
   "cell_type": "code",
   "execution_count": null,
   "metadata": {},
   "outputs": [],
   "source": []
  },
  {
   "cell_type": "code",
   "execution_count": 258,
   "metadata": {},
   "outputs": [
    {
     "name": "stdout",
     "output_type": "stream",
     "text": [
      "Traced<ConcreteArray([ 0. +0.j  0. +0.j  1.2+0.j -1.2+0.j  0. +0.j], dtype=complex64)>with<JVPTrace(level=2/0)> with\n",
      "  primal = DeviceArray([ 0. +0.j,  0. +0.j,  1.2+0.j, -1.2+0.j,  0. +0.j], dtype=complex64)\n",
      "  tangent = Traced<ShapedArray(complex64[5])>with<JaxprTrace(level=1/0)> with\n",
      "    pval = (ShapedArray(complex64[5]), None)\n",
      "    recipe = JaxprEqnRecipe(eqn_id=<object object at 0x14d549200>, in_tracers=(Traced<ConcreteArray([[ 1.0000000e+00+0.j  0.0000000e+00+0.j  0.0000000e+00+0.j\n",
      "   0.0000000e+00+0.j  0.0000000e+00+0.j]\n",
      " [ 1.0000000e+00+0.j  1.1312915e-30+0.j  0.0000000e+00+0.j\n",
      "   0.0000000e+00+0.j  0.0000000e+00+0.j]\n",
      " [-4.8850887e-02-0.j  1.3450789e-01-0.j  8.7634075e-01+0.j\n",
      "  -0.0000000e+00-0.j  4.5994365e-01-0.j]\n",
      " [-4.8850879e-02-0.j -1.3450788e-01-0.j  8.7634075e-01+0.j\n",
      "  -0.0000000e+00-0.j -4.5994356e-01-0.j]\n",
      " [ 1.0000000e+00+0.j  1.1312914e-30+0.j  0.0000000e+00+0.j\n",
      "   0.0000000e+00+0.j  0.0000000e+00+0.j]], dtype=complex64):JaxprTrace(level=1/0)>, Traced<ConcreteArray([[ 1.0000000e+00+0.j  1.0000000e+00+0.j -4.8850887e-02-0.j\n",
      "  -4.8850879e-02-0.j  1.0000000e+00+0.j]\n",
      " [ 0.0000000e+00+0.j  1.1312915e-30+0.j  1.3450789e-01-0.j\n",
      "  -1.3450788e-01-0.j  1.1312914e-30+0.j]\n",
      " [ 0.0000000e+00+0.j  0.0000000e+00+0.j  8.7634075e-01+0.j\n",
      "   8.7634075e-01+0.j  0.0000000e+00+0.j]\n",
      " [ 0.0000000e+00+0.j  0.0000000e+00+0.j -0.0000000e+00-0.j\n",
      "  -0.0000000e+00-0.j  0.0000000e+00+0.j]\n",
      " [ 0.0000000e+00+0.j  0.0000000e+00+0.j  4.5994365e-01-0.j\n",
      "  -4.5994356e-01-0.j  0.0000000e+00+0.j]], dtype=complex64):JaxprTrace(level=1/0)>, Traced<ConcreteArray([[ 1.0000000e+00+0.j  1.0000000e+00+0.j -4.8850887e-02-0.j\n",
      "  -4.8850879e-02-0.j  1.0000000e+00+0.j]\n",
      " [ 0.0000000e+00+0.j  1.1312915e-30+0.j  1.3450789e-01+0.j\n",
      "  -1.3450788e-01+0.j  1.1312914e-30+0.j]\n",
      " [ 0.0000000e+00+0.j  0.0000000e+00+0.j  8.7634075e-01+0.j\n",
      "   8.7634075e-01+0.j  0.0000000e+00+0.j]\n",
      " [ 0.0000000e+00+0.j  0.0000000e+00+0.j  5.2484566e-01+0.j\n",
      "  -9.1988719e-01+0.j  0.0000000e+00+0.j]\n",
      " [ 0.0000000e+00+0.j  0.0000000e+00+0.j -0.0000000e+00+0.j\n",
      "   0.0000000e+00-0.j  0.0000000e+00+0.j]], dtype=complex64):JaxprTrace(level=1/0)>, Traced<ConcreteArray([0 1 2 4 3], dtype=int32):JaxprTrace(level=1/0)>, Traced<ShapedArray(complex64[5,5]):JaxprTrace(level=1/0)>), out_tracer_refs=[<weakref at 0x14b69d580; to 'JaxprTracer' at 0x14b69f9c0>], out_avals=[ShapedArray(complex64[5])], primitive=xla_call, params={'device': None, 'backend': None, 'name': 'eigvals', 'donated_invars': (False, False, False, False, False), 'inline': False, 'keep_unused': False, 'call_jaxpr': { \u001b[34m\u001b[22m\u001b[1mlambda \u001b[39m\u001b[22m\u001b[22m; a\u001b[35m:c64[5,5]\u001b[39m b\u001b[35m:c64[5,5]\u001b[39m c\u001b[35m:c64[5,5]\u001b[39m d\u001b[35m:i32[5]\u001b[39m e\u001b[35m:c64[5,5]\u001b[39m. \u001b[34m\u001b[22m\u001b[1mlet\n",
      "    \u001b[39m\u001b[22m\u001b[22mf\u001b[35m:c64[5,5]\u001b[39m = transpose[permutation=(1, 0)] e\n",
      "    g\u001b[35m:c64[5,5]\u001b[39m = custom_linear_solve[\n",
      "      const_lengths=_LinearSolveTuple(matvec=1, vecmat=1, solve=2, transpose_solve=2)\n",
      "      jaxprs=_LinearSolveTuple(matvec={ \u001b[34m\u001b[22m\u001b[1mlambda \u001b[39m\u001b[22m\u001b[22m; a\u001b[35m:c64[5,5]\u001b[39m b\u001b[35m:c64[5,5]\u001b[39m. \u001b[34m\u001b[22m\u001b[1mlet\n",
      "    \u001b[39m\u001b[22m\u001b[22mc\u001b[35m:c64[5,5]\u001b[39m = dot_general[\n",
      "      dimension_numbers=(((1,), (1,)), ((), ()))\n",
      "      precision=(<Precision.HIGHEST: 2>, <Precision.HIGHEST: 2>)\n",
      "      preferred_element_type=None\n",
      "    ] a b\n",
      "    d\u001b[35m:c64[5,5]\u001b[39m = transpose[permutation=(1, 0)] c\n",
      "  \u001b[34m\u001b[22m\u001b[1min \u001b[39m\u001b[22m\u001b[22m(d,) }, vecmat={ \u001b[34m\u001b[22m\u001b[1mlambda \u001b[39m\u001b[22m\u001b[22m; a\u001b[35m:c64[5,5]\u001b[39m b\u001b[35m:c64[5,5]\u001b[39m. \u001b[34m\u001b[22m\u001b[1mlet\n",
      "    \u001b[39m\u001b[22m\u001b[22mc\u001b[35m:c64[5,5]\u001b[39m = dot_general[\n",
      "      dimension_numbers=(((1,), (0,)), ((), ()))\n",
      "      precision=(<Precision.HIGHEST: 2>, <Precision.HIGHEST: 2>)\n",
      "      preferred_element_type=None\n",
      "    ] b a\n",
      "  \u001b[34m\u001b[22m\u001b[1min \u001b[39m\u001b[22m\u001b[22m(c,) }, solve={ \u001b[34m\u001b[22m\u001b[1mlambda \u001b[39m\u001b[22m\u001b[22m; a\u001b[35m:c64[5,5]\u001b[39m b\u001b[35m:i32[5]\u001b[39m c\u001b[35m:c64[5,5]\u001b[39m. \u001b[34m\u001b[22m\u001b[1mlet\n",
      "    \u001b[39m\u001b[22m\u001b[22md\u001b[35m:c64[5,5]\u001b[39m = xla_call[\n",
      "      call_jaxpr={ \u001b[34m\u001b[22m\u001b[1mlambda \u001b[39m\u001b[22m\u001b[22m; e\u001b[35m:c64[5,5]\u001b[39m f\u001b[35m:i32[5]\u001b[39m g\u001b[35m:c64[5,5]\u001b[39m. \u001b[34m\u001b[22m\u001b[1mlet\n",
      "          \u001b[39m\u001b[22m\u001b[22mh\u001b[35m:c64[5,5,1]\u001b[39m = broadcast_in_dim[\n",
      "            broadcast_dimensions=(0, 1)\n",
      "            shape=(5, 5, 1)\n",
      "          ] g\n",
      "          i\u001b[35m:bool[5]\u001b[39m = lt f 0\n",
      "          j\u001b[35m:i32[5]\u001b[39m = add f 5\n",
      "          k\u001b[35m:i32[5]\u001b[39m = select_n i f j\n",
      "          l\u001b[35m:i32[5,1]\u001b[39m = broadcast_in_dim[broadcast_dimensions=(0,) shape=(5, 1)] k\n",
      "          m\u001b[35m:c64[5,5,1]\u001b[39m = gather[\n",
      "            dimension_numbers=GatherDimensionNumbers(offset_dims=(0, 2), collapsed_slice_dims=(1,), start_index_map=(1,))\n",
      "            fill_value=None\n",
      "            indices_are_sorted=False\n",
      "            mode=GatherScatterMode.PROMISE_IN_BOUNDS\n",
      "            slice_sizes=(5, 1, 1)\n",
      "            unique_indices=False\n",
      "          ] h l\n",
      "          n\u001b[35m:c64[5,1,5]\u001b[39m = transpose[permutation=(1, 2, 0)] m\n",
      "          o\u001b[35m:c64[5,5]\u001b[39m = reshape[dimensions=None new_sizes=(5, 5)] n\n",
      "          p\u001b[35m:c64[5,5]\u001b[39m = triangular_solve[\n",
      "            conjugate_a=False\n",
      "            left_side=True\n",
      "            lower=True\n",
      "            transpose_a=False\n",
      "            unit_diagonal=True\n",
      "          ] e o\n",
      "          q\u001b[35m:c64[5,1,5]\u001b[39m = reshape[dimensions=None new_sizes=(5, 1, 5)] p\n",
      "          r\u001b[35m:c64[5,5]\u001b[39m = reshape[dimensions=None new_sizes=(5, 5)] q\n",
      "          s\u001b[35m:c64[5,5]\u001b[39m = triangular_solve[\n",
      "            conjugate_a=False\n",
      "            left_side=True\n",
      "            lower=False\n",
      "            transpose_a=False\n",
      "            unit_diagonal=False\n",
      "          ] e r\n",
      "          t\u001b[35m:c64[5,1,5]\u001b[39m = reshape[dimensions=None new_sizes=(5, 1, 5)] s\n",
      "          u\u001b[35m:bool[]\u001b[39m = lt 0 0\n",
      "          v\u001b[35m:i32[]\u001b[39m = add 0 1\n",
      "          w\u001b[35m:i32[]\u001b[39m = select_n u 0 v\n",
      "          x\u001b[35m:i32[]\u001b[39m = convert_element_type[new_dtype=int32 weak_type=False] w\n",
      "          y\u001b[35m:i32[1]\u001b[39m = broadcast_in_dim[broadcast_dimensions=() shape=(1,)] x\n",
      "          z\u001b[35m:c64[5,5,1]\u001b[39m = transpose[permutation=(2, 0, 1)] t\n",
      "          ba\u001b[35m:c64[5,5]\u001b[39m = gather[\n",
      "            dimension_numbers=GatherDimensionNumbers(offset_dims=(0, 1), collapsed_slice_dims=(2,), start_index_map=(2,))\n",
      "            fill_value=None\n",
      "            indices_are_sorted=True\n",
      "            mode=GatherScatterMode.PROMISE_IN_BOUNDS\n",
      "            slice_sizes=(5, 5, 1)\n",
      "            unique_indices=True\n",
      "          ] z y\n",
      "        \u001b[34m\u001b[22m\u001b[1min \u001b[39m\u001b[22m\u001b[22m(ba,) }\n",
      "      name=_lu_solve\n",
      "    ] a b c\n",
      "  \u001b[34m\u001b[22m\u001b[1min \u001b[39m\u001b[22m\u001b[22m(d,) }, transpose_solve={ \u001b[34m\u001b[22m\u001b[1mlambda \u001b[39m\u001b[22m\u001b[22m; a\u001b[35m:c64[5,5]\u001b[39m b\u001b[35m:i32[5]\u001b[39m c\u001b[35m:c64[5,5]\u001b[39m. \u001b[34m\u001b[22m\u001b[1mlet\n",
      "    \u001b[39m\u001b[22m\u001b[22md\u001b[35m:c64[5,5]\u001b[39m = xla_call[\n",
      "      call_jaxpr={ \u001b[34m\u001b[22m\u001b[1mlambda \u001b[39m\u001b[22m\u001b[22m; e\u001b[35m:c64[5,5]\u001b[39m f\u001b[35m:i32[5]\u001b[39m g\u001b[35m:c64[5,5]\u001b[39m. \u001b[34m\u001b[22m\u001b[1mlet\n",
      "          \u001b[39m\u001b[22m\u001b[22mh\u001b[35m:c64[5,5,1]\u001b[39m = broadcast_in_dim[\n",
      "            broadcast_dimensions=(0, 1)\n",
      "            shape=(5, 5, 1)\n",
      "          ] g\n",
      "          i\u001b[35m:c64[5,1,5]\u001b[39m = transpose[permutation=(1, 2, 0)] h\n",
      "          j\u001b[35m:c64[5,5]\u001b[39m = reshape[dimensions=None new_sizes=(5, 5)] i\n",
      "          k\u001b[35m:c64[5,5]\u001b[39m = triangular_solve[\n",
      "            conjugate_a=False\n",
      "            left_side=True\n",
      "            lower=False\n",
      "            transpose_a=True\n",
      "            unit_diagonal=False\n",
      "          ] e j\n",
      "          l\u001b[35m:c64[5,1,5]\u001b[39m = reshape[dimensions=None new_sizes=(5, 1, 5)] k\n",
      "          m\u001b[35m:c64[5,5]\u001b[39m = reshape[dimensions=None new_sizes=(5, 5)] l\n",
      "          n\u001b[35m:c64[5,5]\u001b[39m = triangular_solve[\n",
      "            conjugate_a=False\n",
      "            left_side=True\n",
      "            lower=True\n",
      "            transpose_a=True\n",
      "            unit_diagonal=True\n",
      "          ] e m\n",
      "          o\u001b[35m:c64[5,1,5]\u001b[39m = reshape[dimensions=None new_sizes=(5, 1, 5)] n\n",
      "          p\u001b[35m:i32[5]\u001b[39m = xla_call[\n",
      "            call_jaxpr={ \u001b[34m\u001b[22m\u001b[1mlambda \u001b[39m\u001b[22m\u001b[22m; q\u001b[35m:i32[5]\u001b[39m. \u001b[34m\u001b[22m\u001b[1mlet\n",
      "                \u001b[39m\u001b[22m\u001b[22mr\u001b[35m:i32[5]\u001b[39m = iota[dimension=0 dtype=int32 shape=(5,)] \n",
      "                _\u001b[35m:i32[5]\u001b[39m s\u001b[35m:i32[5]\u001b[39m = sort[dimension=0 is_stable=True num_keys=1] q\n",
      "                  r\n",
      "              \u001b[34m\u001b[22m\u001b[1min \u001b[39m\u001b[22m\u001b[22m(s,) }\n",
      "            name=argsort\n",
      "          ] f\n",
      "          t\u001b[35m:bool[5]\u001b[39m = lt p 0\n",
      "          u\u001b[35m:i32[5]\u001b[39m = add p 5\n",
      "          v\u001b[35m:i32[5]\u001b[39m = select_n t p u\n",
      "          w\u001b[35m:i32[5,1]\u001b[39m = broadcast_in_dim[broadcast_dimensions=(0,) shape=(5, 1)] v\n",
      "          x\u001b[35m:c64[5,5,1]\u001b[39m = transpose[permutation=(2, 0, 1)] o\n",
      "          y\u001b[35m:c64[5,5,1]\u001b[39m = gather[\n",
      "            dimension_numbers=GatherDimensionNumbers(offset_dims=(0, 2), collapsed_slice_dims=(1,), start_index_map=(1,))\n",
      "            fill_value=None\n",
      "            indices_are_sorted=False\n",
      "            mode=GatherScatterMode.PROMISE_IN_BOUNDS\n",
      "            slice_sizes=(5, 1, 1)\n",
      "            unique_indices=False\n",
      "          ] x w\n",
      "          z\u001b[35m:bool[]\u001b[39m = lt 0 0\n",
      "          ba\u001b[35m:i32[]\u001b[39m = add 0 1\n",
      "          bb\u001b[35m:i32[]\u001b[39m = select_n z 0 ba\n",
      "          bc\u001b[35m:i32[]\u001b[39m = convert_element_type[new_dtype=int32 weak_type=False] bb\n",
      "          bd\u001b[35m:i32[1]\u001b[39m = broadcast_in_dim[broadcast_dimensions=() shape=(1,)] bc\n",
      "          be\u001b[35m:c64[5,5]\u001b[39m = gather[\n",
      "            dimension_numbers=GatherDimensionNumbers(offset_dims=(0, 1), collapsed_slice_dims=(2,), start_index_map=(2,))\n",
      "            fill_value=None\n",
      "            indices_are_sorted=True\n",
      "            mode=GatherScatterMode.PROMISE_IN_BOUNDS\n",
      "            slice_sizes=(5, 5, 1)\n",
      "            unique_indices=True\n",
      "          ] y bd\n",
      "        \u001b[34m\u001b[22m\u001b[1min \u001b[39m\u001b[22m\u001b[22m(be,) }\n",
      "      name=_lu_solve\n",
      "    ] a b c\n",
      "  \u001b[34m\u001b[22m\u001b[1min \u001b[39m\u001b[22m\u001b[22m(d,) })\n",
      "    ] b b c d c d f\n",
      "    h\u001b[35m:c64[5,5]\u001b[39m = transpose[permutation=(1, 0)] g\n",
      "    i\u001b[35m:c64[5,5]\u001b[39m = xla_call[\n",
      "      call_jaxpr={ \u001b[34m\u001b[22m\u001b[1mlambda \u001b[39m\u001b[22m\u001b[22m; j\u001b[35m:c64[5,5]\u001b[39m k\u001b[35m:c64[5,5]\u001b[39m. \u001b[34m\u001b[22m\u001b[1mlet\n",
      "          \u001b[39m\u001b[22m\u001b[22ml\u001b[35m:c64[5,5]\u001b[39m = mul k j\n",
      "        \u001b[34m\u001b[22m\u001b[1min \u001b[39m\u001b[22m\u001b[22m(l,) }\n",
      "      name=fn\n",
      "    ] a h\n",
      "    m\u001b[35m:c64[5]\u001b[39m = xla_call[\n",
      "      call_jaxpr={ \u001b[34m\u001b[22m\u001b[1mlambda \u001b[39m\u001b[22m\u001b[22m; n\u001b[35m:c64[5,5]\u001b[39m. \u001b[34m\u001b[22m\u001b[1mlet\n",
      "          \u001b[39m\u001b[22m\u001b[22mo\u001b[35m:c64[5]\u001b[39m = reduce_sum[axes=(1,)] n\n",
      "        \u001b[34m\u001b[22m\u001b[1min \u001b[39m\u001b[22m\u001b[22m(o,) }\n",
      "      name=_reduce_sum\n",
      "    ] i\n",
      "  \u001b[34m\u001b[22m\u001b[1min \u001b[39m\u001b[22m\u001b[22m(m,) }}, effects=set(), source_info=SourceInfo(traceback=<jaxlib.xla_extension.Traceback object at 0x14c3a0870>, name_stack=NameStack(stack=(Transform(name='jvp'),))))\n",
      "0j\n",
      "[nan+nanj nan+nanj nan+nanj nan+nanj nan+nanj]\n"
     ]
    }
   ],
   "source": [
    "#print(A.todense())\n",
    "M = jax.experimental.sparse.BCOO.from_scipy_sparse(A)\n",
    "weights = jnp.array(A.data)\n",
    "\n",
    "\n",
    "\n",
    "def test_sparse_dense(w,M):\n",
    "    M.data = w\n",
    "    e_val =  jnp.linalg.eigvals(M.todense())\n",
    "    print(e_val)\n",
    "    return e_val[0]\n",
    "\n",
    "test_sparse_dense = jax.value_and_grad(test_sparse_dense,holomorphic=True)\n",
    "\n",
    "jaxA = jax.experimental.sparse.BCOO.from_scipy_sparse(A)\n",
    "\n",
    "v,g = test_sparse_dense(jnp.complex64(weights),jaxA)\n",
    "print(v)\n",
    "print(g)"
   ]
  },
  {
   "cell_type": "code",
   "execution_count": 222,
   "metadata": {},
   "outputs": [
    {
     "data": {
      "text/plain": [
       "DeviceArray([ 0.       +0.j,  0.       +0.j,  1.2      +0.j,\n",
       "             -1.2000002+0.j,  0.       +0.j], dtype=complex64)"
      ]
     },
     "execution_count": 222,
     "metadata": {},
     "output_type": "execute_result"
    }
   ],
   "source": [
    "jnp.linalg.eigvals(A.todense())"
   ]
  },
  {
   "cell_type": "code",
   "execution_count": 232,
   "metadata": {},
   "outputs": [
    {
     "data": {
      "text/plain": [
       "2.23606797749979"
      ]
     },
     "execution_count": 232,
     "metadata": {},
     "output_type": "execute_result"
    }
   ],
   "source": [
    "abs(1+2j)"
   ]
  },
  {
   "cell_type": "code",
   "execution_count": 235,
   "metadata": {},
   "outputs": [
    {
     "data": {
      "text/plain": [
       "2.23606797749979"
      ]
     },
     "execution_count": 235,
     "metadata": {},
     "output_type": "execute_result"
    }
   ],
   "source": [
    "np.sqrt(1+4)"
   ]
  },
  {
   "cell_type": "code",
   "execution_count": 239,
   "metadata": {},
   "outputs": [],
   "source": [
    "c= np.array([1+2j,2+1j,2+2j])"
   ]
  },
  {
   "cell_type": "code",
   "execution_count": 241,
   "metadata": {},
   "outputs": [
    {
     "data": {
      "text/plain": [
       "array([2.23606798, 2.23606798, 2.82842712])"
      ]
     },
     "execution_count": 241,
     "metadata": {},
     "output_type": "execute_result"
    }
   ],
   "source": [
    "abs(c)"
   ]
  },
  {
   "cell_type": "code",
   "execution_count": 242,
   "metadata": {},
   "outputs": [
    {
     "data": {
      "text/plain": [
       "array([1., 2., 2.])"
      ]
     },
     "execution_count": 242,
     "metadata": {},
     "output_type": "execute_result"
    }
   ],
   "source": [
    "cr = np.real(c)\n",
    "cr"
   ]
  },
  {
   "cell_type": "code",
   "execution_count": 243,
   "metadata": {},
   "outputs": [
    {
     "data": {
      "text/plain": [
       "array([2., 1., 2.])"
      ]
     },
     "execution_count": 243,
     "metadata": {},
     "output_type": "execute_result"
    }
   ],
   "source": [
    "ci = np.imag(c)\n",
    "ci"
   ]
  },
  {
   "cell_type": "code",
   "execution_count": null,
   "metadata": {},
   "outputs": [],
   "source": [
    "# implement the spectralRadius class as a function. \n",
    "\n",
    "def spectralRadius(weights, A, networkList):\n",
    "    A.data = weights\n",
    "\n",
    "    jax.scipy.linalg.eigh\n",
    "\n",
    "\n",
    "\n",
    "class spectralRadius(torch.autograd.Function):\n",
    "    @staticmethod\n",
    "    def forward(ctx, weights, A, networkList):\n",
    "        ctx.dim = weights.shape\n",
    "        ctx.tol = 10**-6\n",
    "        weights = weights.detach().numpy().flatten()\n",
    "\n",
    "        ctx.networkList = networkList\n",
    "        ctx.weights = weights\n",
    "        ctx.A = A\n",
    "        ctx.A.data = ctx.weights\n",
    "\n",
    "\n",
    "        try:\n",
    "            e, v = eigs(ctx.A, k=1, which='LM', ncv=100, tol=ctx.tol)\n",
    "            v = v[:,0]\n",
    "            e = e[0]\n",
    "        except  (KeyboardInterrupt, SystemExit):\n",
    "            raise\n",
    "        except:\n",
    "            print('Forward fail (did not find any eigenvalue with eigs)')\n",
    "            tmpA = ctx.A.toarray()\n",
    "            e, v, w = lreig(tmpA) #fall back to solving full eig problem\n",
    "\n",
    "        spectralRadius = numpy.abs(e)\n",
    "        ctx.e = e\n",
    "        ctx.v = v\n",
    "        ctx.w = numpy.empty(0)\n",
    "\n",
    "        return torch.from_numpy(numpy.asarray(spectralRadius))\n",
    "\n",
    "    @staticmethod\n",
    "    def backward(ctx, grad_output):\n",
    "        v = ctx.v\n",
    "        e = ctx.e\n",
    "        w = ctx.w\n",
    "        networkList = ctx.networkList\n",
    "        tmpA = ctx.A\n",
    "        tmpA.data = ctx.weights\n",
    "        tmpA = tmpA.T  #tmpA.T.toarray()\n",
    "\n",
    "        if w.shape[0]==0:\n",
    "            try:\n",
    "                eT = e\n",
    "                if numpy.isreal(eT): #does for some reason not converge if imag = 0\n",
    "                    eT = eT.real\n",
    "                e2, w = eigs(tmpA, k=1, sigma=eT, OPpart='r', tol=ctx.tol)\n",
    "                selected = 0 #numpy.argmin(numpy.abs(e2-eT))\n",
    "                w = w[:,selected]\n",
    "                e2 = e2[selected]\n",
    "                #Check if same eigenvalue\n",
    "                if abs(e-e2)>(ctx.tol*10):\n",
    "                    print('Backward fail (eigs left returned different eigenvalue)')\n",
    "                    w = numpy.empty(0)\n",
    "                    #e, v, w = lreig(tmpA) #fall back to solving whole eig problem\n",
    "            except (KeyboardInterrupt, SystemExit):\n",
    "                raise\n",
    "            except:\n",
    "                print('Backward fail (did not find any eigenvalue with eigs)')\n",
    "                #e, v, w = lreig(tmpA) #fall back to solving full eig problem\n",
    "                delta = numpy.zeros(ctx.weights.shape)\n",
    "\n",
    "\n",
    "        if w.shape[0] != 0:\n",
    "            divisor = w.T.dot(v).flatten()\n",
    "            if abs(divisor) == 0:\n",
    "                delta = numpy.zeros(ctx.weights.shape)\n",
    "                print('Empty eig')\n",
    "            else:\n",
    "                delta = numpy.multiply(w[networkList[0]], v[networkList[1]])/divisor\n",
    "                direction = e/numpy.abs(e)\n",
    "                delta = (delta/direction).real\n",
    "        else:\n",
    "            #print('Empty eig')\n",
    "            delta = numpy.zeros(ctx.weights.shape)\n",
    "\n",
    "        #deltaFilter = numpy.not_equal(numpy.sign(delta), numpy.sign(ctx.weights))\n",
    "        #delta[deltaFilter] = 0\n",
    "\n",
    "        delta = torch.tensor(delta, dtype = grad_output.dtype)\n",
    "\n",
    "        constrainNorm = True\n",
    "        if constrainNorm:\n",
    "            norm = torch.norm(delta, 2)\n",
    "            if norm>10:\n",
    "                delta = delta/norm #typical seems to be ~0.36\n",
    "            #delta = delta * numpy.abs(ctx.weights)\n",
    "            #delta = delta/norm(delta)\n",
    "\n",
    "\n",
    "        dW = grad_output * delta\n",
    "\n",
    "        return dW, None, None, None\n",
    "\n"
   ]
  },
  {
   "cell_type": "code",
   "execution_count": null,
   "metadata": {},
   "outputs": [],
   "source": [
    "\n",
    "for i in range(steps):\n",
    "    optimizer.zero_grad()\n",
    "    A.data = weights.detach().numpy()\n",
    "    spectralRadius = bionetwork.spectralRadius.apply(weights, A, networkList)\n",
    "    storeEig[i] = abs(spectralRadius.item())\n",
    "\n",
    "    if spectralRadius.item()>targetEig:\n",
    "        loss = errorSize * scaleFactor * (torch.exp(expFactor*spectralRadius)-1)\n",
    "        #loss = errorSize * torch.abs(spectralRadius)\n",
    "        #loss = errorSize * torch.square(spectralRadius)\n",
    "    else:\n",
    "        storeEig[i:] =storeEig[i]\n",
    "        break\n",
    "    loss.backward()\n",
    "    optimizer.step()\n",
    "    weights.data = weights.data + torch.randn(weights.shape) * noise\n",
    "\n",
    "    if i % 5 == 0:\n",
    "        print('i={:.0f}, e={:.4f}, l={:.5f}'.format(i, storeEig[i], loss.item()))\n",
    "\n",
    "e = bionetwork.spectralRadius.apply(weights, A, networkList)\n",
    "\n",
    "print('Time:',  time.time()-start)\n",
    "\n",
    "aAfter = A.copy()\n",
    "aAfter.data = weights.detach().numpy()"
   ]
  },
  {
   "cell_type": "markdown",
   "metadata": {},
   "source": [
    "## Test automatic differentiation on eigs\n",
    "\n",
    "It seems to work only on some matrices"
   ]
  },
  {
   "cell_type": "markdown",
   "metadata": {},
   "source": [
    "## Test `eig` computations"
   ]
  },
  {
   "cell_type": "markdown",
   "metadata": {},
   "source": [
    "At this point it is not clear how to compute the eigenvalues of the matrix with jax:D \n"
   ]
  },
  {
   "cell_type": "code",
   "execution_count": null,
   "metadata": {},
   "outputs": [],
   "source": [
    "\n",
    "# dense --------------------\n",
    "# diagonal matrix: \n",
    "dA_diag = np.diag([1.,2.,3.,4.,5.])\n",
    "# print(A_diag)\n",
    "\n",
    "# symmetric matrix\n",
    "A_sym = np.random.rand(5,5)\n",
    "dA_sym = A_sym.T @ A_sym\n",
    "# print(A_sym)\n",
    "\n",
    "# assymetric matrix: \n",
    "dA_asym = np.random.rand(5,5)\n",
    "# print(A_asym)\n",
    "\n",
    "# sparse ------------------\n",
    "# diagonal matrix: \n",
    "sA_diag = sp.sparse.csr_matrix(dA_diag)\n",
    "\n",
    "# symmetric matrix\n",
    "sA_sym = sp.sparse.csr_matrix(dA_sym)\n",
    "\n",
    "# assymetric matrix: \n",
    "sA_asym = sp.sparse.csr_matrix(dA_asym)"
   ]
  },
  {
   "cell_type": "code",
   "execution_count": null,
   "metadata": {},
   "outputs": [
    {
     "name": "stdout",
     "output_type": "stream",
     "text": [
      "dense diagonal eig: [1.+0.j 2.+0.j 3.+0.j 4.+0.j 5.+0.j]\n",
      "dense symmetric eig: [8.06603349+0.j 0.01739985+0.j 0.08720788+0.j 1.09022592+0.j\n",
      " 1.14549474+0.j]\n",
      "dense asymmetric eig: [ 2.70793357+0.j  0.53293532+0.j  0.31176538+0.j -0.49553591+0.j\n",
      " -0.30791125+0.j]\n"
     ]
    }
   ],
   "source": [
    "# test dense eigenvalue solver.\n",
    "\n",
    "e_val, e_vec = sp.linalg.eig(dA_diag)\n",
    "print(\"dense diagonal eig: {}\".format(e_val))\n",
    "\n",
    "e_val, e_vec = sp.linalg.eig(dA_sym)\n",
    "print(\"dense symmetric eig: {}\".format(e_val))\n",
    "\n",
    "e_val, e_vec = sp.linalg.eig(dA_asym)\n",
    "print(\"dense asymmetric eig: {}\".format(e_val))"
   ]
  },
  {
   "cell_type": "code",
   "execution_count": null,
   "metadata": {},
   "outputs": [
    {
     "name": "stdout",
     "output_type": "stream",
     "text": [
      "dense diagonal eig: [1. 2. 3. 4. 5.]\n",
      "dense symmetric eig: [0.01739985 0.08720788 1.09022592 1.14549474 8.06603349]\n",
      "dense asymmetric eig (wrong): [-0.39055537 -0.27205606  0.05384859  0.43511236  2.92283759]\n"
     ]
    }
   ],
   "source": [
    "# test dense eigenvalue solver.\n",
    "\n",
    "e_val, e_vec = sp.linalg.eigh(dA_diag)\n",
    "print(\"dense diagonal eig: {}\".format(e_val))\n",
    "\n",
    "e_val, e_vec = sp.linalg.eigh(dA_sym)\n",
    "print(\"dense symmetric eig: {}\".format(e_val))\n",
    "\n",
    "# eigh is wrong for assymetric matrices -> there is no error raised!\n",
    "e_val, e_vec = sp.linalg.eigh(dA_asym)\n",
    "print(\"dense asymmetric eig (wrong): {}\".format(e_val))\n"
   ]
  },
  {
   "cell_type": "code",
   "execution_count": null,
   "metadata": {},
   "outputs": [
    {
     "name": "stdout",
     "output_type": "stream",
     "text": [
      "sparse diagonal eig: [5.+0.j]\n",
      "sparse symmetric eig: [8.06603349+0.j]\n",
      "sparse asymmetric eig: [2.70793357+0.j]\n"
     ]
    }
   ],
   "source": [
    "# test sparse eigenvalue solver.\n",
    "\n",
    "e_val, e_vec = sp.sparse.linalg.eigs(sA_diag, k=1, which='LM', ncv=100, tol=10**-6)\n",
    "print(\"sparse diagonal eig: {}\".format(e_val))\n",
    "\n",
    "e_val, e_vec = sp.sparse.linalg.eigs(sA_sym, k=1, which='LM', ncv=100, tol=10**-6)\n",
    "print(\"sparse symmetric eig: {}\".format(e_val))\n",
    "\n",
    "e_val, e_vec = sp.sparse.linalg.eigs(sA_asym, k=1, which='LM', ncv=100, tol=10**-6)\n",
    "print(\"sparse asymmetric eig: {}\".format(e_val))"
   ]
  },
  {
   "cell_type": "code",
   "execution_count": null,
   "metadata": {},
   "outputs": [
    {
     "name": "stdout",
     "output_type": "stream",
     "text": [
      "dense Jax/lax diagonal eig: [DeviceArray([1.+0.j, 2.+0.j, 3.+0.j, 4.+0.j, 5.+0.j], dtype=complex64)]\n",
      "dense Jax/lax  symmetric eig: [DeviceArray([8.066034  +0.j, 0.01739965+0.j, 0.08720782+0.j,\n",
      "             1.0902258 +0.j, 1.1454947 +0.j], dtype=complex64)]\n",
      "dense Jax/lax  asymmetric eig: [DeviceArray([ 2.7079346 +0.j,  0.53293526+0.j,  0.31176546+0.j,\n",
      "             -0.49553594+0.j, -0.30791125+0.j], dtype=complex64)]\n"
     ]
    }
   ],
   "source": [
    "# test jax/lax dense eigenvalue solver.\n",
    "\n",
    "e_val = jax.lax.linalg.eig(jnp.array(dA_diag),compute_left_eigenvectors=False, compute_right_eigenvectors = False)\n",
    "print(\"dense Jax/lax diagonal eig: {}\".format(e_val))\n",
    "\n",
    "e_val =  jax.lax.linalg.eig(jnp.array(dA_sym),compute_left_eigenvectors=False, compute_right_eigenvectors = False)\n",
    "print(\"dense Jax/lax  symmetric eig: {}\".format(e_val))\n",
    "\n",
    "e_val =  jax.lax.linalg.eig(jnp.array(dA_asym),compute_left_eigenvectors=False, compute_right_eigenvectors = False)\n",
    "print(\"dense Jax/lax  asymmetric eig: {}\".format(e_val))\n",
    "\n"
   ]
  },
  {
   "cell_type": "code",
   "execution_count": null,
   "metadata": {},
   "outputs": [
    {
     "name": "stdout",
     "output_type": "stream",
     "text": [
      "dense jnp diagonal eig: [1.+0.j 2.+0.j 3.+0.j 4.+0.j 5.+0.j]\n",
      "dense jnp  symmetric eig: [8.066034  +0.j 0.01739965+0.j 0.08720782+0.j 1.0902258 +0.j\n",
      " 1.1454947 +0.j]\n",
      "dense jnp asymmetric eig: [ 2.7079346 +0.j  0.53293526+0.j  0.31176546+0.j -0.49553594+0.j\n",
      " -0.30791125+0.j]\n"
     ]
    }
   ],
   "source": [
    "# test jax/numpy dense eigenvalue solver.\n",
    "\n",
    "e_val = jnp.linalg.eigvals(jnp.array(dA_diag))\n",
    "print(\"dense jnp diagonal eig: {}\".format(e_val))\n",
    "\n",
    "e_val =  jnp.linalg.eigvals(jnp.array(dA_sym))\n",
    "print(\"dense jnp  symmetric eig: {}\".format(e_val))\n",
    "\n",
    "e_val =  jnp.linalg.eigvals(jnp.array(dA_asym))\n",
    "print(\"dense jnp asymmetric eig: {}\".format(e_val))"
   ]
  }
 ],
 "metadata": {
  "kernelspec": {
   "display_name": "Python 3.10.4 ('jax_ode')",
   "language": "python",
   "name": "python3"
  },
  "language_info": {
   "codemirror_mode": {
    "name": "ipython",
    "version": 3
   },
   "file_extension": ".py",
   "mimetype": "text/x-python",
   "name": "python",
   "nbconvert_exporter": "python",
   "pygments_lexer": "ipython3",
   "version": "3.10.4"
  },
  "orig_nbformat": 4,
  "vscode": {
   "interpreter": {
    "hash": "3bd868a791ae3f2e25c037fe0842082b59576b23b402251a9a0f392799515c5f"
   }
  }
 },
 "nbformat": 4,
 "nbformat_minor": 2
}
