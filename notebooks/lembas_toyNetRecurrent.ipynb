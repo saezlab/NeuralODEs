{
 "cells": [
  {
   "cell_type": "code",
   "execution_count": 1,
   "metadata": {},
   "outputs": [],
   "source": [
    "import sys\n",
    "sys.path.insert(0, '../')\n",
    "from nn_cno import nn_models\n",
    "import numpy as np\n",
    "import scipy as sp\n",
    "import equinox as eqx\n",
    "import optax\n",
    "from jax.experimental import sparse\n",
    "from jax import numpy as jnp\n",
    "import jax\n",
    "import matplotlib.pyplot as plt\n",
    "import functools as ft"
   ]
  },
  {
   "cell_type": "code",
   "execution_count": 2,
   "metadata": {},
   "outputs": [],
   "source": [
    "modelFile = \"data/ToyNetRecurrent-Model.txt\"\n",
    "annotationFile = \"data/ToyNetRecurrent-Annotation.txt\"\n",
    "parameterFile = \"data/ToyNetRecurrent-Parameters.txt\"\n",
    "\n",
    "parameterizedModel = nn_models.bioNetwork(networkFile=modelFile, nodeAnnotationFile=annotationFile)\n",
    "parameterizedModel.loadParams(parameterFile)\n",
    "\n",
    "Model = nn_models.bioNetwork(networkFile=modelFile, nodeAnnotationFile=annotationFile)"
   ]
  },
  {
   "cell_type": "markdown",
   "metadata": {},
   "source": [
    "Simulate some in-silico data"
   ]
  },
  {
   "cell_type": "code",
   "execution_count": 3,
   "metadata": {},
   "outputs": [
    {
     "name": "stdout",
     "output_type": "stream",
     "text": [
      "input shape:(2,)\n"
     ]
    }
   ],
   "source": [
    "inputPoints = np.linspace(0, 1, num=10)\n",
    "X = np.array(np.meshgrid(inputPoints, inputPoints)).T.reshape(-1, parameterizedModel.network.nInputs)\n",
    "sim_batch = jax.vmap(parameterizedModel.model, in_axes=(0),out_axes=(0))\n",
    "Y = sim_batch(X)"
   ]
  },
  {
   "cell_type": "code",
   "execution_count": 4,
   "metadata": {},
   "outputs": [
    {
     "name": "stdout",
     "output_type": "stream",
     "text": [
      "input shape:(2,)\n",
      "input shape:(2,)\n",
      "input shape:(2,)\n",
      "input shape:(2,)\n",
      "input shape:(2,)\n",
      "input shape:(2,)\n",
      "input shape:(2,)\n",
      "input shape:(2,)\n",
      "7.73 ms ± 111 µs per loop (mean ± std. dev. of 2 runs, 4 loops each)\n"
     ]
    }
   ],
   "source": [
    "%%timeit -n 4 -r 2\n",
    "Y = sim_batch(X)"
   ]
  },
  {
   "cell_type": "code",
   "execution_count": 5,
   "metadata": {},
   "outputs": [],
   "source": [
    "testSelection = 'Random'\n",
    "printSelection = True\n",
    "if testSelection=='Random':\n",
    "    nrOfTest = 20\n",
    "    testSamples = np.random.permutation(len(Y))[0:nrOfTest]\n",
    "elif testSelection=='VerticalStripe':\n",
    "    condition = np.logical_or((X[:,0] == X[40,0]), (X[:,0] == X[50,0]))\n",
    "    testSamples = np.argwhere(condition).flatten()\n",
    "elif testSelection=='HorizontalStripe':\n",
    "    condition = np.logical_or((X[:,1] == X[4,1]), (X[:,1] == X[5,1]))\n",
    "    testSamples = np.argwhere(condition).flatten()\n",
    "elif testSelection=='Boundary':\n",
    "     testSamples = np.array([0, 1, 10, 11, 12, 22, 23, 33, 34, 44, 45, 54, 55, 64, 65, 74, 75, 84, 85, 94, 95])\n",
    "elif testSelection=='SWQ':\n",
    "     testSamples = np.array([0, 1, 2, 3, 4, 10, 11, 12, 13, 14, 20, 21, 22, 23, 24, 30, 31, 32, 33, 34])\n",
    "\n",
    "trainSamples = np.array(range(X.shape[0]))\n",
    "trainSamples= trainSamples[np.isin(trainSamples, testSamples)==False]\n"
   ]
  },
  {
   "cell_type": "code",
   "execution_count": 6,
   "metadata": {},
   "outputs": [],
   "source": [
    "def contourPlot(X, Y, Z):\n",
    "    import pandas as pd \n",
    "    import numpy\n",
    "    import seaborn as sns\n",
    "    df = pd.DataFrame.from_dict(np.array([X.flatten(), Y.flatten(), Z.flatten()]).T)\n",
    "    df.columns = ['X_value','Y_value','Z_value']\n",
    "    #df = df.round(1)\n",
    "    pivotted = df.pivot('Y_value','X_value','Z_value')\n",
    "    ax = sns.heatmap(pivotted, cmap='gray', vmin=0, vmax=1, square=True)\n",
    "    ax.invert_yaxis()\n",
    "    ax.set_ylabel('')\n",
    "    ax.set_xlabel('')\n",
    "\n",
    "    fmt = '{:0.1f}'\n",
    "    xticklabels = []\n",
    "    for item in ax.get_xticklabels():\n",
    "        item.set_text(fmt.format(float(item.get_text())))\n",
    "        xticklabels += [item]\n",
    "    yticklabels = []\n",
    "    for item in ax.get_yticklabels():\n",
    "        item.set_text(fmt.format(float(item.get_text())))\n",
    "        yticklabels += [item]\n",
    "    ax.set_xticklabels(xticklabels)\n",
    "    ax.set_yticklabels(yticklabels)\n",
    "\n",
    "    plt.xticks(rotation=0)\n",
    "    plt.yticks(rotation=0)\n",
    "    return pivotted"
   ]
  },
  {
   "cell_type": "code",
   "execution_count": 7,
   "metadata": {},
   "outputs": [
    {
     "data": {
      "image/png": "[encoded data removed]",
      "text/plain": [
       "<Figure size 432x288 with 2 Axes>"
      ]
     },
     "metadata": {
      "needs_background": "light"
     },
     "output_type": "display_data"
    }
   ],
   "source": [
    "if printSelection:\n",
    "    YTestPattern = np.zeros(Y.shape)\n",
    "    YTestPattern[testSamples] = 1\n",
    "    contourPlot(X[:, 0], X[:, 1], YTestPattern)\n",
    "    plt.xticks([0,5,10], labels=['0', '0.5', '1'])\n",
    "    plt.yticks([0,5,10], labels=['0', '0.5', '1'])\n",
    "    plt.gca().set_xticks(list(range(0,11)), minor=True)\n",
    "    plt.gca().set_yticks(list(range(0,11)), minor=True)\n",
    "    plt.xlabel(parameterizedModel.network.inName[0])\n",
    "    plt.ylabel(parameterizedModel.network.inName[1])\n",
    "    plt.gcf().axes[1].set_label(parameterizedModel.network.outName[0])\n",
    "    plt.gca().xaxis.grid(True, 'both', linewidth=1, color=[0,0,0])\n",
    "    plt.gca().yaxis.grid(True, 'both', linewidth=1, color=[0,0,0])"
   ]
  },
  {
   "cell_type": "markdown",
   "metadata": {},
   "source": [
    "Define training and test conditions: "
   ]
  },
  {
   "cell_type": "code",
   "execution_count": 7,
   "metadata": {},
   "outputs": [],
   "source": [
    "Xtest = X[testSamples,:]\n",
    "Ytest = Y[testSamples]\n",
    "X = X[trainSamples,:]\n",
    "Y = Y[trainSamples]\n",
    "N = X.shape[0]"
   ]
  },
  {
   "cell_type": "code",
   "execution_count": 8,
   "metadata": {},
   "outputs": [],
   "source": [
    "# pytorch has a data loader, but jax does not.\n",
    "# trainloader = torch.utils.data.DataLoader(range(N), batch_size=batchSize, shuffle=True)\n",
    "\n",
    "# here we take the example from https://docs.kidger.site/equinox/examples/train_rnn/\n",
    "# from equinox\n",
    "import jax.random as jrandom\n",
    "\n",
    "def dataloader(arrays, batch_size, *, key):\n",
    "    dataset_size = arrays[0].shape[0]\n",
    "    assert all(array.shape[0] == dataset_size for array in arrays)\n",
    "    indices = jnp.arange(dataset_size)\n",
    "    while True:\n",
    "        perm = jrandom.permutation(key, indices)\n",
    "        (key,) = jrandom.split(key, 1)\n",
    "        start = 0\n",
    "        end = batch_size\n",
    "        while end < dataset_size:\n",
    "            batch_perm = perm[start:end]\n",
    "            yield tuple(array[batch_perm] for array in arrays)\n",
    "            start = end\n",
    "            end = start + batch_size\n",
    "            \n"
   ]
  },
  {
   "cell_type": "code",
   "execution_count": 28,
   "metadata": {},
   "outputs": [],
   "source": [
    "#Setup optimizer\n",
    "MoAFactor = 1\n",
    "L2beta = 1e-8\n",
    "spectralFactor = 0\n",
    "\n",
    "@jax.jit\n",
    "def criterion(pred_y, y):\n",
    "    # Trains with respect to binary cross-entropy\n",
    "    return jnp.mean((y - pred_y) ** 2)\n",
    "\n",
    "@jax.jit\n",
    "def criterion_mat(pred_y, y):\n",
    "    # Trains with respect to binary cross-entropy\n",
    "    return jnp.mean((y - pred_y) ** 2)\n",
    "\n",
    "# jax/optax alternative: \n",
    "@eqx.filter_jit\n",
    "@eqx.filter_value_and_grad()\n",
    "def compute_loss(model, x, y):\n",
    "    \n",
    "    pred_y = jax.vmap(model)(x)\n",
    "    fitLoss = criterion(pred_y,y)\n",
    "\n",
    "    # signConstraints\n",
    "    violated_weights = model.layers[1].getViolations(model.layers[1].weights)\n",
    "    signConstraint = MoAFactor * jnp.sum(jnp.abs(jnp.where(violated_weights,model.layers[1].weights,0)))\n",
    "\n",
    "    ligandConstraint = 1e-1 * jnp.sum(jnp.square(model.layers[1].biases[model.layers[0].inOutIndices,0]))\n",
    "\n",
    "    biasLoss = L2beta * jnp.sum(jnp.square(model.layers[1].biases))\n",
    "    weightLoss = L2beta * jnp.sum(jnp.square(model.layers[1].weights))\n",
    "    \n",
    "    loss = fitLoss + signConstraint + ligandConstraint + biasLoss + weightLoss\n",
    "\n",
    "    return loss\n",
    "\n",
    "\n",
    "\n",
    "# jax/optax alternative: \n",
    "@eqx.filter_jit\n",
    "def compute_loss_nograd(model, x, y):\n",
    "    \n",
    "    pred_y = jax.vmap(model)(x)\n",
    "    fitLoss = criterion(pred_y,y)\n",
    "\n",
    "    # signConstraints\n",
    "    violated_weights = model.layers[1].getViolations(model.layers[1].weights)\n",
    "    signConstraint = MoAFactor * jnp.sum(jnp.abs(jnp.where(violated_weights,model.layers[1].weights,0)))\n",
    "\n",
    "    ligandConstraint = 1e-1 * jnp.sum(jnp.square(model.layers[1].biases[model.layers[0].inOutIndices,0]))\n",
    "\n",
    "    biasLoss = L2beta * jnp.sum(jnp.square(model.layers[1].biases))\n",
    "    weightLoss = L2beta * jnp.sum(jnp.square(model.layers[1].weights))\n",
    "    \n",
    "    loss = fitLoss + signConstraint + ligandConstraint + biasLoss + weightLoss\n",
    "\n",
    "    return loss"
   ]
  },
  {
   "cell_type": "markdown",
   "metadata": {},
   "source": [
    "Let's see if we can add the constraints to the loss and JIT that function. "
   ]
  },
  {
   "cell_type": "code",
   "execution_count": 10,
   "metadata": {},
   "outputs": [
    {
     "data": {
      "text/plain": [
       "DeviceArray(0.21272369, dtype=float32)"
      ]
     },
     "execution_count": 10,
     "metadata": {},
     "output_type": "execute_result"
    }
   ],
   "source": [
    "# mean loss stored for reference\n",
    "mLoss =  criterion(np.mean(Y,axis=0)*np.ones(Y.shape), Y)\n",
    "mLoss"
   ]
  },
  {
   "cell_type": "code",
   "execution_count": 11,
   "metadata": {},
   "outputs": [],
   "source": [
    "def oneCycle(e, maxIter, maxHeight = 1e-3, startHeight=1e-5, endHeight=1e-5, minHeight = 1e-7, peak = 1000):\n",
    "    phaseLength = 0.95 * maxIter\n",
    "    if e<=peak:\n",
    "        effectiveE = e/peak\n",
    "        lr = (maxHeight-startHeight) * 0.5 * (np.cos(np.pi*(effectiveE+1))+1) + startHeight\n",
    "    elif e<=phaseLength:\n",
    "        effectiveE = (e-peak)/(phaseLength-peak)\n",
    "        lr = (maxHeight-endHeight) * 0.5 * (np.cos(np.pi*(effectiveE+2))+1) + endHeight\n",
    "    else:\n",
    "        lr = endHeight\n",
    "    return lr\n"
   ]
  },
  {
   "cell_type": "code",
   "execution_count": 12,
   "metadata": {},
   "outputs": [
    {
     "data": {
      "text/plain": [
       "[<matplotlib.lines.Line2D at 0x1424519c0>]"
      ]
     },
     "execution_count": 12,
     "metadata": {},
     "output_type": "execute_result"
    },
    {
     "data": {
      "image/png": "[encoded data removed]",
      "text/plain": [
       "<Figure size 432x288 with 1 Axes>"
      ]
     },
     "metadata": {
      "needs_background": "light"
     },
     "output_type": "display_data"
    }
   ],
   "source": [
    "maxIter = 1000\n",
    "lr = np.zeros((maxIter,))\n",
    "e_vec = np.array(range(maxIter))\n",
    "for e in range(maxIter):\n",
    "    lr[e] = oneCycle(e, maxIter, maxHeight = 2e-3, minHeight = 1e-8, peak = 200)\n",
    "\n",
    "fig, ax = plt.subplots()\n",
    "ax.plot(e_vec, np.log10(lr))\n"
   ]
  },
  {
   "cell_type": "code",
   "execution_count": 31,
   "metadata": {},
   "outputs": [],
   "source": [
    "# we have to use the partitioning trick for the make_step\n",
    "@ft.partial(jax.jit, static_argnums=1)\n",
    "def make_step(params,static, x, y, opt_state):\n",
    "    model = eqx.combine(params, static)\n",
    "    loss, grads = compute_loss(model, x, y)\n",
    "    updates, opt_state = optim.update(grads, opt_state)\n",
    "    params = eqx.apply_updates(params, updates)\n",
    "    return loss, params, opt_state\n",
    "\n",
    "@ft.partial(jax.jit, static_argnums=1)\n",
    "def compute_test(params,static, x, y):\n",
    "    model = eqx.combine(params, static)\n",
    "    loss = compute_loss_nograd(model, x, y)\n",
    "    return loss"
   ]
  },
  {
   "cell_type": "code",
   "execution_count": 35,
   "metadata": {},
   "outputs": [
    {
     "name": "stdout",
     "output_type": "stream",
     "text": [
      "i=0, l=0.50478, t=0.61522, r=0.00001, v=0\n",
      "i=50, l=0.35215, t=0.44254, r=0.00030, v=0\n",
      "i=100, l=0.07578, t=0.07868, r=0.00100, v=0\n",
      "i=150, l=0.00555, t=0.00889, r=0.00171, v=0\n",
      "i=200, l=0.00137, t=0.00161, r=0.00200, v=0\n",
      "i=250, l=0.00130, t=0.00034, r=0.00198, v=0\n",
      "i=300, l=0.00018, t=0.00017, r=0.00191, v=0\n",
      "i=350, l=0.00012, t=0.00009, r=0.00181, v=0\n",
      "i=400, l=0.00003, t=0.00002, r=0.00167, v=0\n",
      "i=450, l=0.00003, t=0.00003, r=0.00150, v=0\n",
      "i=500, l=0.00001, t=0.00002, r=0.00131, v=0\n",
      "i=550, l=0.00001, t=0.00003, r=0.00111, v=0\n",
      "i=600, l=0.00001, t=0.00003, r=0.00090, v=0\n",
      "i=650, l=0.00008, t=0.00003, r=0.00070, v=0\n",
      "i=700, l=0.00001, t=0.00004, r=0.00051, v=0\n",
      "i=750, l=0.00001, t=0.00004, r=0.00034, v=0\n",
      "i=800, l=0.00001, t=0.00002, r=0.00020, v=0\n",
      "i=850, l=0.00001, t=0.00003, r=0.00010, v=0\n",
      "i=900, l=0.00001, t=0.00002, r=0.00003, v=0\n",
      "i=950, l=0.00001, t=0.00002, r=0.00001, v=0\n",
      "input shape:(2,)\n"
     ]
    }
   ],
   "source": [
    "# optimization with adaptive/scheduled learning rate. \n",
    "# option 1: https://github.com/deepmind/optax/issues/4 --> looks outdatad, the syntax of adam does not match\n",
    "# option 2: https://github.com/deepmind/optax/discussions/262  -> insert as hyperparameter\n",
    "\n",
    "optim = optax.inject_hyperparams(optax.adam)(learning_rate=1)\n",
    "opt_state = optim.init(Model.model)\n",
    "\n",
    "resetState = opt_state # state is a tuple, copy it by assignmment\n",
    "params, static = eqx.partition(Model.model, eqx.is_array)\n",
    "\n",
    "maxIter = 1000\n",
    "batch_size = 5\n",
    "loader_key = jrandom.PRNGKey(142)\n",
    "progress = nn_models.rnnModel.OptimProgress(maxIter)\n",
    "steps = np.round(X.shape[0]/batch_size).astype(int)\n",
    "iter_data = dataloader((X, Y), batch_size, key=loader_key)\n",
    "\n",
    "for e in range(maxIter):\n",
    "\n",
    "    currentLoss = []\n",
    "    learning_rate_e = oneCycle(e, maxIter, maxHeight = 2e-3, minHeight = 1e-8, peak = 200)\n",
    "    opt_state.hyperparams['learning_rate'] = learning_rate_e\n",
    "    \n",
    "    for step, (x, y) in zip(range(steps), iter_data):\n",
    "        \n",
    "        loss, params, opt_state = make_step(params, static, x, y, opt_state)\n",
    "        \n",
    "        currentLoss.append(loss.item())\n",
    "\n",
    "    fitLoss = compute_test(params, static, Xtest, Ytest)\n",
    "    trained_model = eqx.combine(params, static)\n",
    "    \n",
    "    \n",
    "    #print(e)\n",
    "    # compute progress on the validation set:     \n",
    "    #Yhat = jax.vmap(trained_model)(Xtest)\n",
    "    #fitLoss = criterion_mat(Yhat,Ytest)\n",
    "    \n",
    "    progress.stats['violations'][e] = np.sum(trained_model.layers[1].getViolations()).item()\n",
    "    progress.stats['test'][e] = fitLoss.item()\n",
    "    progress.storeProgress(loss=currentLoss, lr=learning_rate_e, violations=np.sum(trained_model.layers[1].getViolations(trained_model.layers[1].weights)).item())\n",
    "\n",
    "    if e % 50 == 0:\n",
    "        progress.printStats(e)\n",
    "\n",
    "    if np.logical_and(e % 100 == 0, e>0):\n",
    "        opt_state = resetState\n",
    "\n",
    "\n"
   ]
  },
  {
   "cell_type": "markdown",
   "metadata": {},
   "source": [
    "# Playground and tests"
   ]
  },
  {
   "cell_type": "code",
   "execution_count": 7,
   "metadata": {},
   "outputs": [
    {
     "data": {
      "text/plain": [
       "DeviceArray([ 1. ,  1.4,  1. ,  1. , -0.9,  1. , -1. ,  2. ], dtype=float32)"
      ]
     },
     "execution_count": 7,
     "metadata": {},
     "output_type": "execute_result"
    }
   ],
   "source": [
    "parameterizedModel.model.layers[1].weights\n"
   ]
  },
  {
   "cell_type": "code",
   "execution_count": 43,
   "metadata": {},
   "outputs": [
    {
     "data": {
      "image/png": "[encoded data removed]",
      "text/plain": [
       "<Figure size 432x288 with 1 Axes>"
      ]
     },
     "metadata": {
      "needs_background": "light"
     },
     "output_type": "display_data"
    }
   ],
   "source": [
    "parameterizedModel.network.plot()"
   ]
  },
  {
   "cell_type": "code",
   "execution_count": 44,
   "metadata": {},
   "outputs": [
    {
     "data": {
      "text/plain": [
       "matrix([[ 0.,  0.,  1.,  0.,  0.,  0.,  0.],\n",
       "        [ 0.,  0.,  0.,  1.,  0.,  0.,  0.],\n",
       "        [ 0.,  0.,  0.,  0.,  1.,  0.,  0.],\n",
       "        [ 0.,  0.,  0.,  0., -1.,  1.,  0.],\n",
       "        [ 0.,  0.,  1.,  0.,  0., -1.,  0.],\n",
       "        [ 0.,  0.,  0.,  0.,  0.,  0.,  1.],\n",
       "        [ 0.,  0.,  0.,  0.,  0.,  0.,  0.]])"
      ]
     },
     "execution_count": 44,
     "metadata": {},
     "output_type": "execute_result"
    }
   ],
   "source": [
    "parameterizedModel.network.A.todense()"
   ]
  },
  {
   "cell_type": "markdown",
   "metadata": {},
   "source": [
    "figure out inputLayer: "
   ]
  },
  {
   "cell_type": "code",
   "execution_count": 45,
   "metadata": {},
   "outputs": [],
   "source": [
    "x = jnp.ones((1,10))\n",
    "size_out = 20\n",
    "size_in = 10\n",
    "inOutIndices = np.array([0,1,2,3,4,5,6,7,8,10])\n",
    "weights = 5.0\n",
    "\n"
   ]
  },
  {
   "cell_type": "code",
   "execution_count": 46,
   "metadata": {},
   "outputs": [
    {
     "name": "stdout",
     "output_type": "stream",
     "text": [
      "146 µs ± 13.5 µs per loop (mean ± std. dev. of 7 runs, 10,000 loops each)\n"
     ]
    }
   ],
   "source": [
    "%%timeit\n",
    "y = np.zeros([x.shape[0],  size_out])\n",
    "y[:, inOutIndices] = weights * x\n",
    "jnp.array(y)\n",
    "\n",
    "\n"
   ]
  },
  {
   "cell_type": "code",
   "execution_count": 47,
   "metadata": {},
   "outputs": [
    {
     "name": "stdout",
     "output_type": "stream",
     "text": [
      "1.62 ms ± 70.1 µs per loop (mean ± std. dev. of 7 runs, 1,000 loops each)\n"
     ]
    }
   ],
   "source": [
    "%%timeit\n",
    "y = jnp.zeros([x.shape[0],  size_out])\n",
    "y.at[:,inOutIndices].set(weights * x)\n"
   ]
  },
  {
   "cell_type": "code",
   "execution_count": 48,
   "metadata": {},
   "outputs": [],
   "source": [
    "tt = [True if i in inOutIndices else False for i in range(size_out)] \n"
   ]
  },
  {
   "cell_type": "markdown",
   "metadata": {},
   "source": [
    "Figure out output layers"
   ]
  },
  {
   "cell_type": "code",
   "execution_count": 49,
   "metadata": {},
   "outputs": [
    {
     "data": {
      "text/plain": [
       "DeviceArray([[ 0,  1,  2,  3,  4,  5,  6,  7,  8,  9, 10, 11, 12, 13, 14,\n",
       "              15, 16, 17, 18, 19]], dtype=int32)"
      ]
     },
     "execution_count": 49,
     "metadata": {},
     "output_type": "execute_result"
    }
   ],
   "source": [
    "x = jnp.array(range(20)).reshape(1,20)\n",
    "size_out = 10\n",
    "size_in = 20\n",
    "inOutIndices = np.array([0,1,2,3,4,5,6,7,8,10])\n",
    "weights = 0.7\n",
    "\n",
    "x"
   ]
  },
  {
   "cell_type": "code",
   "execution_count": 50,
   "metadata": {},
   "outputs": [
    {
     "data": {
      "text/plain": [
       "DeviceArray([[0. , 0.7, 1.4, 2.1, 2.8, 3.5, 4.2, 4.9, 5.6, 7. ]],            dtype=float32, weak_type=True)"
      ]
     },
     "execution_count": 50,
     "metadata": {},
     "output_type": "execute_result"
    }
   ],
   "source": [
    "#%%timeit\n",
    "y = np.zeros([x.shape[0],  size_out])\n",
    "weights * x[:, inOutIndices]\n",
    "#jnp.array(y)"
   ]
  },
  {
   "cell_type": "code",
   "execution_count": 51,
   "metadata": {},
   "outputs": [
    {
     "data": {
      "text/plain": [
       "DeviceArray([0., 0., 0., 0., 0., 0., 0., 0., 0., 0.], dtype=float32)"
      ]
     },
     "execution_count": 51,
     "metadata": {},
     "output_type": "execute_result"
    }
   ],
   "source": [
    "jnp.zeros((10,))"
   ]
  },
  {
   "cell_type": "code",
   "execution_count": 52,
   "metadata": {},
   "outputs": [],
   "source": [
    "key = jax.random.PRNGKey(1987)"
   ]
  },
  {
   "cell_type": "code",
   "execution_count": 53,
   "metadata": {},
   "outputs": [
    {
     "data": {
      "text/plain": [
       "array([0.15630224, 0.19508493, 0.18640879, 0.19632766, 0.1863483 ,\n",
       "       0.18440369, 0.10717691, 0.13916991])"
      ]
     },
     "execution_count": 53,
     "metadata": {},
     "output_type": "execute_result"
    }
   ],
   "source": [
    "weights = 0.1 + 0.1 * np.random.uniform(size=(8,))\n",
    "weights"
   ]
  },
  {
   "cell_type": "code",
   "execution_count": 54,
   "metadata": {},
   "outputs": [
    {
     "data": {
      "text/plain": [
       "(8,)"
      ]
     },
     "execution_count": 54,
     "metadata": {},
     "output_type": "execute_result"
    }
   ],
   "source": [
    "parameterizedModel.network.modeOfAction[1,:].shape"
   ]
  },
  {
   "cell_type": "code",
   "execution_count": 55,
   "metadata": {},
   "outputs": [
    {
     "data": {
      "text/plain": [
       "array([ 0.15630224,  0.19508493,  0.18640879,  0.19632766, -0.1863483 ,\n",
       "        0.18440369, -0.10717691,  0.13916991])"
      ]
     },
     "execution_count": 55,
     "metadata": {},
     "output_type": "execute_result"
    }
   ],
   "source": [
    "weights[parameterizedModel.network.modeOfAction[1,:]] = -weights[parameterizedModel.network.modeOfAction[1,:]]\n",
    "weights"
   ]
  },
  {
   "cell_type": "code",
   "execution_count": 56,
   "metadata": {},
   "outputs": [
    {
     "data": {
      "text/plain": [
       "array([ True,  True,  True,  True, False,  True, False,  True])"
      ]
     },
     "execution_count": 56,
     "metadata": {},
     "output_type": "execute_result"
    }
   ],
   "source": [
    "parameterizedModel.network.modeOfAction[0]"
   ]
  },
  {
   "cell_type": "code",
   "execution_count": 57,
   "metadata": {},
   "outputs": [],
   "source": [
    "x = jnp.array(range(20)).reshape(1,20)"
   ]
  },
  {
   "cell_type": "code",
   "execution_count": 58,
   "metadata": {},
   "outputs": [
    {
     "data": {
      "text/plain": [
       "DeviceArray([[ 0,  1,  2,  3,  4,  5,  6,  7,  8,  9, 10, 11, 12, 13, 14,\n",
       "              15, 16, 17, 18, 19]], dtype=int32)"
      ]
     },
     "execution_count": 58,
     "metadata": {},
     "output_type": "execute_result"
    }
   ],
   "source": [
    "x"
   ]
  },
  {
   "cell_type": "code",
   "execution_count": 59,
   "metadata": {},
   "outputs": [
    {
     "data": {
      "text/plain": [
       "DeviceArray([[ 0],\n",
       "             [ 1],\n",
       "             [ 2],\n",
       "             [ 3],\n",
       "             [ 4],\n",
       "             [ 5],\n",
       "             [ 6],\n",
       "             [ 7],\n",
       "             [ 8],\n",
       "             [ 9],\n",
       "             [10],\n",
       "             [11],\n",
       "             [12],\n",
       "             [13],\n",
       "             [14],\n",
       "             [15],\n",
       "             [16],\n",
       "             [17],\n",
       "             [18],\n",
       "             [19]], dtype=int32)"
      ]
     },
     "execution_count": 59,
     "metadata": {},
     "output_type": "execute_result"
    }
   ],
   "source": [
    "x.transpose()"
   ]
  },
  {
   "cell_type": "code",
   "execution_count": 3,
   "metadata": {},
   "outputs": [
    {
     "data": {
      "text/plain": [
       "DeviceArray([[2., 0., 0., 0., 0., 2., 0., 0., 0., 0., 2., 0., 0., 0., 0.,\n",
       "              0., 0., 0., 0., 0.],\n",
       "             [2., 0., 0., 0., 0., 2., 0., 0., 0., 0., 2., 0., 0., 0., 0.,\n",
       "              0., 0., 0., 0., 0.]], dtype=float32)"
      ]
     },
     "execution_count": 3,
     "metadata": {},
     "output_type": "execute_result"
    }
   ],
   "source": [
    "IPL = nn_models.rnnModel.inputProjectionLayer(size_in=3,\n",
    "                                            size_out=20,\n",
    "                                            inOutIndices=[0,5,10],\n",
    "                                            weight = 2.0)\n",
    "IPL(jnp.ones((2,3)))"
   ]
  },
  {
   "cell_type": "code",
   "execution_count": 4,
   "metadata": {},
   "outputs": [
    {
     "data": {
      "text/plain": [
       "DeviceArray([[2., 2., 2., 2.],\n",
       "             [2., 2., 2., 2.]], dtype=float32)"
      ]
     },
     "execution_count": 4,
     "metadata": {},
     "output_type": "execute_result"
    }
   ],
   "source": [
    "OPL = nn_models.rnnModel.outputProjectionLayer(size_in=20,\n",
    "                                            size_out=4,\n",
    "                                            inOutIndices=[0,5,10, 15],\n",
    "                                            weight = 2.0)\n",
    "OPL(jnp.ones((2,20)))"
   ]
  },
  {
   "cell_type": "code",
   "execution_count": 9,
   "metadata": {},
   "outputs": [
    {
     "data": {
      "text/plain": [
       "['L1', 'L2', 'R1', 'R2', 'S1', 'S2', 'T1']"
      ]
     },
     "execution_count": 9,
     "metadata": {},
     "output_type": "execute_result"
    }
   ],
   "source": [
    "parameterizedModel.network.nodeNames"
   ]
  },
  {
   "cell_type": "code",
   "execution_count": 8,
   "metadata": {},
   "outputs": [
    {
     "name": "stdout",
     "output_type": "stream",
     "text": [
      "(8,)\n",
      "(8,)\n"
     ]
    },
    {
     "data": {
      "text/plain": [
       "array([0.13346492, 0.16542737])"
      ]
     },
     "execution_count": 8,
     "metadata": {},
     "output_type": "execute_result"
    }
   ],
   "source": [
    "weights = 0.1 + 0.1 * np.random.uniform(size=(8,))\n",
    "print(weights.shape)\n",
    "print(parameterizedModel.network.modeOfAction[1,:].shape)\n",
    "\n",
    "weights[parameterizedModel.network.modeOfAction[1,:]]"
   ]
  },
  {
   "cell_type": "code",
   "execution_count": 5,
   "metadata": {},
   "outputs": [],
   "source": [
    "RL = nn_models.rnnModel.recurrentLayer(nStates=len(parameterizedModel.network.nodeNames),\n",
    "                                    modeOfAction=parameterizedModel.network.modeOfAction,\n",
    "                                    networkList= parameterizedModel.network.networkList,\n",
    "                                    iterations = 100,\n",
    "                                    leak=0.01)\n",
    "                       "
   ]
  },
  {
   "cell_type": "code",
   "execution_count": 6,
   "metadata": {},
   "outputs": [
    {
     "data": {
      "text/plain": [
       "DeviceArray([[0.75024974, 0.75024974, 0.78538847, 0.78043336, 0.73708916,\n",
       "              0.7572291 , 0.774161  ],\n",
       "             [0.75024974, 0.75024974, 0.78538847, 0.78043336, 0.73708916,\n",
       "              0.7572291 , 0.774161  ],\n",
       "             [0.75024974, 0.75024974, 0.78538847, 0.78043336, 0.73708916,\n",
       "              0.7572291 , 0.774161  ],\n",
       "             [0.75024974, 0.75024974, 0.78538847, 0.78043336, 0.73708916,\n",
       "              0.7572291 , 0.774161  ],\n",
       "             [0.75024974, 0.75024974, 0.78538847, 0.78043336, 0.73708916,\n",
       "              0.7572291 , 0.774161  ],\n",
       "             [0.75024974, 0.75024974, 0.78538847, 0.78043336, 0.73708916,\n",
       "              0.7572291 , 0.774161  ],\n",
       "             [0.75024974, 0.75024974, 0.78538847, 0.78043336, 0.73708916,\n",
       "              0.7572291 , 0.774161  ]], dtype=float32)"
      ]
     },
     "execution_count": 6,
     "metadata": {},
     "output_type": "execute_result"
    }
   ],
   "source": [
    "RL(jnp.ones((len(parameterizedModel.network.nodeNames),len(parameterizedModel.network.nodeNames))))"
   ]
  },
  {
   "cell_type": "code",
   "execution_count": 12,
   "metadata": {},
   "outputs": [
    {
     "data": {
      "text/plain": [
       "numpy.ndarray"
      ]
     },
     "execution_count": 12,
     "metadata": {},
     "output_type": "execute_result"
    }
   ],
   "source": [
    "type(parameterizedModel.network.networkList)"
   ]
  },
  {
   "cell_type": "code",
   "execution_count": 4,
   "metadata": {},
   "outputs": [
    {
     "data": {
      "text/plain": [
       "150"
      ]
     },
     "execution_count": 4,
     "metadata": {},
     "output_type": "execute_result"
    }
   ],
   "source": [
    "parameterizedModel.trainingParameters.iterations"
   ]
  },
  {
   "cell_type": "code",
   "execution_count": 3,
   "metadata": {},
   "outputs": [],
   "source": [
    "BM = nn_models.rnnModel.BionetworkModel(parameterizedModel.network.networkList,\n",
    "                parameterizedModel.network.nodeNames,\n",
    "                parameterizedModel.network.modeOfAction,\n",
    "                1.1, 0.7,\n",
    "                parameterizedModel.network.inName,\n",
    "                parameterizedModel.network.outName,\n",
    "                parameterizedModel.trainingParameters\n",
    " )"
   ]
  },
  {
   "cell_type": "code",
   "execution_count": 11,
   "metadata": {},
   "outputs": [],
   "source": [
    "x = jnp.ones((1,len(parameterizedModel.network.inName)))\n",
    "y = np.array([0.798])"
   ]
  },
  {
   "cell_type": "code",
   "execution_count": 15,
   "metadata": {},
   "outputs": [
    {
     "data": {
      "text/plain": [
       "DeviceArray([[0.00214212]], dtype=float32)"
      ]
     },
     "execution_count": 15,
     "metadata": {},
     "output_type": "execute_result"
    }
   ],
   "source": [
    "BM(x)"
   ]
  },
  {
   "cell_type": "code",
   "execution_count": 16,
   "metadata": {},
   "outputs": [
    {
     "data": {
      "text/plain": [
       "DeviceArray(0.6333897, dtype=float32)"
      ]
     },
     "execution_count": 16,
     "metadata": {},
     "output_type": "execute_result"
    }
   ],
   "source": [
    "jax.np.mean((y - BM(x)) ** 2)"
   ]
  },
  {
   "cell_type": "code",
   "execution_count": 6,
   "metadata": {},
   "outputs": [],
   "source": [
    "import functools as ft"
   ]
  },
  {
   "cell_type": "code",
   "execution_count": 29,
   "metadata": {},
   "outputs": [
    {
     "data": {
      "text/plain": [
       "BionetworkModel(\n",
       "  layers=[\n",
       "    inputProjectionLayer(\n",
       "      weights=f32[2],\n",
       "      size_in=2,\n",
       "      size_out=7,\n",
       "      inOutIndices=i64[2](numpy)\n",
       "    ),\n",
       "    recurrentLayer(\n",
       "      weights=f32[8],\n",
       "      biases=f32[7,1],\n",
       "      nStates=7,\n",
       "      nReactions=8,\n",
       "      modeOfAction=bool[2,8](numpy),\n",
       "      networkList=i32[2,8](numpy),\n",
       "      iterations=150,\n",
       "      leak=0.01,\n",
       "      A=JVPTracer[BCOO(float32[7, 7], nse=8)],\n",
       "      activation=<function MMLactivation>\n",
       "    ),\n",
       "    outputProjectionLayer(\n",
       "      weights=f32[1],\n",
       "      size_in=7,\n",
       "      size_out=1,\n",
       "      inOutIndices=i64[1](numpy)\n",
       "    )\n",
       "  ]\n",
       ")"
      ]
     },
     "execution_count": 29,
     "metadata": {},
     "output_type": "execute_result"
    }
   ],
   "source": [
    "@ft.partial(jax.jit, static_argnums=1)\n",
    "@jax.grad\n",
    "def loss(params, static, x, y):\n",
    "    model = eqx.combine(params, static)\n",
    "    pred_y = jax.vmap(model)(x)\n",
    "    return jax.np.mean((y - pred_y) ** 2)\n",
    "\n",
    "params, static = eqx.partition(BM, eqx.is_array)\n",
    "loss(params,static, x, y)"
   ]
  },
  {
   "cell_type": "code",
   "execution_count": 30,
   "metadata": {},
   "outputs": [],
   "source": [
    "g_loss = loss(params,static, x, y)"
   ]
  },
  {
   "cell_type": "code",
   "execution_count": 35,
   "metadata": {},
   "outputs": [
    {
     "data": {
      "text/plain": [
       "DeviceArray([ 0.00013033, -0.00070299], dtype=float32)"
      ]
     },
     "execution_count": 35,
     "metadata": {},
     "output_type": "execute_result"
    }
   ],
   "source": [
    "g_loss.layers[0].weights"
   ]
  },
  {
   "cell_type": "code",
   "execution_count": 36,
   "metadata": {},
   "outputs": [
    {
     "data": {
      "text/plain": [
       "DeviceArray([1.1, 1.1], dtype=float32)"
      ]
     },
     "execution_count": 36,
     "metadata": {},
     "output_type": "execute_result"
    }
   ],
   "source": [
    "BM.layers[0].weights"
   ]
  },
  {
   "cell_type": "markdown",
   "metadata": {},
   "source": [
    "Sparse matrices in JAX\n",
    "- this is experimental "
   ]
  },
  {
   "cell_type": "code",
   "execution_count": 8,
   "metadata": {},
   "outputs": [
    {
     "data": {
      "text/plain": [
       "<nn_cno.nn_models.rnnModel.temp_network at 0x136152020>"
      ]
     },
     "execution_count": 8,
     "metadata": {},
     "output_type": "execute_result"
    }
   ],
   "source": [
    "parameterizedModel.network."
   ]
  },
  {
   "cell_type": "code",
   "execution_count": 5,
   "metadata": {},
   "outputs": [
    {
     "data": {
      "text/plain": [
       "DeviceArray([[1., 1., 1., 1., 1., 1., 1., 1.]], dtype=float32)"
      ]
     },
     "execution_count": 5,
     "metadata": {},
     "output_type": "execute_result"
    }
   ],
   "source": [
    "weights"
   ]
  },
  {
   "cell_type": "code",
   "execution_count": 4,
   "metadata": {},
   "outputs": [
    {
     "data": {
      "text/plain": [
       "array([[2, 2, 3, 4, 4, 5, 5, 6],\n",
       "       [0, 4, 1, 2, 3, 3, 4, 5]], dtype=int32)"
      ]
     },
     "execution_count": 4,
     "metadata": {},
     "output_type": "execute_result"
    }
   ],
   "source": [
    "data_location"
   ]
  },
  {
   "cell_type": "code",
   "execution_count": 6,
   "metadata": {},
   "outputs": [
    {
     "data": {
      "text/plain": [
       "<7x7 sparse matrix of type '<class 'numpy.float32'>'\n",
       "\twith 8 stored elements in Compressed Sparse Row format>"
      ]
     },
     "execution_count": 6,
     "metadata": {},
     "output_type": "execute_result"
    }
   ],
   "source": [
    "weights = jnp.ones(parameterizedModel.network.nReactions)\n",
    "data_location = parameterizedModel.network.networkList\n",
    "nStates = parameterizedModel.network.nStates\n",
    "scipyA =  sp.sparse.csr_matrix((weights, data_location), shape=(nStates, nStates))\n",
    "scipyA      \n",
    "      "
   ]
  },
  {
   "cell_type": "code",
   "execution_count": 7,
   "metadata": {},
   "outputs": [],
   "source": [
    "A = sparse.BCOO.from_scipy_sparse(scipyA)"
   ]
  },
  {
   "cell_type": "code",
   "execution_count": 8,
   "metadata": {},
   "outputs": [
    {
     "data": {
      "text/plain": [
       "BCOO(float32[7, 7], nse=8)"
      ]
     },
     "execution_count": 8,
     "metadata": {},
     "output_type": "execute_result"
    }
   ],
   "source": [
    "A"
   ]
  },
  {
   "cell_type": "code",
   "execution_count": 11,
   "metadata": {},
   "outputs": [],
   "source": [
    "weights = 0.7*jnp.ones(parameterizedModel.network.nReactions)\n",
    "A.data = weights"
   ]
  },
  {
   "cell_type": "code",
   "execution_count": 12,
   "metadata": {},
   "outputs": [
    {
     "data": {
      "text/plain": [
       "BCOO(float32[7, 7], nse=8)"
      ]
     },
     "execution_count": 12,
     "metadata": {},
     "output_type": "execute_result"
    }
   ],
   "source": [
    "A"
   ]
  },
  {
   "cell_type": "code",
   "execution_count": 16,
   "metadata": {},
   "outputs": [
    {
     "data": {
      "text/plain": [
       "DeviceArray([[2, 0],\n",
       "             [2, 4],\n",
       "             [3, 1],\n",
       "             [4, 2],\n",
       "             [4, 3],\n",
       "             [5, 3],\n",
       "             [5, 4],\n",
       "             [6, 5]], dtype=int32)"
      ]
     },
     "execution_count": 16,
     "metadata": {},
     "output_type": "execute_result"
    }
   ],
   "source": [
    "A.indices"
   ]
  },
  {
   "cell_type": "code",
   "execution_count": 17,
   "metadata": {},
   "outputs": [
    {
     "data": {
      "text/plain": [
       "array([[2, 2, 3, 4, 4, 5, 5, 6],\n",
       "       [0, 4, 1, 2, 3, 3, 4, 5]], dtype=int32)"
      ]
     },
     "execution_count": 17,
     "metadata": {},
     "output_type": "execute_result"
    }
   ],
   "source": [
    "data_location"
   ]
  },
  {
   "cell_type": "code",
   "execution_count": 18,
   "metadata": {},
   "outputs": [
    {
     "data": {
      "text/plain": [
       "BCOO(float32[7, 7], nse=8)"
      ]
     },
     "execution_count": 18,
     "metadata": {},
     "output_type": "execute_result"
    }
   ],
   "source": [
    "A"
   ]
  },
  {
   "cell_type": "code",
   "execution_count": 27,
   "metadata": {},
   "outputs": [
    {
     "data": {
      "text/plain": [
       "DeviceArray([1., 1., 1., 1., 1., 1., 1.], dtype=float32)"
      ]
     },
     "execution_count": 27,
     "metadata": {},
     "output_type": "execute_result"
    }
   ],
   "source": [
    "x = jnp.ones((parameterizedModel.network.nStates,))\n",
    "x"
   ]
  },
  {
   "cell_type": "code",
   "execution_count": 28,
   "metadata": {},
   "outputs": [
    {
     "data": {
      "text/plain": [
       "DeviceArray([0. , 0. , 1.4, 0.7, 1.4, 1.4, 0.7], dtype=float32)"
      ]
     },
     "execution_count": 28,
     "metadata": {},
     "output_type": "execute_result"
    }
   ],
   "source": [
    "A @ x"
   ]
  },
  {
   "cell_type": "code",
   "execution_count": 29,
   "metadata": {},
   "outputs": [],
   "source": [
    "x = jnp.ones((parameterizedModel.network.nStates,1))"
   ]
  },
  {
   "cell_type": "code",
   "execution_count": 30,
   "metadata": {},
   "outputs": [
    {
     "data": {
      "text/plain": [
       "DeviceArray([[0. ],\n",
       "             [0. ],\n",
       "             [1.4],\n",
       "             [0.7],\n",
       "             [1.4],\n",
       "             [1.4],\n",
       "             [0.7]], dtype=float32)"
      ]
     },
     "execution_count": 30,
     "metadata": {},
     "output_type": "execute_result"
    }
   ],
   "source": [
    "A @ x"
   ]
  },
  {
   "cell_type": "code",
   "execution_count": null,
   "metadata": {},
   "outputs": [],
   "source": []
  }
 ],
 "metadata": {
  "kernelspec": {
   "display_name": "Python 3.10.4 ('jax_ode')",
   "language": "python",
   "name": "python3"
  },
  "language_info": {
   "codemirror_mode": {
    "name": "ipython",
    "version": 3
   },
   "file_extension": ".py",
   "mimetype": "text/x-python",
   "name": "python",
   "nbconvert_exporter": "python",
   "pygments_lexer": "ipython3",
   "version": "3.10.4"
  },
  "orig_nbformat": 4,
  "vscode": {
   "interpreter": {
    "hash": "3bd868a791ae3f2e25c037fe0842082b59576b23b402251a9a0f392799515c5f"
   }
  }
 },
 "nbformat": 4,
 "nbformat_minor": 2
}
