{
 "cells": [
  {
   "cell_type": "code",
   "execution_count": 2,
   "metadata": {},
   "outputs": [],
   "source": [
    "import sys\n",
    "sys.path.insert(0, '../')\n",
    "\n",
    "from nn_cno.io.sif import SIF\n",
    "from nn_cno.io.midas import XMIDAS\n",
    "from nn_cno.io.cnograph import CNOGraph\n",
    "from nn_cno.core.base import CNOBase\n",
    "\n",
    "from nn_cno.core import CNOBase, CNORBase\n",
    "from nn_cno.core.params import  OptionsBase\n",
    "\n",
    "from nn_cno.core.results import ODEResults\n",
    "from nn_cno.core import ReportODE\n",
    "from nn_cno.core.params import ParamsSSM\n",
    "\n",
    "# from biokit.rtools import bool2R\n",
    "\n",
    "from nn_cno.core.params import params_to_update\n"
   ]
  },
  {
   "cell_type": "markdown",
   "metadata": {},
   "source": [
    "# Fixing `SIF` class\n",
    "it is the basics of CNOGraph"
   ]
  },
  {
   "cell_type": "code",
   "execution_count": 2,
   "metadata": {},
   "outputs": [],
   "source": [
    "toy_sif = SIF('./datasets/ToyMSB2009/PKN-ToyMSB2009.sif')"
   ]
  },
  {
   "cell_type": "code",
   "execution_count": 5,
   "metadata": {},
   "outputs": [
    {
     "data": {
      "text/plain": [
       "['EGFR',\n",
       " 'Shc',\n",
       " 'Grb2Sos',\n",
       " 'Ras',\n",
       " 'Raf',\n",
       " 'MEK',\n",
       " 'ERK',\n",
       " 'Grb2Sos',\n",
       " 'PI3K',\n",
       " 'AKT',\n",
       " 'GSK3',\n",
       " 'IKKab',\n",
       " 'TNFR',\n",
       " 'IKKab',\n",
       " 'TRADD',\n",
       " 'C8',\n",
       " 'C8',\n",
       " 'Ikb',\n",
       " 'NFkB',\n",
       " 'MEK']"
      ]
     },
     "execution_count": 5,
     "metadata": {},
     "output_type": "execute_result"
    }
   ],
   "source": [
    "toy_sif.nodes1\n",
    "toy_sif.nodes2"
   ]
  },
  {
   "cell_type": "markdown",
   "metadata": {},
   "source": [
    "# Fixing `XMIDAS`\n",
    "There was an error with missing `label` attribute of `multiIndex`. It was used to check if time 0 is missing. Fixed it by replacing it with `labels`\n",
    "\n",
    "Note that some methods are not working, like `pca`"
   ]
  },
  {
   "cell_type": "code",
   "execution_count": 3,
   "metadata": {},
   "outputs": [],
   "source": [
    "m = XMIDAS(\"./datasets/ToyMSB2009/MD-ToyMSB2009.csv\")\n"
   ]
  },
  {
   "cell_type": "code",
   "execution_count": 4,
   "metadata": {},
   "outputs": [
    {
     "data": {
      "text/html": [
       "<div>\n",
       "<style scoped>\n",
       "    .dataframe tbody tr th:only-of-type {\n",
       "        vertical-align: middle;\n",
       "    }\n",
       "\n",
       "    .dataframe tbody tr th {\n",
       "        vertical-align: top;\n",
       "    }\n",
       "\n",
       "    .dataframe thead th {\n",
       "        text-align: right;\n",
       "    }\n",
       "</style>\n",
       "<table border=\"1\" class=\"dataframe\">\n",
       "  <thead>\n",
       "    <tr style=\"text-align: right;\">\n",
       "      <th></th>\n",
       "      <th></th>\n",
       "      <th></th>\n",
       "      <th>AKT</th>\n",
       "      <th>C8</th>\n",
       "      <th>ERK</th>\n",
       "      <th>NFkB</th>\n",
       "    </tr>\n",
       "    <tr>\n",
       "      <th>cell</th>\n",
       "      <th>experiment</th>\n",
       "      <th>time</th>\n",
       "      <th></th>\n",
       "      <th></th>\n",
       "      <th></th>\n",
       "      <th></th>\n",
       "    </tr>\n",
       "  </thead>\n",
       "  <tbody>\n",
       "    <tr>\n",
       "      <th rowspan=\"12\" valign=\"top\">test</th>\n",
       "      <th rowspan=\"2\" valign=\"top\">experiment_0</th>\n",
       "      <th>0</th>\n",
       "      <td>0</td>\n",
       "      <td>0</td>\n",
       "      <td>0</td>\n",
       "      <td>0</td>\n",
       "    </tr>\n",
       "    <tr>\n",
       "      <th>10</th>\n",
       "      <td>1</td>\n",
       "      <td>0</td>\n",
       "      <td>1</td>\n",
       "      <td>0</td>\n",
       "    </tr>\n",
       "    <tr>\n",
       "      <th rowspan=\"2\" valign=\"top\">experiment_1</th>\n",
       "      <th>0</th>\n",
       "      <td>0</td>\n",
       "      <td>0</td>\n",
       "      <td>0</td>\n",
       "      <td>0</td>\n",
       "    </tr>\n",
       "    <tr>\n",
       "      <th>10</th>\n",
       "      <td>0</td>\n",
       "      <td>1</td>\n",
       "      <td>0</td>\n",
       "      <td>0</td>\n",
       "    </tr>\n",
       "    <tr>\n",
       "      <th rowspan=\"2\" valign=\"top\">experiment_2</th>\n",
       "      <th>0</th>\n",
       "      <td>0</td>\n",
       "      <td>0</td>\n",
       "      <td>0</td>\n",
       "      <td>0</td>\n",
       "    </tr>\n",
       "    <tr>\n",
       "      <th>10</th>\n",
       "      <td>1</td>\n",
       "      <td>1</td>\n",
       "      <td>1</td>\n",
       "      <td>1</td>\n",
       "    </tr>\n",
       "    <tr>\n",
       "      <th rowspan=\"2\" valign=\"top\">experiment_3</th>\n",
       "      <th>0</th>\n",
       "      <td>0</td>\n",
       "      <td>0</td>\n",
       "      <td>0</td>\n",
       "      <td>0</td>\n",
       "    </tr>\n",
       "    <tr>\n",
       "      <th>10</th>\n",
       "      <td>0</td>\n",
       "      <td>0</td>\n",
       "      <td>1</td>\n",
       "      <td>0</td>\n",
       "    </tr>\n",
       "    <tr>\n",
       "      <th rowspan=\"2\" valign=\"top\">experiment_4</th>\n",
       "      <th>0</th>\n",
       "      <td>0</td>\n",
       "      <td>0</td>\n",
       "      <td>0</td>\n",
       "      <td>0</td>\n",
       "    </tr>\n",
       "    <tr>\n",
       "      <th>10</th>\n",
       "      <td>0</td>\n",
       "      <td>1</td>\n",
       "      <td>1</td>\n",
       "      <td>0</td>\n",
       "    </tr>\n",
       "    <tr>\n",
       "      <th rowspan=\"2\" valign=\"top\">experiment_5</th>\n",
       "      <th>0</th>\n",
       "      <td>0</td>\n",
       "      <td>0</td>\n",
       "      <td>0</td>\n",
       "      <td>0</td>\n",
       "    </tr>\n",
       "    <tr>\n",
       "      <th>10</th>\n",
       "      <td>1</td>\n",
       "      <td>0</td>\n",
       "      <td>0</td>\n",
       "      <td>0</td>\n",
       "    </tr>\n",
       "  </tbody>\n",
       "</table>\n",
       "</div>"
      ],
      "text/plain": [
       "                        AKT  C8  ERK  NFkB\n",
       "cell experiment   time                    \n",
       "test experiment_0 0       0   0    0     0\n",
       "                  10      1   0    1     0\n",
       "     experiment_1 0       0   0    0     0\n",
       "                  10      0   1    0     0\n",
       "     experiment_2 0       0   0    0     0\n",
       "                  10      1   1    1     1\n",
       "     experiment_3 0       0   0    0     0\n",
       "                  10      0   0    1     0\n",
       "     experiment_4 0       0   0    0     0\n",
       "                  10      0   1    1     0\n",
       "     experiment_5 0       0   0    0     0\n",
       "                  10      1   0    0     0"
      ]
     },
     "execution_count": 4,
     "metadata": {},
     "output_type": "execute_result"
    }
   ],
   "source": [
    "m.df"
   ]
  },
  {
   "cell_type": "code",
   "execution_count": 10,
   "metadata": {},
   "outputs": [
    {
     "data": {
      "text/html": [
       "<div>\n",
       "<style scoped>\n",
       "    .dataframe tbody tr th:only-of-type {\n",
       "        vertical-align: middle;\n",
       "    }\n",
       "\n",
       "    .dataframe tbody tr th {\n",
       "        vertical-align: top;\n",
       "    }\n",
       "\n",
       "    .dataframe thead tr th {\n",
       "        text-align: left;\n",
       "    }\n",
       "</style>\n",
       "<table border=\"1\" class=\"dataframe\">\n",
       "  <thead>\n",
       "    <tr>\n",
       "      <th></th>\n",
       "      <th colspan=\"2\" halign=\"left\">Inhibitors</th>\n",
       "      <th colspan=\"2\" halign=\"left\">Stimuli</th>\n",
       "    </tr>\n",
       "    <tr>\n",
       "      <th></th>\n",
       "      <th>PI3K</th>\n",
       "      <th>Raf</th>\n",
       "      <th>TGFa</th>\n",
       "      <th>TNFa</th>\n",
       "    </tr>\n",
       "  </thead>\n",
       "  <tbody>\n",
       "    <tr>\n",
       "      <th>experiment_0</th>\n",
       "      <td>0</td>\n",
       "      <td>0</td>\n",
       "      <td>1</td>\n",
       "      <td>0</td>\n",
       "    </tr>\n",
       "    <tr>\n",
       "      <th>experiment_1</th>\n",
       "      <td>0</td>\n",
       "      <td>0</td>\n",
       "      <td>0</td>\n",
       "      <td>1</td>\n",
       "    </tr>\n",
       "    <tr>\n",
       "      <th>experiment_2</th>\n",
       "      <td>0</td>\n",
       "      <td>0</td>\n",
       "      <td>1</td>\n",
       "      <td>1</td>\n",
       "    </tr>\n",
       "    <tr>\n",
       "      <th>experiment_3</th>\n",
       "      <td>1</td>\n",
       "      <td>0</td>\n",
       "      <td>1</td>\n",
       "      <td>0</td>\n",
       "    </tr>\n",
       "    <tr>\n",
       "      <th>experiment_4</th>\n",
       "      <td>1</td>\n",
       "      <td>0</td>\n",
       "      <td>1</td>\n",
       "      <td>1</td>\n",
       "    </tr>\n",
       "    <tr>\n",
       "      <th>experiment_5</th>\n",
       "      <td>0</td>\n",
       "      <td>1</td>\n",
       "      <td>1</td>\n",
       "      <td>0</td>\n",
       "    </tr>\n",
       "  </tbody>\n",
       "</table>\n",
       "</div>"
      ],
      "text/plain": [
       "             Inhibitors     Stimuli     \n",
       "                   PI3K Raf    TGFa TNFa\n",
       "experiment_0          0   0       1    0\n",
       "experiment_1          0   0       0    1\n",
       "experiment_2          0   0       1    1\n",
       "experiment_3          1   0       1    0\n",
       "experiment_4          1   0       1    1\n",
       "experiment_5          0   1       1    0"
      ]
     },
     "execution_count": 10,
     "metadata": {},
     "output_type": "execute_result"
    }
   ],
   "source": [
    "m.experiments"
   ]
  },
  {
   "cell_type": "markdown",
   "metadata": {},
   "source": [
    "## Checking `CNOGraph` "
   ]
  },
  {
   "cell_type": "code",
   "execution_count": 5,
   "metadata": {},
   "outputs": [],
   "source": [
    "from nn_cno.io.cnograph import CNOGraph"
   ]
  },
  {
   "cell_type": "code",
   "execution_count": 6,
   "metadata": {},
   "outputs": [],
   "source": [
    "c = CNOGraph()"
   ]
  },
  {
   "cell_type": "code",
   "execution_count": 5,
   "metadata": {},
   "outputs": [],
   "source": [
    "c.add_edge(\"A\", \"B\", link=\"+\")\n",
    "c.add_edge(\"A\", \"C\", link=\"-\")"
   ]
  },
  {
   "cell_type": "code",
   "execution_count": 6,
   "metadata": {},
   "outputs": [
    {
     "data": {
      "image/png": "[encoded data removed]",
      "text/plain": [
       "<Figure size 432x288 with 1 Axes>"
      ]
     },
     "metadata": {},
     "output_type": "display_data"
    }
   ],
   "source": [
    "c.plot()\n",
    "# Error:  AttributeError: 'CNOGraph' object has no attribute 'node'\n",
    "# Problem: attributes of networkx.diGraph probably changed\n",
    "# Fix: in  CNOgraph replace all `node` -> `_node`"
   ]
  },
  {
   "cell_type": "markdown",
   "metadata": {},
   "source": [
    "import network from sif file"
   ]
  },
  {
   "cell_type": "code",
   "execution_count": 7,
   "metadata": {},
   "outputs": [],
   "source": [
    "pkn = CNOGraph(\"../nn_cno/datasets/ToyMSB2009/PKN-ToyMSB2009.sif\")"
   ]
  },
  {
   "cell_type": "code",
   "execution_count": 8,
   "metadata": {},
   "outputs": [
    {
     "data": {
      "image/png": "[encoded data removed]",
      "text/plain": [
       "<Figure size 432x288 with 1 Axes>"
      ]
     },
     "metadata": {},
     "output_type": "display_data"
    }
   ],
   "source": [
    "pkn.plot()"
   ]
  },
  {
   "cell_type": "code",
   "execution_count": 6,
   "metadata": {},
   "outputs": [
    {
     "name": "stderr",
     "output_type": "stream",
     "text": [
      "/Users/gabora/Documents/SaezGroup/LocalGitRepo/NN_cellnopt/nn_cno/../nn_cno/io/cnograph.py:1610: FutureWarning: adjacency_matrix will return a scipy.sparse array instead of a matrix in Networkx 3.0.\n",
      "  return nx.adjacency_matrix(self, nodelist=nodelist).astype(int)\n"
     ]
    },
    {
     "data": {
      "text/plain": [
       "<18x18 sparse matrix of type '<class 'numpy.int64'>'\n",
       "\twith 20 stored elements in Compressed Sparse Row format>"
      ]
     },
     "execution_count": 6,
     "metadata": {},
     "output_type": "execute_result"
    }
   ],
   "source": [
    "pkn.adjacency_matrix()"
   ]
  },
  {
   "cell_type": "markdown",
   "metadata": {},
   "source": [
    "# checking `CNOBase`\n",
    "This is an abstract class. Other formalisms will use it.\n"
   ]
  },
  {
   "cell_type": "markdown",
   "metadata": {},
   "source": [
    "# Checking Boolean formalism"
   ]
  },
  {
   "cell_type": "code",
   "execution_count": 3,
   "metadata": {},
   "outputs": [],
   "source": [
    "model = CNOBase(pknmodel=\"../nn_cno/datasets/ToyMSB2009/PKN-ToyMSB2009.sif\", data = \"./datasets/ToyMSB2009/MD-ToyMSB2009.csv\",verbose = True)"
   ]
  },
  {
   "cell_type": "code",
   "execution_count": 4,
   "metadata": {},
   "outputs": [
    {
     "name": "stderr",
     "output_type": "stream",
     "text": [
      "/Users/gabora/Documents/SaezGroup/LocalGitRepo/NN_cellnopt/tmp/nn_cno/../nn_cno/io/midas.py:2523: RuntimeWarning: invalid value encountered in true_divide\n",
      "  return self.values / float(self.values.max())\n",
      "/Users/gabora/Documents/SaezGroup/LocalGitRepo/NN_cellnopt/tmp/nn_cno/../nn_cno/io/midas.py:2650: RuntimeWarning: All-NaN axis encountered\n",
      "  if np.isnan(np.nanmax(values)):\n"
     ]
    },
    {
     "data": {
      "image/png": "[encoded data removed]",
      "text/plain": [
       "<Figure size 432x288 with 6 Axes>"
      ]
     },
     "metadata": {
      "needs_background": "light"
     },
     "output_type": "display_data"
    }
   ],
   "source": [
    "model.plot_midas()"
   ]
  },
  {
   "cell_type": "code",
   "execution_count": 5,
   "metadata": {},
   "outputs": [
    {
     "data": {
      "image/png": "[encoded data removed]",
      "text/plain": [
       "<Figure size 432x288 with 1 Axes>"
      ]
     },
     "metadata": {},
     "output_type": "display_data"
    }
   ],
   "source": [
    "model.plot_pknmodel()"
   ]
  },
  {
   "cell_type": "markdown",
   "metadata": {},
   "source": [
    "# `ODE` model\n"
   ]
  },
  {
   "cell_type": "code",
   "execution_count": 3,
   "metadata": {},
   "outputs": [],
   "source": [
    "import sys\n",
    "sys.path.insert(0, '../')\n",
    "from nn_cno import cnodata, NNODE,CNOBase\n",
    "# !pip install sympy\n",
    "import sympy as sym\n",
    "import networkx as nx\n",
    "import numpy as np\n",
    "import scipy.sparse as sp"
   ]
  },
  {
   "cell_type": "markdown",
   "metadata": {},
   "source": [
    "building the model from SIF and MIDAS"
   ]
  },
  {
   "cell_type": "code",
   "execution_count": 4,
   "metadata": {},
   "outputs": [],
   "source": [
    "c = NNODE(\"../nn_cno/datasets/working_case_study/PKN-test.sif\",\n",
    "    \"./datasets/working_case_study/MD-test.csv\")"
   ]
  },
  {
   "cell_type": "code",
   "execution_count": 5,
   "metadata": {},
   "outputs": [
    {
     "data": {
      "text/plain": [
       "NodeView(('TGFa', 'EGFR', 'Shc', 'Grb2Sos', 'Ras', 'Raf', 'MEK', 'ERK', 'PI3K', 'AKT', 'GSK3', 'IKKab', 'TNFa', 'TNFR', 'TRADD', 'C8', 'Ikb', 'NFkB', 'NFkB^Raf=MEK'))"
      ]
     },
     "execution_count": 5,
     "metadata": {},
     "output_type": "execute_result"
    }
   ],
   "source": [
    "# Note: model `nodes` keep AND relation as nodes:  NFkB^Raf=MEK\n",
    "c._model.nodes\n",
    "# len(c._model.nodes)"
   ]
  },
  {
   "cell_type": "code",
   "execution_count": 9,
   "metadata": {},
   "outputs": [
    {
     "name": "stderr",
     "output_type": "stream",
     "text": [
      "/Users/gabora/Documents/SaezGroup/LocalGitRepo/NN_cellnopt/tmp/nn_cno/../nn_cno/io/cnograph.py:1613: FutureWarning: adjacency_matrix will return a scipy.sparse array instead of a matrix in Networkx 3.0.\n",
      "  return nx.adjacency_matrix(self, nodelist=nodelist).astype(int)\n"
     ]
    }
   ],
   "source": [
    "# entry i,j corresponds to edge from i to j. \n",
    "\n",
    "adj = c._model.adjacency_matrix(nodelist=c._model.nodes).todense()\n"
   ]
  },
  {
   "cell_type": "markdown",
   "metadata": {},
   "source": [
    "Preprocessing: cut non-obserrvable and non-controllable. Right now we dont want expansion. "
   ]
  },
  {
   "cell_type": "code",
   "execution_count": 8,
   "metadata": {},
   "outputs": [],
   "source": [
    "c.preprocessing(expansion=False)"
   ]
  },
  {
   "cell_type": "code",
   "execution_count": 9,
   "metadata": {},
   "outputs": [
    {
     "data": {
      "image/png": "[encoded data removed]",
      "text/plain": [
       "<Figure size 432x288 with 1 Axes>"
      ]
     },
     "metadata": {},
     "output_type": "display_data"
    }
   ],
   "source": [
    "c.plot_pknmodel()"
   ]
  },
  {
   "cell_type": "code",
   "execution_count": 10,
   "metadata": {},
   "outputs": [
    {
     "data": {
      "image/png": "[encoded data removed]",
      "text/plain": [
       "<Figure size 432x288 with 1 Axes>"
      ]
     },
     "metadata": {},
     "output_type": "display_data"
    }
   ],
   "source": [
    "c.plot_model()"
   ]
  },
  {
   "cell_type": "code",
   "execution_count": 14,
   "metadata": {},
   "outputs": [
    {
     "name": "stderr",
     "output_type": "stream",
     "text": [
      "/var/folders/cx/9kyr3rt90c974wdygym_lhgh0000gn/T/ipykernel_47560/3932443868.py:1: FutureWarning: adjacency_matrix will return a scipy.sparse array instead of a matrix in Networkx 3.0.\n",
      "  adj = nx.adjacency_matrix(c._model).todense()\n"
     ]
    },
    {
     "data": {
      "text/plain": [
       "matrix([[0, 1, 0, 1, 0, 0, 0, 0, 0],\n",
       "        [0, 0, 0, 0, 0, 0, 0, 0, 1],\n",
       "        [0, 0, 0, 0, 0, 0, 0, 0, 0],\n",
       "        [0, 0, 0, 0, 1, 0, 0, 1, 0],\n",
       "        [0, 0, 0, 0, 0, 0, 0, 0, 0],\n",
       "        [0, 0, 0, 0, 0, 0, 1, 1, 0],\n",
       "        [0, 0, 0, 0, 0, 0, 0, 0, 0],\n",
       "        [0, 0, 0, 0, 0, 0, 0, 0, 1],\n",
       "        [0, 0, 1, 0, 0, 0, 0, 0, 0]])"
      ]
     },
     "execution_count": 14,
     "metadata": {},
     "output_type": "execute_result"
    }
   ],
   "source": [
    "adj = nx.adjacency_matrix(c._model).todense()\n",
    "adj"
   ]
  },
  {
   "cell_type": "code",
   "execution_count": 15,
   "metadata": {},
   "outputs": [
    {
     "data": {
      "text/plain": [
       "{'attr_dict': None,\n",
       " 'link': '-',\n",
       " 'color': 'red',\n",
       " 'arrowhead': 'tee',\n",
       " 'penwidth': 1}"
      ]
     },
     "execution_count": 15,
     "metadata": {},
     "output_type": "execute_result"
    }
   ],
   "source": [
    "c._model.edges[\"PI3K\",\"AKT\"]"
   ]
  },
  {
   "cell_type": "code",
   "execution_count": 46,
   "metadata": {},
   "outputs": [
    {
     "data": {
      "text/plain": [
       "[('TNFa', 'NFkB', '+')]"
      ]
     },
     "execution_count": 46,
     "metadata": {},
     "output_type": "execute_result"
    }
   ],
   "source": [
    "c._model.reactions[0]\n",
    "\n",
    "c._model.reac2edges(c._model.reactions[6])"
   ]
  },
  {
   "cell_type": "code",
   "execution_count": 6,
   "metadata": {},
   "outputs": [],
   "source": [
    "states = c._model._get_namesSpecies()\n",
    "observables = c._model.midas.signals\n",
    "stimuli = c._model.midas.stimuli\n",
    "inhibitors = c._model.midas.inhibitors"
   ]
  },
  {
   "cell_type": "markdown",
   "metadata": {},
   "source": [
    "# building up the tools for ODE modelling\n",
    "\n",
    "Let's assume we have a parameterized ODE model: \n",
    "\n",
    "`dx/dt = f(x,t,k,u)`\n",
    "\n",
    "we want to solve the equations given some inital values (`x0`), time domain (`t \\in [t_0, t_end]`) paramters `k` and input `u`. \n",
    "The right hand side `f(x,t,k,u)` is defined based on the PKN and MIDAS files.\n",
    "\n",
    "I can see multiple options:\n",
    "\n",
    "1. use PySB under the hood: maybe we could formulate reaction kinetics which could represent the information flow formalism. I think this is not really good, because it is just a workaround. Also I dont think they are compatible with jax.\n",
    "2. generate the ODE system with Sympy. We could represent the whole ODE right hand side as an array of symbolic expressions, which could be evaluated at any point in the statespace. + there is a library( https://github.com/MilesCranmer/sympy2jax) which connects it to jax . This looks reasonable, but I dont know how much overhead is generated if we need to evaluate the array of  symbolic expressions 1k times for a single simulation. \n",
    "3. based on the model (SIF + MIDAS) we generate the adjacency matrix and other utility arrays and then we create a function that builds the right hand side of the ODE every time it is called by looking through the adjacency matrix. (this is the way logicODE is implemented in C). Since this involves only basic arithmetics and for loops, ifs, jax should be compatible with it. \n",
    "4. we use Sympy for the the symbolic building of the equation system and then we just write out the symbolic expressions as strings in a function. with string manipulation we make it compatible with jax. We did something similar during my phd: we got the model in MATLAB, then we wrote a  C-file and compiled it before the optimization started. In this case we would write a python file/function. \n",
    "5. we learn a new language: D"
   ]
  },
  {
   "cell_type": "markdown",
   "metadata": {},
   "source": [
    "### Generate the right hand side on the fly"
   ]
  },
  {
   "cell_type": "markdown",
   "metadata": {},
   "source": [
    "What do we need for the right hand side?\n",
    "For a given state\n",
    "- the incoming edges\n",
    "- the sign of the edge\n",
    "- boolean relationship of the edges. \n",
    "\n",
    "For Avlant's type network we only need the "
   ]
  },
  {
   "cell_type": "code",
   "execution_count": 11,
   "metadata": {},
   "outputs": [
    {
     "data": {
      "image/png": "[encoded data removed]",
      "text/plain": [
       "<Figure size 432x288 with 1 Axes>"
      ]
     },
     "metadata": {},
     "output_type": "display_data"
    }
   ],
   "source": [
    "c.plot_model()\n",
    "\n",
    "    "
   ]
  },
  {
   "cell_type": "markdown",
   "metadata": {},
   "source": [
    "## Hand-written equations"
   ]
  },
  {
   "cell_type": "code",
   "execution_count": 12,
   "metadata": {},
   "outputs": [],
   "source": [
    "# States\n",
    "TGFa = sym.symbols(\"TGFa\")\n",
    "TNFa = sym.symbols(\"TNFa\")\n",
    "PI3K = sym.symbols(\"PI3K\")\n",
    "Raf = sym.symbols(\"Raf\")\n",
    "NFkB = sym.symbols(\"NFkB\")\n",
    "AKT = sym.symbols(\"AKT\")\n",
    "C8 = sym.symbols(\"C8\")\n",
    "ERK = sym.symbols(\"ERK\")\n",
    "\n",
    "# Tau - one for each state\n",
    "t_TGFa = sym.symbols(\"t_TGFa\")\n",
    "t_TNFa = sym.symbols(\"t_TNFa\")\n",
    "t_PI3K = sym.symbols(\"t_PI3K\")\n",
    "t_Raf = sym.symbols(\"t_Raf\")\n",
    "t_NFkB = sym.symbols(\"t_NFkB\")\n",
    "t_AKT = sym.symbols(\"t_AKT\")\n",
    "t_C8 = sym.symbols(\"t_C8\")\n",
    "t_ERK = sym.symbols(\"t_ERK\")\n",
    "\n",
    "# n and k for each edge\n",
    "TGFa_k_PI3K = sym.symbols(\"TGFa_k_PI3K\")\n",
    "TGFa_k_Raf = sym.symbols(\"TGFa_k_Raf\")\n",
    "TNFa_k_NFkB = sym.symbols(\"TNFa_k_NFkB\")\n",
    "TNFa_k_C8 = sym.symbols(\"TNFa_k_C8\")\n",
    "PI3K_k_AKT = sym.symbols(\"PI3K_k_AKT\")\n",
    "PI3K_k_NFkB = sym.symbols(\"PI3K_k_NFkB\")\n",
    "Raf_k_ERK = sym.symbols(\"Raf_k_ERK\")\n",
    "NFkB_k_ERK = sym.symbols(\"NFkB_k_ERK\")\n",
    "\n",
    "TGFa_n_PI3K = sym.symbols(\"TGFa_n_PI3K\")\n",
    "TGFa_n_Raf = sym.symbols(\"TGFa_n_Raf\")\n",
    "TNFa_n_NFkB = sym.symbols(\"TNFa_n_NFkB\")\n",
    "TNFa_n_C8 = sym.symbols(\"TNFa_n_C8\")\n",
    "PI3K_n_AKT = sym.symbols(\"PI3K_n_AKT\")\n",
    "PI3K_n_NFkB = sym.symbols(\"PI3K_n_NFkB\")\n",
    "Raf_n_ERK = sym.symbols(\"Raf_n_ERK\")\n",
    "NFkB_n_ERK = sym.symbols(\"NFkB_n_ERK\")\n",
    "\n",
    "# state names: \n",
    "sym_states = [TGFa, TNFa, PI3K, Raf, NFkB,AKT,C8,ERK]\n",
    "state_names = [\"TGFa\", \"TNFa\", \"PI3K\", \"Raf\", \"NFkB\",\"AKT\",\"C8\",\"ERK\"]\n",
    "# parameter names: tau, n and k parameters\n",
    "parameter_names = [ [\"t_TGFa\", \"t_TNFa\", \"t_PI3K\", \"t_Raf\", \"t_NFkB\",\"t_AKT\",\"t_C8\",\"t_ERK\"],\n",
    "                    [\"TGFa_n_PI3K\", \"TGFa_n_Raf\", \"TNFa_n_NFkB\", \"TNFa_n_C8\",\"PI3K_n_AKT\",\"PI3K_n_NFkB\",\"Raf_n_ERK\",\"NFkB_n_ERK\"],\n",
    "                    [\"TGFa_k_PI3K\", \"TGFa_k_Raf\", \"TNFa_k_NFkB\", \"TNFa_k_C8\",\"PI3K_k_AKT\",\"PI3K_k_NFkB\",\"Raf_k_ERK\",\"NFkB_k_ERK\"]\n",
    "                    ]\n",
    "\n",
    "sym_parmeters =  [ t_TGFa, t_TNFa, t_PI3K, t_Raf, t_NFkB,t_AKT,t_C8,t_ERK,\n",
    "                    TGFa_n_PI3K, TGFa_n_Raf, TNFa_n_NFkB, TNFa_n_C8,PI3K_n_AKT,PI3K_n_NFkB,Raf_n_ERK,NFkB_n_ERK,\n",
    "                    TGFa_k_PI3K, TGFa_k_Raf, TNFa_k_NFkB, TNFa_k_C8,PI3K_k_AKT,PI3K_k_NFkB,Raf_k_ERK,NFkB_k_ERK\n",
    "                    ]               \n"
   ]
  },
  {
   "cell_type": "code",
   "execution_count": 13,
   "metadata": {},
   "outputs": [
    {
     "data": {
      "image/png": "[encoded data removed]",
      "text/plain": [
       "<Figure size 432x288 with 1 Axes>"
      ]
     },
     "metadata": {},
     "output_type": "display_data"
    }
   ],
   "source": [
    "c.plot_model()"
   ]
  },
  {
   "cell_type": "code",
   "execution_count": 17,
   "metadata": {},
   "outputs": [],
   "source": [
    "# normalised Hill equations (for each reactions) ( x^n / (k^n + x^n) * {1/(1/k^n + 1)} )\n",
    "def norm_hill_fun(parental_var,n,k):\n",
    "    return parental_var**n / (k**n + parental_var**n) * (k**n + 1)\n",
    "\n",
    "def ORgate(x,y):\n",
    "    return x+y-x*y \n",
    "    \n",
    "def ANDgate(x,y):\n",
    "    return x*y "
   ]
  },
  {
   "cell_type": "code",
   "execution_count": 83,
   "metadata": {},
   "outputs": [],
   "source": [
    "def get_sym_right_hand_side(iEXP = 0):\n",
    "    # right hand sides\n",
    "    f_TGFa = 0\n",
    "    f_TNFa = 0\n",
    "\n",
    "    if inhibitors[\"PI3K\"][iEXP] == 1:\n",
    "        f_PI3K = PI3K - PI3K  # 0, but symbolic:D\n",
    "    else:\n",
    "        f_PI3K = t_PI3K*(norm_hill_fun(TGFa,TGFa_n_PI3K,TGFa_k_PI3K) - PI3K)\n",
    "\n",
    "    if inhibitors[\"Raf\"][iEXP] == 1:\n",
    "        f_Raf = Raf - Raf\n",
    "    else:\n",
    "        f_Raf = t_Raf*(norm_hill_fun(TGFa,TGFa_n_Raf,TGFa_k_Raf) - Raf)\n",
    "\n",
    "    f_NFkB = t_NFkB*(ORgate(norm_hill_fun(PI3K,PI3K_n_NFkB,PI3K_k_NFkB),norm_hill_fun(TNFa,TNFa_n_NFkB,TNFa_k_NFkB)) - NFkB )\n",
    "        \n",
    "    f_AKT = t_AKT*(1-norm_hill_fun(PI3K,PI3K_n_AKT,PI3K_k_AKT) - AKT)\n",
    "    f_C8 = t_C8 * (norm_hill_fun(TNFa,TNFa_n_C8,TNFa_k_C8) - C8)\n",
    "    f_ERK = t_ERK * (ANDgate(norm_hill_fun(Raf,Raf_n_ERK,Raf_k_ERK),norm_hill_fun(NFkB,NFkB_n_ERK,NFkB_k_ERK)) - ERK)\n",
    "\n",
    "    return [f_TGFa,f_TNFa,f_PI3K,f_Raf,f_NFkB,f_AKT,f_C8,f_ERK]"
   ]
  },
  {
   "cell_type": "code",
   "execution_count": 84,
   "metadata": {},
   "outputs": [
    {
     "data": {
      "text/plain": [
       "[0,\n",
       " 0,\n",
       " t_PI3K*(-PI3K + TGFa**TGFa_n_PI3K*(TGFa_k_PI3K**TGFa_n_PI3K + 1)/(TGFa**TGFa_n_PI3K + TGFa_k_PI3K**TGFa_n_PI3K)),\n",
       " t_Raf*(-Raf + TGFa**TGFa_n_Raf*(TGFa_k_Raf**TGFa_n_Raf + 1)/(TGFa**TGFa_n_Raf + TGFa_k_Raf**TGFa_n_Raf)),\n",
       " t_NFkB*(-NFkB - PI3K**PI3K_n_NFkB*TNFa**TNFa_n_NFkB*(PI3K_k_NFkB**PI3K_n_NFkB + 1)*(TNFa_k_NFkB**TNFa_n_NFkB + 1)/((PI3K**PI3K_n_NFkB + PI3K_k_NFkB**PI3K_n_NFkB)*(TNFa**TNFa_n_NFkB + TNFa_k_NFkB**TNFa_n_NFkB)) + PI3K**PI3K_n_NFkB*(PI3K_k_NFkB**PI3K_n_NFkB + 1)/(PI3K**PI3K_n_NFkB + PI3K_k_NFkB**PI3K_n_NFkB) + TNFa**TNFa_n_NFkB*(TNFa_k_NFkB**TNFa_n_NFkB + 1)/(TNFa**TNFa_n_NFkB + TNFa_k_NFkB**TNFa_n_NFkB)),\n",
       " t_AKT*(-AKT - PI3K**PI3K_n_AKT*(PI3K_k_AKT**PI3K_n_AKT + 1)/(PI3K**PI3K_n_AKT + PI3K_k_AKT**PI3K_n_AKT) + 1),\n",
       " t_C8*(-C8 + TNFa**TNFa_n_C8*(TNFa_k_C8**TNFa_n_C8 + 1)/(TNFa**TNFa_n_C8 + TNFa_k_C8**TNFa_n_C8)),\n",
       " t_ERK*(-ERK + NFkB**NFkB_n_ERK*Raf**Raf_n_ERK*(NFkB_k_ERK**NFkB_n_ERK + 1)*(Raf_k_ERK**Raf_n_ERK + 1)/((NFkB**NFkB_n_ERK + NFkB_k_ERK**NFkB_n_ERK)*(Raf**Raf_n_ERK + Raf_k_ERK**Raf_n_ERK)))]"
      ]
     },
     "execution_count": 84,
     "metadata": {},
     "output_type": "execute_result"
    }
   ],
   "source": [
    "iexp  =0\n",
    "f_sym = get_sym_right_hand_side(iEXP=iexp)\n",
    "f_sym"
   ]
  },
  {
   "cell_type": "markdown",
   "metadata": {},
   "source": [
    "## Evaluate the equation at a random point in statespace and paraemeter"
   ]
  },
  {
   "cell_type": "code",
   "execution_count": 64,
   "metadata": {},
   "outputs": [],
   "source": [
    "from random import seed\n",
    "from random import random"
   ]
  },
  {
   "cell_type": "code",
   "execution_count": 85,
   "metadata": {},
   "outputs": [],
   "source": [
    "# generate random numbers for the parameters\n",
    "\n",
    "tau_parameter_value = [random() for _ in range(len(parameter_names[0]))]\n",
    "k_parameter_value = [random()*5 for _ in range(len(parameter_names[1]))]\n",
    "n_parameter_value = [1+random() for _ in range(len(parameter_names[2]))]\n",
    "\n",
    "parameter_values = [*tau_parameter_value,*n_parameter_value,*k_parameter_value]\n",
    "\n",
    "# generate state vector\n",
    "states_value = [random() for _ in range(len(state_names))]\n"
   ]
  },
  {
   "cell_type": "code",
   "execution_count": 86,
   "metadata": {},
   "outputs": [
    {
     "data": {
      "text/plain": [
       "{'t_TGFa': 0.24806870247310475,\n",
       " 't_TNFa': 0.019819464029554368,\n",
       " 't_PI3K': 0.049078483044040166,\n",
       " 't_Raf': 0.745558396321735,\n",
       " 't_NFkB': 0.8244180836179712,\n",
       " 't_AKT': 0.8735909907184092,\n",
       " 't_C8': 0.5242222393442514,\n",
       " 't_ERK': 0.4945263755878635,\n",
       " 'TGFa_n_PI3K': 1.3889621131031504,\n",
       " 'TGFa_n_Raf': 1.6004410512118814,\n",
       " 'TNFa_n_NFkB': 1.7721449227350559,\n",
       " 'TNFa_n_C8': 1.7151400466069369,\n",
       " 'PI3K_n_AKT': 1.0650959821510289,\n",
       " 'PI3K_n_NFkB': 1.240793718942087,\n",
       " 'Raf_n_ERK': 1.3881565509287674,\n",
       " 'NFkB_n_ERK': 1.7383889916035853,\n",
       " 'TGFa_k_PI3K': 0.30926590205655746,\n",
       " 'TGFa_k_Raf': 1.4890436554021251,\n",
       " 'TNFa_k_NFkB': 4.760775129514723,\n",
       " 'TNFa_k_C8': 4.77715842973746,\n",
       " 'PI3K_k_AKT': 2.5595953299882557,\n",
       " 'PI3K_k_NFkB': 2.257955966363554,\n",
       " 'Raf_k_ERK': 2.8475045442321205,\n",
       " 'NFkB_k_ERK': 4.442811434974275,\n",
       " 'TGFa': 0.6127126572370717,\n",
       " 'TNFa': 0.5897872491602009,\n",
       " 'PI3K': 0.9375332576741583,\n",
       " 'Raf': 0.6324703027030472,\n",
       " 'NFkB': 0.30133556581681553,\n",
       " 'AKT': 0.8458070318878126,\n",
       " 'C8': 0.11711080383588746,\n",
       " 'ERK': 0.5599991607117513}"
      ]
     },
     "execution_count": 86,
     "metadata": {},
     "output_type": "execute_result"
    }
   ],
   "source": [
    "# to evaluate the symbolic expression, we need to create dictionaries with symbols and points\n",
    "parameter_names_flat = [parameter for parameter_type in parameter_names for parameter in parameter_type ]\n",
    "parameters = dict(zip(parameter_names_flat, parameter_values))\n",
    "parameters\n",
    "\n",
    "statespace = dict(zip(state_names, states_value))\n",
    "\n",
    "all_vars = dict(parameters,**statespace)\n",
    "all_vars"
   ]
  },
  {
   "cell_type": "code",
   "execution_count": 130,
   "metadata": {},
   "outputs": [
    {
     "data": {
      "text/plain": [
       "[0,\n",
       " 0,\n",
       " -0.00369184752579601,\n",
       " -0.0523439097751542,\n",
       " 0.547844533359376,\n",
       " -0.695704142477518,\n",
       " 0.158959070272520,\n",
       " -0.238889422103093]"
      ]
     },
     "execution_count": 130,
     "metadata": {},
     "output_type": "execute_result"
    }
   ],
   "source": [
    "f_num = list()\n",
    "for f in f_sym:\n",
    "    if f==0:\n",
    "        f_num.append(0)\n",
    "    else:\n",
    "        f_num.append(f.evalf(subs=all_vars))\n",
    "f_num"
   ]
  },
  {
   "cell_type": "code",
   "execution_count": 35,
   "metadata": {},
   "outputs": [
    {
     "name": "stdout",
     "output_type": "stream",
     "text": [
      "              TGFa  TNFa\n",
      "experiment_0     1     0\n",
      "experiment_1     0     1\n",
      "experiment_2     1     1\n",
      "experiment_3     1     0\n",
      "experiment_4     1     1\n",
      "experiment_5     1     0\n"
     ]
    }
   ],
   "source": [
    "states = c._model._get_namesSpecies()\n",
    "observables = c._model.midas.signals\n",
    "stimuli = c._model.midas.stimuli\n",
    "inhibitors = c._model.midas.inhibitors\n",
    "print(stimuli)"
   ]
  },
  {
   "cell_type": "markdown",
   "metadata": {},
   "source": [
    "## Use Sympy2jax"
   ]
  },
  {
   "cell_type": "code",
   "execution_count": 90,
   "metadata": {},
   "outputs": [],
   "source": [
    "# !pip install git+https://github.com/MilesCranmer/sympy2jax.git"
   ]
  },
  {
   "cell_type": "markdown",
   "metadata": {},
   "source": [
    "\n"
   ]
  },
  {
   "cell_type": "code",
   "execution_count": 67,
   "metadata": {},
   "outputs": [],
   "source": [
    "import jax\n",
    "import jax.numpy as jnp\n",
    "from jax import random as jxrandom\n",
    "from sympy2jax import sympy2jax"
   ]
  },
  {
   "cell_type": "code",
   "execution_count": 107,
   "metadata": {},
   "outputs": [
    {
     "data": {
      "text/plain": [
       "[0,\n",
       " 0,\n",
       " t_PI3K*(-PI3K + TGFa**TGFa_n_PI3K*(TGFa_k_PI3K**TGFa_n_PI3K + 1)/(TGFa**TGFa_n_PI3K + TGFa_k_PI3K**TGFa_n_PI3K)),\n",
       " t_Raf*(-Raf + TGFa**TGFa_n_Raf*(TGFa_k_Raf**TGFa_n_Raf + 1)/(TGFa**TGFa_n_Raf + TGFa_k_Raf**TGFa_n_Raf)),\n",
       " t_NFkB*(-NFkB - PI3K**PI3K_n_NFkB*TNFa**TNFa_n_NFkB*(PI3K_k_NFkB**PI3K_n_NFkB + 1)*(TNFa_k_NFkB**TNFa_n_NFkB + 1)/((PI3K**PI3K_n_NFkB + PI3K_k_NFkB**PI3K_n_NFkB)*(TNFa**TNFa_n_NFkB + TNFa_k_NFkB**TNFa_n_NFkB)) + PI3K**PI3K_n_NFkB*(PI3K_k_NFkB**PI3K_n_NFkB + 1)/(PI3K**PI3K_n_NFkB + PI3K_k_NFkB**PI3K_n_NFkB) + TNFa**TNFa_n_NFkB*(TNFa_k_NFkB**TNFa_n_NFkB + 1)/(TNFa**TNFa_n_NFkB + TNFa_k_NFkB**TNFa_n_NFkB)),\n",
       " t_AKT*(-AKT - PI3K**PI3K_n_AKT*(PI3K_k_AKT**PI3K_n_AKT + 1)/(PI3K**PI3K_n_AKT + PI3K_k_AKT**PI3K_n_AKT) + 1),\n",
       " t_C8*(-C8 + TNFa**TNFa_n_C8*(TNFa_k_C8**TNFa_n_C8 + 1)/(TNFa**TNFa_n_C8 + TNFa_k_C8**TNFa_n_C8)),\n",
       " t_ERK*(-ERK + NFkB**NFkB_n_ERK*Raf**Raf_n_ERK*(NFkB_k_ERK**NFkB_n_ERK + 1)*(Raf_k_ERK**Raf_n_ERK + 1)/((NFkB**NFkB_n_ERK + NFkB_k_ERK**NFkB_n_ERK)*(Raf**Raf_n_ERK + Raf_k_ERK**Raf_n_ERK)))]"
      ]
     },
     "execution_count": 107,
     "metadata": {},
     "output_type": "execute_result"
    }
   ],
   "source": [
    "f_sym"
   ]
  },
  {
   "cell_type": "code",
   "execution_count": 108,
   "metadata": {},
   "outputs": [
    {
     "data": {
      "text/plain": [
       "[<function sympy2jax.sympy2jax.A_6581646506665418780(X, parameters)>,\n",
       " DeviceArray([], dtype=float32)]"
      ]
     },
     "execution_count": 108,
     "metadata": {},
     "output_type": "execute_result"
    }
   ],
   "source": [
    "all_syms = [*sym_states, *sym_parmeters]\n",
    "f, params = sympy2jax(f_sym[2], all_syms)\n",
    "[f,params]"
   ]
  },
  {
   "cell_type": "code",
   "execution_count": 184,
   "metadata": {},
   "outputs": [
    {
     "data": {
      "text/plain": [
       "[0,\n",
       " 0,\n",
       " <CompiledFunction of <function A_6581646506665418780 at 0x17f942830>>,\n",
       " <CompiledFunction of <function A_7172271921439507574 at 0x17f870550>>,\n",
       " <CompiledFunction of <function A_7146026473014885935 at 0x17f943880>>,\n",
       " <CompiledFunction of <function A_6531080637716055163 at 0x17f9c01f0>>,\n",
       " <CompiledFunction of <function A_7863004282203829784 at 0x17f9c0790>>,\n",
       " <CompiledFunction of <function A_952042363320530601 at 0x17f9c0d30>>]"
      ]
     },
     "execution_count": 184,
     "metadata": {},
     "output_type": "execute_result"
    }
   ],
   "source": [
    "all_syms = [*sym_states, *sym_parmeters]\n",
    "\n",
    "# Construct a list of jax functions. \n",
    "f_jax = list()\n",
    "f_jax_params = list()\n",
    "for i_f_sym in f_sym:\n",
    "    if i_f_sym==0:\n",
    "        f_jax.append(0)\n",
    "        f_jax_params.append(0)\n",
    "    else:\n",
    "        f, params = sympy2jax(i_f_sym, all_syms)\n",
    "        f_jax.append(jax.jit(f))\n",
    "        f_jax_params.append(params)\n",
    "        \n",
    "\n",
    "f_jax\n",
    "\n",
    "#f, params = sympy2jax(eq3, all_syms)"
   ]
  },
  {
   "cell_type": "code",
   "execution_count": 185,
   "metadata": {},
   "outputs": [],
   "source": [
    "myargs = [f_jax, f_jax_params, parameter_values]\n",
    "\n",
    "def nice_ode(t, y, args):\n",
    "\n",
    "    # get my data: \n",
    "    f_jax = args[0]\n",
    "    f_jax_p = args[1]\n",
    "    parameter_vals = args[2]\n",
    "\n",
    "    jax_pars = [*y,*parameter_vals]\n",
    "    fy = list()\n",
    "\n",
    "    for i in range(len(y)):\n",
    "        if f_jax[i] == 0:\n",
    "            fy.append(jnp.array([0.0,])[0])\n",
    "        else:\n",
    "            fy.append(f_jax[i](jnp.array([jax_pars,]),f_jax_p[1])[0])\n",
    "    return jnp.asarray(fy)"
   ]
  },
  {
   "cell_type": "code",
   "execution_count": 186,
   "metadata": {},
   "outputs": [
    {
     "data": {
      "text/plain": [
       "DeviceArray([ 0.        ,  0.        , -0.00369185, -0.05234392,\n",
       "              0.5478445 , -0.69570416,  0.15895906, -0.23888944],            dtype=float32)"
      ]
     },
     "execution_count": 186,
     "metadata": {},
     "output_type": "execute_result"
    }
   ],
   "source": [
    "# test the right hand side function\n",
    "y = np.array(list(statespace.values()))\n",
    "nice_ode(0,y,myargs)\n",
    "\n"
   ]
  },
  {
   "cell_type": "code",
   "execution_count": 172,
   "metadata": {},
   "outputs": [],
   "source": [
    "from diffrax import diffeqsolve, ODETerm, Dopri5, SaveAt\n",
    "import jax.numpy as jnp"
   ]
  },
  {
   "cell_type": "code",
   "execution_count": 155,
   "metadata": {},
   "outputs": [
    {
     "data": {
      "text/plain": [
       "DeviceArray([1., 1., 0., 0., 0., 0., 0., 0.], dtype=float32)"
      ]
     },
     "execution_count": 155,
     "metadata": {},
     "output_type": "execute_result"
    }
   ],
   "source": [
    "y0.transpose()"
   ]
  },
  {
   "cell_type": "code",
   "execution_count": 187,
   "metadata": {},
   "outputs": [],
   "source": [
    "ts = jnp.linspace(0, 10, 100)\n",
    "\n",
    "\n",
    "term = ODETerm(nice_ode)\n",
    "solver = Dopri5()\n",
    "y0 = jnp.array([1., 1., 0., 0., 0., 0., 0., 0.])\n",
    "solution = diffeqsolve(term, solver, t0=0, t1=10, dt0=0.1, y0=y0, args = myargs,saveat=SaveAt(ts=ts))"
   ]
  },
  {
   "cell_type": "code",
   "execution_count": 166,
   "metadata": {},
   "outputs": [],
   "source": [
    "import matplotlib.pyplot as plt"
   ]
  },
  {
   "cell_type": "code",
   "execution_count": 188,
   "metadata": {},
   "outputs": [
    {
     "data": {
      "image/png": "[encoded data removed]",
      "text/plain": [
       "<Figure size 432x288 with 1 Axes>"
      ]
     },
     "metadata": {
      "needs_background": "light"
     },
     "output_type": "display_data"
    }
   ],
   "source": [
    "ts = solution.ts\n",
    "ys = solution.ys\n",
    "\n",
    "for istate in range(len(state_names)):\n",
    "    plt.plot(ts, ys[:, istate],label=state_names[istate])\n",
    "plt.legend()\n",
    "plt.show()\n",
    "    "
   ]
  },
  {
   "cell_type": "code",
   "execution_count": null,
   "metadata": {},
   "outputs": [],
   "source": []
  }
 ],
 "metadata": {
  "interpreter": {
   "hash": "3bd868a791ae3f2e25c037fe0842082b59576b23b402251a9a0f392799515c5f"
  },
  "kernelspec": {
   "display_name": "Python 3.10.4 ('jax_ode')",
   "language": "python",
   "name": "python3"
  },
  "language_info": {
   "codemirror_mode": {
    "name": "ipython",
    "version": 3
   },
   "file_extension": ".py",
   "mimetype": "text/x-python",
   "name": "python",
   "nbconvert_exporter": "python",
   "pygments_lexer": "ipython3",
   "version": "3.10.4"
  },
  "orig_nbformat": 4
 },
 "nbformat": 4,
 "nbformat_minor": 2
}
