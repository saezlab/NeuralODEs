{
 "cells": [
  {
   "cell_type": "markdown",
   "metadata": {},
   "source": [
    "Here we use `nn_cno` to load a `sif` file into `networkx`, then we derive logicODE equations\n"
   ]
  },
  {
   "cell_type": "markdown",
   "metadata": {},
   "source": [
    "# Automatic equation generation"
   ]
  },
  {
   "cell_type": "code",
   "execution_count": 6,
   "metadata": {},
   "outputs": [],
   "source": [
    "import sys\n",
    "sys.path.insert(0, '../')\n",
    "from nn_cno import NNODE\n",
    "import sympy as sym"
   ]
  },
  {
   "cell_type": "code",
   "execution_count": 7,
   "metadata": {},
   "outputs": [],
   "source": [
    "c = NNODE(\"../nn_cno/datasets/working_case_study/PKN-test.sif\",\n",
    "    \"./datasets/working_case_study/MD-test.csv\")\n",
    "c.preprocessing(expansion=False)"
   ]
  },
  {
   "cell_type": "code",
   "execution_count": 8,
   "metadata": {},
   "outputs": [
    {
     "data": {
      "text/plain": [
       "['AKT', 'C8', 'ERK', 'NFkB', 'PI3K', 'Raf', 'TGFa', 'TNFa']"
      ]
     },
     "execution_count": 8,
     "metadata": {},
     "output_type": "execute_result"
    }
   ],
   "source": [
    "c._model.species"
   ]
  },
  {
   "cell_type": "code",
   "execution_count": 9,
   "metadata": {},
   "outputs": [],
   "source": [
    "# States\n",
    "states = c._model.species\n",
    "sym_states = sym.symbols(states)\n",
    "sym_tau = sym.symbols([\"tau_\"+s for s in states])\n",
    "\n",
    "reactions = c._model.reactions"
   ]
  },
  {
   "cell_type": "code",
   "execution_count": 10,
   "metadata": {},
   "outputs": [
    {
     "data": {
      "text/plain": [
       "[[('PI3K', 'AKT', '-')],\n",
       " [('NFkB', 'NFkB^Raf=ERK', '+'),\n",
       "  ('Raf', 'NFkB^Raf=ERK', '+'),\n",
       "  ('NFkB^Raf=ERK', 'ERK')],\n",
       " [('PI3K', 'NFkB', '+')],\n",
       " [('TGFa', 'PI3K', '+')],\n",
       " [('TGFa', 'Raf', '+')],\n",
       " [('TNFa', 'C8', '+')],\n",
       " [('TNFa', 'NFkB', '+')]]"
      ]
     },
     "execution_count": 10,
     "metadata": {},
     "output_type": "execute_result"
    }
   ],
   "source": [
    "[c._model.reac2edges(r) for r in reactions]"
   ]
  },
  {
   "cell_type": "code",
   "execution_count": 11,
   "metadata": {},
   "outputs": [],
   "source": [
    "# normalised Hill equations (for each reactions) ( x^n / (k^n + x^n) * {1/(1/k^n + 1)} )\n",
    "def norm_hill_fun(parental_var,n,k):\n",
    "    return parental_var**n / (k**n + parental_var**n) * (k**n + 1)\n",
    "\n",
    "def ORgate(x,y):\n",
    "    return x+y-x*y \n",
    "    \n",
    "def ANDgate(x,y):\n",
    "    return x*y "
   ]
  },
  {
   "cell_type": "code",
   "execution_count": 12,
   "metadata": {},
   "outputs": [],
   "source": [
    "def simple_reaction_to_sym(node,pred,sign):\n",
    "    par_k = sym.symbols(pred + \"_k_\" + node)\n",
    "    par_n = sym.symbols(pred + \"_n_\" + node)\n",
    "    pred_sym = sym.symbols(pred)\n",
    "    if sign == \"+\":\n",
    "        eqn = norm_hill_fun(pred_sym,par_n,par_k)\n",
    "    elif sign == \"-\":\n",
    "        eqn = 1-norm_hill_fun(pred_sym,par_n,par_k)\n",
    "    else:\n",
    "        raise Exception(\"unrecognised sign\")\n",
    "        \n",
    "    return ([par_k, par_n], eqn)"
   ]
  },
  {
   "cell_type": "code",
   "execution_count": 13,
   "metadata": {},
   "outputs": [
    {
     "data": {
      "text/plain": [
       "([B_k_A, B_n_A], -B**B_n_A*(B_k_A**B_n_A + 1)/(B**B_n_A + B_k_A**B_n_A) + 1)"
      ]
     },
     "execution_count": 13,
     "metadata": {},
     "output_type": "execute_result"
    }
   ],
   "source": [
    "simple_reaction_to_sym(\"A\",\"B\",\"-\")"
   ]
  },
  {
   "cell_type": "code",
   "execution_count": 14,
   "metadata": {},
   "outputs": [],
   "source": [
    "# creates the symbolic equations and parameters corresponding to and AND reaction\n",
    "# node: (str) the name of the node\n",
    "# and_inputs: vec(str,str) length-2 str vector storing the inputs of the AND gates.   \n",
    "def and_reaction_to_sym(node,and_inputs,signs):\n",
    "    eqns = list()\n",
    "    params = list()\n",
    "    for n,sign in zip(and_inputs,signs):\n",
    "        \n",
    "        par_k = sym.symbols(n + \"_k_\" + node)\n",
    "        par_n = sym.symbols(n + \"_n_\" + node)\n",
    "        pred_sym = sym.symbols(n)\n",
    "        if sign == \"+\":\n",
    "            eqn = norm_hill_fun(pred_sym,par_n,par_k)\n",
    "        elif sign == \"-\":\n",
    "            eqn = 1-norm_hill_fun(pred_sym,par_n,par_k)\n",
    "        else:\n",
    "            raise Exception(\"unrecognised sign\")\n",
    "        eqns.append(eqn)\n",
    "        params.append([par_k,par_n])\n",
    "\n",
    "    return(params,sym.prod(eqns))"
   ]
  },
  {
   "cell_type": "code",
   "execution_count": 15,
   "metadata": {},
   "outputs": [
    {
     "data": {
      "text/plain": [
       "([[A_k_C, A_n_C], [B_k_C, B_n_C]],\n",
       " A**A_n_C*(A_k_C**A_n_C + 1)*(-B**B_n_C*(B_k_C**B_n_C + 1)/(B**B_n_C + B_k_C**B_n_C) + 1)/(A**A_n_C + A_k_C**A_n_C))"
      ]
     },
     "execution_count": 15,
     "metadata": {},
     "output_type": "execute_result"
    }
   ],
   "source": [
    "and_reaction_to_sym(\"C\",[\"A\",\"B\"],[\"+\",\"-\"])"
   ]
  },
  {
   "cell_type": "code",
   "execution_count": 16,
   "metadata": {},
   "outputs": [],
   "source": [
    "# generate the right hand side for the node\n",
    "# 1. get the upstream nodes, 2 cases can happen: it is another node or it is an AND gate. \n",
    "# 1.1 If the upstream is a regular state, convert the reaction into a hill equation and get the parameters\n",
    "# 1.2 If AND gate, then we have to go up one level, compute the hill equation and apply the AND -rule. \n",
    "# 2. combine all the reactions with OR gates. \n",
    "# 3. add the tau parameter and substract the current state\n",
    "\n",
    "# inputs: \n",
    "#node = list(c._model.nodes -  c._model._find_and_nodes())[4]\n",
    "#G = c._model\n",
    "\n",
    "# body of the function: \n",
    "def construct_symbolic_rhs(node, G):\n",
    "    and_nodes = G._find_and_nodes()\n",
    "    if node in and_nodes:\n",
    "        raise Exception(\"node mustn't be an AND gate node\")\n",
    "\n",
    "    preds = list(G.predecessors(node))\n",
    "    if len(preds) == 0:\n",
    "        # no input edge: derivative is zero\n",
    "        sym_eq = 0\n",
    "        sym_parameters = []\n",
    "    else:\n",
    "        sym_reactions = list()\n",
    "        sym_parameters = list()\n",
    "\n",
    "        for i, pred in enumerate(preds):\n",
    "            # upstream node is not an AND node: \n",
    "            if pred not in and_nodes:\n",
    "                sign = G.get_edge_data(pred,node)['link']\n",
    "                p,r = simple_reaction_to_sym(pred,node,sign)\n",
    "                sym_reactions.append(r)\n",
    "                sym_parameters.append(p)\n",
    "                \n",
    "            # upstream is an AND node    \n",
    "            else:\n",
    "                and_inputs = list(G.predecessors(pred))\n",
    "\n",
    "                signs = [G.get_edge_data(inp,pred)[\"link\"] for inp in and_inputs]\n",
    "\n",
    "                p,r = and_reaction_to_sym(node,and_inputs,signs)\n",
    "                sym_reactions.append(r)\n",
    "                sym_parameters.append(p)\n",
    "        \n",
    "        # combine with OR gates\n",
    "        if len(preds)==1:\n",
    "            sym_eq = sym.symbols(\"tau_\"+node) * (sym_reactions[0] - sym.symbols(node))\n",
    "        else:\n",
    "            aggregated_or = sym_reactions[0]\n",
    "            for i in range(1,len(sym_reactions)):\n",
    "                aggregated_or = ORgate(aggregated_or,sym_reactions[i])\n",
    "            sym_eq = sym.symbols(\"tau_\"+node) * (aggregated_or - sym.symbols(node))\n",
    "\n",
    "    return (sym_eq, sym_parameters)\n",
    "\n",
    "            "
   ]
  },
  {
   "cell_type": "code",
   "execution_count": 17,
   "metadata": {},
   "outputs": [
    {
     "data": {
      "text/plain": [
       "[tau_Raf*(-Raf + Raf**Raf_n_TGFa*(Raf_k_TGFa**Raf_n_TGFa + 1)/(Raf**Raf_n_TGFa + Raf_k_TGFa**Raf_n_TGFa)),\n",
       " tau_NFkB*(-NFkB - NFkB**NFkB_n_PI3K*NFkB**NFkB_n_TNFa*(NFkB_k_PI3K**NFkB_n_PI3K + 1)*(NFkB_k_TNFa**NFkB_n_TNFa + 1)/((NFkB**NFkB_n_PI3K + NFkB_k_PI3K**NFkB_n_PI3K)*(NFkB**NFkB_n_TNFa + NFkB_k_TNFa**NFkB_n_TNFa)) + NFkB**NFkB_n_PI3K*(NFkB_k_PI3K**NFkB_n_PI3K + 1)/(NFkB**NFkB_n_PI3K + NFkB_k_PI3K**NFkB_n_PI3K) + NFkB**NFkB_n_TNFa*(NFkB_k_TNFa**NFkB_n_TNFa + 1)/(NFkB**NFkB_n_TNFa + NFkB_k_TNFa**NFkB_n_TNFa)),\n",
       " tau_AKT*(-AKT - AKT**AKT_n_PI3K*(AKT_k_PI3K**AKT_n_PI3K + 1)/(AKT**AKT_n_PI3K + AKT_k_PI3K**AKT_n_PI3K) + 1),\n",
       " 0,\n",
       " 0,\n",
       " tau_PI3K*(-PI3K + PI3K**PI3K_n_TGFa*(PI3K_k_TGFa**PI3K_n_TGFa + 1)/(PI3K**PI3K_n_TGFa + PI3K_k_TGFa**PI3K_n_TGFa)),\n",
       " tau_ERK*(-ERK + NFkB**NFkB_n_ERK*Raf**Raf_n_ERK*(NFkB_k_ERK**NFkB_n_ERK + 1)*(Raf_k_ERK**Raf_n_ERK + 1)/((NFkB**NFkB_n_ERK + NFkB_k_ERK**NFkB_n_ERK)*(Raf**Raf_n_ERK + Raf_k_ERK**Raf_n_ERK))),\n",
       " tau_C8*(-C8 + C8**C8_n_TNFa*(C8_k_TNFa**C8_n_TNFa + 1)/(C8**C8_n_TNFa + C8_k_TNFa**C8_n_TNFa))]"
      ]
     },
     "execution_count": 17,
     "metadata": {},
     "output_type": "execute_result"
    }
   ],
   "source": [
    "f_rhs_aut = list()\n",
    "for node in c._model.nodes -  c._model._find_and_nodes():\n",
    "    rhs, pars = construct_symbolic_rhs(node,c._model)\n",
    "    f_rhs_aut.append(rhs)\n",
    "    #print(rhs)\n",
    "    #print(pars)\n",
    "f_rhs_aut "
   ]
  }
 ],
 "metadata": {
  "interpreter": {
   "hash": "3bd868a791ae3f2e25c037fe0842082b59576b23b402251a9a0f392799515c5f"
  },
  "kernelspec": {
   "display_name": "Python 3.10.4 ('jax_ode')",
   "language": "python",
   "name": "python3"
  },
  "language_info": {
   "codemirror_mode": {
    "name": "ipython",
    "version": 3
   },
   "file_extension": ".py",
   "mimetype": "text/x-python",
   "name": "python",
   "nbconvert_exporter": "python",
   "pygments_lexer": "ipython3",
   "version": "3.10.4"
  },
  "orig_nbformat": 4
 },
 "nbformat": 4,
 "nbformat_minor": 2
}
